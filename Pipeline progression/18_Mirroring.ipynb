{
 "cells": [
  {
   "cell_type": "markdown",
   "metadata": {},
   "source": [
    "Ye ab tak ka code:"
   ]
  },
  {
   "cell_type": "code",
   "execution_count": 1,
   "metadata": {},
   "outputs": [],
   "source": [
    "import cv2\n",
    "import numpy as np\n",
    "import matplotlib.pyplot as plt\n",
    "import matplotlib.image as mpimg\n",
    "\n",
    "# Import everything needed to edit/save/watch video clips\n",
    "from moviepy.editor import VideoFileClip\n",
    "from IPython.display import HTML\n",
    "\n",
    "\n",
    "def process_image(frame):\n",
    "    \n",
    "    def cal_undistort(img):\n",
    "        # Reads mtx and dist matrices, peforms image distortion correction and returns the undistorted image\n",
    "\n",
    "        import pickle\n",
    "\n",
    "        # Read in the saved matrices\n",
    "        my_dist_pickle = pickle.load( open( \"output_files/calib_pickle_files/dist_pickle.p\", \"rb\" ) )\n",
    "        mtx = my_dist_pickle[\"mtx\"]\n",
    "        dist = my_dist_pickle[\"dist\"]\n",
    "\n",
    "        undistorted_img = cv2.undistort(img, mtx, dist, None, mtx)\n",
    "        #undistorted_img =  cv2.cvtColor(undistorted_img, cv2.COLOR_BGR2RGB)   #Use if you use cv2 to import image. ax.imshow() needs RGB image\n",
    "        return undistorted_img\n",
    "\n",
    "    \n",
    "    def yellow_threshold(img, sxbinary):\n",
    "        # Convert to HLS color space and separate the S channel\n",
    "        # Note: img is the undistorted image\n",
    "        hls = cv2.cvtColor(img, cv2.COLOR_RGB2HLS)\n",
    "        s_channel = hls[:,:,2]\n",
    "        h_channel = hls[:,:,0]\n",
    "        # Threshold color channel\n",
    "        s_thresh_min = 100\n",
    "        s_thresh_max = 255\n",
    "        \n",
    "        #for 360 degree, my value for yellow ranged between 35 and 50. So uska half kar diya\n",
    "        h_thresh_min = 10    \n",
    "        h_thresh_max = 25\n",
    "\n",
    "        s_binary = np.zeros_like(s_channel)\n",
    "        s_binary[(s_channel >= s_thresh_min) & (s_channel <= s_thresh_max)] = 1\n",
    "\n",
    "        h_binary = np.zeros_like(h_channel)\n",
    "        h_binary[(h_channel >= h_thresh_min) & (h_channel <= h_thresh_max)] = 1\n",
    "\n",
    "        # Combine the two binary thresholds\n",
    "        yellow_binary = np.zeros_like(s_binary)\n",
    "        yellow_binary[(((s_binary == 1) | (sxbinary == 1) ) & (h_binary ==1))] = 1\n",
    "        return yellow_binary\n",
    "    \n",
    "    def xgrad_binary(img, thresh_min=30, thresh_max=100):\n",
    "        # Grayscale image\n",
    "        gray = cv2.cvtColor(img, cv2.COLOR_RGB2GRAY)\n",
    "        # Sobel x\n",
    "        sobelx = cv2.Sobel(gray, cv2.CV_64F, 1, 0) # Take the derivative in x\n",
    "        abs_sobelx = np.absolute(sobelx) # Absolute x derivative to accentuate lines away from horizontal\n",
    "        scaled_sobel = np.uint8(255*abs_sobelx/np.max(abs_sobelx))\n",
    "        # Threshold x gradient\n",
    "        #thresh_min = 30    #Already given above\n",
    "        #thresh_max = 100\n",
    "\n",
    "        sxbinary = np.zeros_like(scaled_sobel)\n",
    "        sxbinary[(scaled_sobel >= thresh_min) & (scaled_sobel <= thresh_max)] = 1\n",
    "        return sxbinary\n",
    "    \n",
    "    def white_threshold(img, sxbinary, lower_white_thresh = 170):\n",
    "        r_channel = img[:,:,0]\n",
    "        g_channel = img[:,:,1]\n",
    "        b_channel = img[:,:,2]\n",
    "        # Threshold color channel\n",
    "        r_thresh_min = lower_white_thresh\n",
    "        r_thresh_max = 255\n",
    "        r_binary = np.zeros_like(r_channel)\n",
    "        r_binary[(r_channel >= r_thresh_min) & (r_channel <= r_thresh_max)] = 1\n",
    "        \n",
    "        g_thresh_min = lower_white_thresh\n",
    "        g_thresh_max = 255\n",
    "        g_binary = np.zeros_like(g_channel)\n",
    "        g_binary[(g_channel >= g_thresh_min) & (g_channel <= g_thresh_max)] = 1\n",
    "\n",
    "        b_thresh_min = lower_white_thresh\n",
    "        b_thresh_max = 255\n",
    "        b_binary = np.zeros_like(b_channel)\n",
    "        b_binary[(b_channel >= b_thresh_min) & (b_channel <= b_thresh_max)] = 1\n",
    "\n",
    "        white_binary = np.zeros_like(r_channel)\n",
    "        white_binary[((r_binary ==1) & (g_binary ==1) & (b_binary ==1) & (sxbinary==1))] = 1\n",
    "        return white_binary\n",
    "        \n",
    "    def thresh_img(img):\n",
    "                       \n",
    "       \n",
    "        #sxbinary = xgrad_binary(img, thresh_min=30, thresh_max=100)\n",
    "        sxbinary = xgrad_binary(img, thresh_min=25, thresh_max=130)\n",
    "        yellow_binary = yellow_threshold(img, sxbinary)     #(((s) | (sx)) & (h))\n",
    "        white_binary = white_threshold(img, sxbinary, lower_white_thresh = 150)\n",
    "        \n",
    "        # Combine the two binary thresholds\n",
    "        combined_binary = np.zeros_like(sxbinary)\n",
    "        combined_binary[((yellow_binary == 1) | (white_binary == 1))] = 1\n",
    "        \n",
    "        out_img = np.dstack((combined_binary, combined_binary, combined_binary))*255\n",
    "        \n",
    "        return out_img\n",
    "    \n",
    "    def perspective_transform(img):\n",
    "    \n",
    "        # Define calibration box in source (original) and destination (desired or warped) coordinates\n",
    "\n",
    "        img_size = (img.shape[1], img.shape[0])\n",
    "        \"\"\"Notice the format used for img_size. Yaha bhi ulta hai. x axis aur fir y axis chahiye. \n",
    "              Apne format mein rows(y axis) and columns (x axis) hain\"\"\"\n",
    "\n",
    "\n",
    "        # Four source coordinates\n",
    "        # Order of points: top left, top right, bottom right, bottom left\n",
    "        \n",
    "        src = np.array(\n",
    "            [[435*img.shape[1]/960, 350*img.shape[0]/540],\n",
    "             [530*img.shape[1]/960, 350*img.shape[0]/540],\n",
    "             [885*img.shape[1]/960, img.shape[0]],\n",
    "             [220*img.shape[1]/960, img.shape[0]]], dtype='f')\n",
    "        \n",
    "\n",
    "        # Next, we'll define a desired rectangle plane for the warped image.\n",
    "        # We'll choose 4 points where we want source points to end up \n",
    "        # This time we'll choose our points by eyeballing a rectangle\n",
    "\n",
    "        dst = np.array(\n",
    "            [[290*img.shape[1]/960, 0],\n",
    "             [740*img.shape[1]/960, 0],\n",
    "             [740*img.shape[1]/960, img.shape[0]],\n",
    "             [290*img.shape[1]/960, img.shape[0]]], dtype='f')\n",
    "\n",
    "\n",
    "        #Compute the perspective transform, M, given source and destination points:\n",
    "        M = cv2.getPerspectiveTransform(src, dst)\n",
    "\n",
    "        #Warp an image using the perspective transform, M; using linear interpolation    \n",
    "        #Interpolating points is just filling in missing points as it warps an image\n",
    "        # The input image for this function can be a colored image too\n",
    "        warped = cv2.warpPerspective(img, M, img_size, flags=cv2.INTER_LINEAR)\n",
    "              \n",
    "        return warped, src, dst \n",
    "\n",
    "    def rev_perspective_transform(img, src, dst):\n",
    "\n",
    "        img_size = (img.shape[1], img.shape[0])\n",
    "\n",
    "        #Compute the perspective transform, M, given source and destination points:\n",
    "        Minv = cv2.getPerspectiveTransform(dst, src)\n",
    "\n",
    "        #Warp an image using the perspective transform, M; using linear interpolation    \n",
    "        #Interpolating points is just filling in missing points as it warps an image\n",
    "        # The input image for this function can be a colored image too\n",
    "        un_warped = cv2.warpPerspective(img, Minv, img_size, flags=cv2.INTER_LINEAR)\n",
    "              \n",
    "        return un_warped, Minv \n",
    "\n",
    "    \n",
    "    def draw_polygon(img1, img2, src, dst):\n",
    "        src = src.astype(int)  #Very important step (Pixels cannot be in decimals)\n",
    "        dst = dst.astype(int)\n",
    "        cv2.polylines(img1, [src], True, (255,0,0), 3)\n",
    "        cv2.polylines(img2, [dst], True, (255,0,0), 3)\n",
    "    \n",
    "    def histogram_bottom_peaks (warped_img):\n",
    "        # This will detect the bottom point of our lane lines\n",
    "        \n",
    "        # Take a histogram of the bottom half of the image\n",
    "        bottom_half = warped_img[((2*warped_img.shape[0])//5):,:,0]     # Collecting all pixels in the bottom half\n",
    "        histogram = np.sum(bottom_half, axis=0)                         # Summing them along y axis (or along columns)\n",
    "        # Find the peak of the left and right halves of the histogram\n",
    "        # These will be the starting point for the left and right lines\n",
    "        midpoint = np.int(histogram.shape[0]//2)        # 1D array hai histogram toh uska bas 0th index filled hoga \n",
    "        #print(np.shape(histogram))     #OUTPUT:(1280,)\n",
    "        leftx_base = np.argmax(histogram[:midpoint])\n",
    "        rightx_base = np.argmax(histogram[midpoint:]) + midpoint\n",
    "\n",
    "        return leftx_base, rightx_base\n",
    "    \n",
    "    def find_lane_pixels(warped_img):\n",
    "    \n",
    "        leftx_base, rightx_base = histogram_bottom_peaks(warped_img)\n",
    "   \n",
    "        \n",
    "        # HYPERPARAMETERS\n",
    "        # Choose the number of sliding windows\n",
    "        nwindows = 9\n",
    "        # Set the width of the windows +/- margin. So width = 2*margin \n",
    "        margin = 90\n",
    "        # Set minimum number of pixels found to recenter window\n",
    "        minpix = 1000    #I've changed this from 50 as given in lectures\n",
    "    \n",
    "        # Set height of windows - based on nwindows above and image shape\n",
    "        window_height = np.int(warped_img.shape[0]//nwindows)\n",
    "        # Identify the x and y positions of all nonzero pixels in the image\n",
    "        nonzero = warped_img.nonzero()  #pixel ke coordinates dega 2 seperate arrays mein\n",
    "        nonzeroy = np.array(nonzero[0])    # Y coordinates milenge 1D array mein. They will we arranged in the order of pixels\n",
    "        nonzerox = np.array(nonzero[1])\n",
    "        # Current positions to be updated later for each window in nwindows\n",
    "        leftx_current = leftx_base         #initially set kar diya hai. For loop ke end mein change karenge\n",
    "        rightx_current = rightx_base\n",
    "\n",
    "        # Create empty lists to receive left and right lane pixel indices\n",
    "        left_lane_inds = []   # Ismein lane-pixels ke indices collect karenge. \n",
    "                              # 'nonzerox' array mein index daalke coordinate mil jaayega\n",
    "        right_lane_inds = []  \n",
    "\n",
    "        # Step through the windows one by one\n",
    "        for window in range(nwindows):\n",
    "            # Identify window boundaries in x and y (and right and left)\n",
    "            win_y_low = warped_img.shape[0] - (window+1)*window_height\n",
    "            win_y_high = warped_img.shape[0] - window*window_height\n",
    "            \"\"\"### TO-DO: Find the four below boundaries of the window ###\"\"\"\n",
    "            win_xleft_low = leftx_current - margin  \n",
    "            win_xleft_high = leftx_current + margin  \n",
    "            win_xright_low = rightx_current - margin  \n",
    "            win_xright_high = rightx_current + margin \n",
    "            \n",
    "            \"\"\"\n",
    "            # Create an output image to draw on and visualize the result\n",
    "            out_img = np.copy(warped_img)\n",
    "            # Draw the windows on the visualization image\n",
    "            cv2.rectangle(out_img,(win_xleft_low,win_y_low),\n",
    "            (win_xleft_high,win_y_high),(0,255,0), 2) \n",
    "            cv2.rectangle(out_img,(win_xright_low,win_y_low),\n",
    "            (win_xright_high,win_y_high),(0,255,0), 2) \n",
    "            \"\"\"\n",
    "\n",
    "            ### TO-DO: Identify the nonzero pixels in x and y within the window ###\n",
    "            #Iska poora explanation seperate page mein likha hai\n",
    "            good_left_inds = ((nonzeroy >= win_y_low) & (nonzeroy < win_y_high) & \n",
    "            (nonzerox >= win_xleft_low) &  (nonzerox < win_xleft_high)).nonzero()[0]\n",
    "\n",
    "            good_right_inds = ((nonzeroy >= win_y_low) & (nonzeroy < win_y_high) & \n",
    "            (nonzerox >= win_xright_low) &  (nonzerox < win_xright_high)).nonzero()[0]\n",
    "\n",
    "\n",
    "            # Append these indices to the lists\n",
    "            left_lane_inds.append(good_left_inds)\n",
    "            right_lane_inds.append(good_right_inds)\n",
    "\n",
    "            # If you found > minpix pixels, recenter next window on the mean position of the pixels in your current window (re-centre)\n",
    "            if len(good_left_inds) > minpix:\n",
    "                leftx_current = np.int(np.mean(nonzerox[good_left_inds]))\n",
    "            if len(good_right_inds) > minpix:        \n",
    "                rightx_current = np.int(np.mean(nonzerox[good_right_inds]))\n",
    "    \n",
    "    \n",
    "        # Concatenate the arrays of indices (previously was a list of lists of pixels)\n",
    "        try:\n",
    "            left_lane_inds = np.concatenate(left_lane_inds)\n",
    "            right_lane_inds = np.concatenate(right_lane_inds)\n",
    "        except ValueError:\n",
    "            # Avoids an error if the above is not implemented fully\n",
    "            pass\n",
    "    \n",
    "        # Extract left and right line pixel positions\n",
    "        leftx = nonzerox[left_lane_inds]\n",
    "        lefty = nonzeroy[left_lane_inds] \n",
    "        rightx = nonzerox[right_lane_inds]\n",
    "        righty = nonzeroy[right_lane_inds]\n",
    "\n",
    "        \"\"\"return leftx, lefty, rightx, righty, out_img\"\"\" #agar rectangles bana rahe ho toh out_image rakhna\n",
    "        return leftx, lefty, rightx, righty\n",
    "    \n",
    "        \n",
    "    def fit_polynomial(warped_img, leftx, lefty, rightx, righty, fit_history, variance_history):\n",
    "        \n",
    "        #Fit a second order polynomial to each using `np.polyfit` ###\n",
    "        left_fit = np.polyfit(lefty,leftx,2)\n",
    "        right_fit = np.polyfit(righty,rightx,2)\n",
    "\n",
    "        # We'll plot x as a function of y\n",
    "        ploty = np.linspace(0, warped_img.shape[0]-1, warped_img.shape[0])\n",
    "        \n",
    "         \n",
    "        try:\n",
    "            a1_new= left_fit[0]\n",
    "            b1_new= left_fit[1]\n",
    "            c1_new= left_fit[2]\n",
    "            \n",
    "            a2_new= right_fit[0]\n",
    "            b2_new= right_fit[1]\n",
    "            c2_new= right_fit[2]\n",
    "            \n",
    "            left_fitx = a1_new*ploty**2 + b1_new*ploty + c1_new\n",
    "            right_fitx = a2_new*ploty**2 + b2_new*ploty + c2_new\n",
    "            \n",
    "            status = True\n",
    "                \n",
    "        except TypeError:\n",
    "            # Avoids an error if `left` and `right_fit` are still none or incorrect\n",
    "            print('The function failed to fit a line!')\n",
    "            \n",
    "            if(len(lane.curve_fit)!=5):    #If you dont have any values in the history\n",
    "                left_fitx = 1*ploty**2 + 1*ploty     #This is a senseless curve. If it was the 1st frame, we need to do something\n",
    "                right_fitx = 1*ploty**2 + 1*ploty\n",
    "            else:                                   #replicate lane from previous frame if you have history\n",
    "                left_fitx = fit_history[0][4][0]*ploty**2 + fit_history[0][4][1]*ploty + fit_history[0][4][2]\n",
    "                right_fitx = fit_history[1][4][0]*ploty**2 + fit_history[1][4][1]*ploty + fit_history[1][4][2]\n",
    "            lane.count=-1 #Restart your search in next frame. At the end of this frame, 1 gets added. Hence we'll get net 0. \n",
    "            status = False\n",
    "    \n",
    "        \n",
    "        if((len(lane.curve_fit)==5)&(len(lane.variance)==5)):\n",
    "            \n",
    "            #Experiment. Pain ek ho sakta hai ki point of inflection pe swap hi na ho. Radius of curvatiure use karna padega            ############ FIXXXX THIS ####################################################\n",
    "            ############ FIXXXX THIS ####################################################\n",
    "            ############ FIXXXX THIS ####################################################\n",
    "            ############ FIXXXX THIS ####################################################\n",
    "            ############ FIXXXX THIS ####################################################\n",
    "            ############ FIXXXX THIS ####################################################\n",
    "            ############ FIXXXX THIS ####################################################\n",
    "            ############ FIXXXX THIS ####################################################\n",
    "            ############ FIXXXX THIS ####################################################\n",
    "            ############ FIXXXX THIS ####################################################\n",
    "            ############ FIXXXX THIS ####################################################\n",
    "            ############ FIXXXX THIS ####################################################\n",
    "            if ((a1_new)*(b1_new)*(fit_history[0][4][0])*(fit_history[0][4][1]))<0:\n",
    "                a1_new = (0.2*a1_new + 0.8*a2_new)\n",
    "                b1_new = (0.2*b1_new + 0.8*b2_new)\n",
    "            if ((a2_new)*(b2_new)*(fit_history[1][4][0])*(fit_history[1][4][1]))<0:\n",
    "                #a2_new = fit_history[1][4][0]    # <=This wont work in the initial frames variable become identical and change=0\n",
    "                #b2_new = fit_history[1][4][1]    # So the denominator of the subsequent terms become 0 leading to infinity\n",
    "                a2_new = (0.8*a1_new + 0.2*a2_new)\n",
    "                b2_new = (0.8*b1_new + 0.2*b2_new)\n",
    "        \n",
    "        # Calculating variance for both lanes in the current frame    \n",
    "        left_sum = 0 \n",
    "        for index in range(len(leftx)):\n",
    "            left_sum+= abs(leftx[index]-(a1_new*lefty[index]**2 + b1_new*lefty[index] + c1_new))\n",
    "        left_variance_new=left_sum/len(leftx)\n",
    "        \n",
    "                \n",
    "        right_sum=0\n",
    "        for index in range(len(rightx)):\n",
    "            right_sum+= abs(rightx[index]-(a2_new*righty[index]**2 + b2_new*righty[index] + c2_new))\n",
    "        right_variance_new=right_sum/len(rightx)\n",
    "                 \n",
    "        \n",
    "        #If you have history for variance and curve coefficients\n",
    "        \n",
    "        if((len(lane.curve_fit)==5)&(len(lane.variance)==5)):\n",
    "            \n",
    "            \n",
    "            left_variance_old = sum([(0.2*((5-index)**3)*element) for index,element in enumerate(variance_history[0])])/sum([0.2*((5-index)**3) for index in range(0,5)])\n",
    "            right_variance_old = sum([(0.2*((5-index)**3)*element) for index,element in enumerate(variance_history[1])])/sum([0.2*((5-index)**3) for index in range(0,5)])\n",
    "\n",
    "            \n",
    "            # Finding weighted average for the previous elements data within fit_history\n",
    "            a1_old= sum([(0.2*(index+1)*element[0]) for index,element in enumerate(fit_history[0])])/sum([0.2*(index+1) for index in range(0,5)])        \n",
    "            b1_old= sum([(0.2*(index+1)*element[1]) for index,element in enumerate(fit_history[0])])/sum([0.2*(index+1) for index in range(0,5)])       \n",
    "            c1_old= sum([(0.2*(index+1)*element[2]) for index,element in enumerate(fit_history[0])])/sum([0.2*(index+1) for index in range(0,5)])\n",
    "            a2_old= sum([(0.2*(index+1)*element[0]) for index,element in enumerate(fit_history[1])])/sum([0.2*(index+1) for index in range(0,5)])        \n",
    "            b2_old= sum([(0.2*(index+1)*element[1]) for index,element in enumerate(fit_history[1])])/sum([0.2*(index+1) for index in range(0,5)])       \n",
    "            c2_old= sum([(0.2*(index+1)*element[2]) for index,element in enumerate(fit_history[1])])/sum([0.2*(index+1) for index in range(0,5)])\n",
    "            \n",
    "            \n",
    "            a1_new = (a1_new*((left_variance_old)**2) + a1_old*((left_variance_new)**2))/(((left_variance_old)**2) + ((left_variance_new)**2)) \n",
    "            b1_new = (b1_new*((left_variance_old)**2) + b1_old*((left_variance_new)**2))/(((left_variance_old)**2) + ((left_variance_new)**2))\n",
    "            c1_new = (c1_new*((left_variance_old)**2) + c1_old*((left_variance_new)**2))/(((left_variance_old)**2) + ((left_variance_new))**2)\n",
    "            a2_new = (a2_new*((right_variance_old)**2) + a2_old*((right_variance_new)**2))/(((right_variance_old)**2) + ((right_variance_new))**2) \n",
    "            b2_new = (b2_new*((right_variance_old)**2) + b2_old*((right_variance_new)**2))/(((right_variance_old)**2) + ((right_variance_new))**2)\n",
    "            c2_new = (c2_new*((right_variance_old)**2) + c2_old*((right_variance_new)**2))/(((right_variance_old)**2) + ((right_variance_new))**2)\n",
    "\n",
    "            \n",
    "            ### Tracking the difference in curve fit coefficients over the frame  \n",
    "            # from last to last frame -> last frame\n",
    "            del_a1_old = lane.coeff_diff[0][0]\n",
    "            del_b1_old = lane.coeff_diff[0][1]\n",
    "            del_c1_old = lane.coeff_diff[0][2]\n",
    "            del_a2_old = lane.coeff_diff[1][0]\n",
    "            del_b2_old = lane.coeff_diff[1][1]\n",
    "            del_c2_old = lane.coeff_diff[1][2]\n",
    "            \n",
    "            # from last frame -> current frame \n",
    "            del_a1 = abs(a1_new - fit_history[0][4][0])   \n",
    "            del_b1 = abs(b1_new - fit_history[0][4][1])\n",
    "            del_c1 = abs(c1_new - fit_history[0][4][2])\n",
    "            del_a2 = abs(a2_new - fit_history[1][4][0])\n",
    "            del_b2 = abs(b2_new - fit_history[1][4][1])\n",
    "            del_c2 = abs(c2_new - fit_history[1][4][2])\n",
    "            \n",
    "            lane.coeff_diff = [[del_a1, del_b1, del_c1], [del_a2, del_b2, del_c2]]\n",
    "\n",
    "            \n",
    "            \n",
    "            # bas ab delta coefficient for each coefficient nikalna hai aur vo formula likh dena har element ke liye\n",
    "            a1_new = (a1_new*(del_a1_old) + a1_old*(del_a1))/((del_a1_old) + (del_a1))\n",
    "            b1_new = (b1_new*(del_b1_old) + b1_old*(del_b1))/((del_b1_old) + (del_b1))\n",
    "            c1_new = (c1_new*(del_c1_old) + c1_old*(del_c1))/((del_c1_old) + (del_c1))\n",
    "            \"\"\"\n",
    "            #print(\"a2_new\",a2_new)\n",
    "            #print(\"b2_new\",b2_new)\n",
    "            #print(\"c2_new\",c2_new)\n",
    "            \"\"\"\n",
    "            a2_new = (a2_new*(del_a2_old) + a2_old*(del_a2))/((del_a2_old) + (del_a2))\n",
    "            b2_new = (b2_new*(del_b2_old) + b2_old*(del_b2))/((del_b2_old) + (del_b2))\n",
    "            c2_new = (c2_new*(del_c2_old) + c2_old*(del_c2))/((del_c2_old) + (del_c2))\n",
    "            \"\"\"          \n",
    "            #print(\"\")\n",
    "            #print(\"a2_old\",a2_old)\n",
    "            #print(\"b2_old\",b2_old)\n",
    "            #print(\"c2_old\",c2_old)\n",
    "            #print(\"\")\n",
    "            #print(\"a2_new\",a2_new)\n",
    "            #print(\"b2_new\",b2_new)\n",
    "            #print(\"c2_new\",c2_new)\n",
    "            \"\"\"\n",
    "        if (lane.count==0):\n",
    "            lane.lane_bottom_centre = (((a2_new*(warped_img.shape[0]-1)**2 + b2_new*(warped_img.shape[0]-1) + c2_new) + (a1_new*(warped_img.shape[0]-1)**2 + b1_new*(warped_img.shape[0]-1) + c1_new))/2) \n",
    "        \n",
    "        lane.lane_width = (((lane.lane_width*lane.count)+(a2_new*(warped_img.shape[0]-1)**2 + b2_new*(warped_img.shape[0]-1) + c2_new) - (a1_new*(warped_img.shape[0]-1)**2 + b1_new*(warped_img.shape[0]-1) + c1_new))/(lane.count+1))\n",
    "        \n",
    "        a1 = 0.6*a1_new + 0.4*a2_new\n",
    "        b1 = 0.6*b1_new + 0.4*b2_new\n",
    "        a2 = 0.4*a1_new + 0.6*a2_new\n",
    "        b2 = 0.4*b1_new + 0.6*b2_new\n",
    "        \n",
    "        c1 = ((lane.lane_bottom_centre - (lane.lane_width/2))-(a1*(warped_img.shape[0]-1)**2 + b1*(warped_img.shape[0]-1)))\n",
    "        c2 = ((lane.lane_bottom_centre + (lane.lane_width/2))-(a2*(warped_img.shape[0]-1)**2 + b2*(warped_img.shape[0]-1)))\n",
    "        \n",
    "        lane.lane_bottom_centre = (((a2*(warped_img.shape[0]-1)**2 + b2*(warped_img.shape[0]-1) + c2) + (a1*(warped_img.shape[0]-1)**2 + b1*(warped_img.shape[0]-1) + c1))/2)\n",
    "        \n",
    "        #print(\"lane.lane_width\",lane.lane_width)\n",
    "        #print(\"lane.lane_bottom_centre\",lane.lane_bottom_centre)\n",
    "        \n",
    "        \n",
    "        return [[a1,b1,c1], [a2,b2,c2]], left_fitx, right_fitx, status, [left_variance_new, right_variance_new], ploty\n",
    "        # out_img here has boxes drawn and the pixels are colored \n",
    "        \n",
    "        #return [[a1_new,b1_new,c1_new], [a2_new,b2_new,c2_new]], left_fitx, right_fitx, status, [left_variance_new, right_variance_new], ploty \n",
    "        \n",
    "    def fit_polynomial_old(warped_img, leftx, lefty, rightx, righty, fit_history, variance_history):\n",
    "    \n",
    "        #Fit a second order polynomial to each using `np.polyfit` ###\n",
    "        left_fit = np.polyfit(lefty,leftx,2)\n",
    "        right_fit = np.polyfit(righty,rightx,2)\n",
    "\n",
    "        # We'll plot x as a function of y\n",
    "        ploty = np.linspace(0, warped_img.shape[0]-1, warped_img.shape[0])\n",
    "        \n",
    "        # Eqn of parabola: a(x**2) + bx + c. Where a and b denote the shape of parabola. Shape of parabola will be amost constant inn our case \n",
    "        \n",
    "        \n",
    "        try:\n",
    "            a1= left_fit[0]\n",
    "            b1= left_fit[1]\n",
    "            c1= left_fit[2]\n",
    "            left_fitx = a1*ploty**2 + b1*ploty + c1\n",
    "            \n",
    "            left_variance_new = 0 \n",
    "            for index in range(len(leftx)):\n",
    "                left_variance_new+= abs(leftx[index]-(a1*lefty[index]**2 + b1*lefty[index] + c1))\n",
    "            left_variance_new=left_variance_new/len(leftx)\n",
    "            #print(\"variance_new\",variance_new)\n",
    "                \n",
    "            \n",
    "            if(fit_history == None):\n",
    "                # In the 1st two steps below, we are performing weighted mirroring for the left and right curves\n",
    "                a2 = (0.6*left_fit[0] + 0.4*right_fit[0])\n",
    "                b2 = (0.6*left_fit[1] + 0.4*right_fit[1])\n",
    "                c2 = (warped_img.shape[1] - (left_fit[0]*(warped_img.shape[0]-1)**2 + left_fit[1]*(warped_img.shape[0]-1) + left_fit[2]))*0.1 + 0.9*right_fit[2]\n",
    "                \n",
    "                right_variance_new=0\n",
    "                for index in range(len(rightx)):\n",
    "                    right_variance_new+= abs(rightx[index]-(a2*righty[index]**2 + b2*righty[index] + c2))\n",
    "                right_variance_new=right_variance_new/len(rightx)\n",
    "                #print(\"variance_new\",variance_new)\n",
    "                \n",
    "            else:\n",
    "                # In the 1st two steps below, we are performing weighted mirroring for the left and right curves\n",
    "                a2_new = (0.6*left_fit[0] + 0.4*right_fit[0])\n",
    "                b2_new = (0.6*left_fit[1] + 0.4*right_fit[1])  \n",
    "                c2_new = (warped_img.shape[1] - (left_fit[0]*(warped_img.shape[0]-1)**2 + left_fit[1]*(warped_img.shape[0]-1) + left_fit[2]))*0.1 + 0.9*right_fit[2]\n",
    "                \n",
    "                # Finding weighted average for the previous elements data within fit_history\n",
    "                a2_old= sum([(0.2*(index+1)*element[0]) for index,element in enumerate(fit_history[1])])/sum([0.2*(index+1) for index in range(0,5)])        \n",
    "                b2_old= sum([(0.2*(index+1)*element[1]) for index,element in enumerate(fit_history[1])])/sum([0.2*(index+1) for index in range(0,5)])       \n",
    "                c2_old= sum([(0.2*(index+1)*element[2]) for index,element in enumerate(fit_history[1])])/sum([0.2*(index+1) for index in range(0,5)])\n",
    "                \n",
    "                \"\"\"Trying to find variance\"\"\"\n",
    "                \n",
    "                right_variance_new=0\n",
    "                for index in range(len(rightx)):\n",
    "                    right_variance_new+= abs(rightx[index]-(a2_new*righty[index]**2 + b2_new*righty[index] + c2_new))\n",
    "                right_variance_new=right_variance_new/len(rightx)\n",
    "                #print(\"variance_new\",variance_new)\n",
    "                \n",
    "                \n",
    "                left_variance_old = sum([(0.2*((5-index)**3)*element) for index,element in enumerate(variance_history[0])])/sum([0.2*((5-index)**3) for index in range(0,5)])\n",
    "                right_variance_old = sum([(0.2*((5-index)**3)*element) for index,element in enumerate(variance_history[1])])/sum([0.2*((5-index)**3) for index in range(0,5)])\n",
    "                \n",
    "                \"\"\"yaha ke coefficients variance se aa sakte hain\"\"\"\n",
    "                right_coeff_new = right_variance_old/(right_variance_new+right_variance_old)\n",
    "                right_coeff_old = right_variance_new/(right_variance_new+right_variance_old)\n",
    "                \n",
    "                a2= a2_new*right_coeff_new + a2_old*right_coeff_old\n",
    "                b2= b2_new*right_coeff_new + b2_old*right_coeff_old\n",
    "                c2= c2_new*right_coeff_new + c2_old*right_coeff_old\n",
    "            \n",
    "            \n",
    "            right_fitx = a2*ploty**2 + b2*ploty + c2\n",
    "        \n",
    "            status = True\n",
    "                \n",
    "        except TypeError:\n",
    "            # Avoids an error if `left` and `right_fit` are still none or incorrect\n",
    "            print('The function failed to fit a line!')\n",
    "            left_fitx = 1*ploty**2 + 1*ploty\n",
    "            right_fitx = 1*ploty**2 + 1*ploty\n",
    "            status = False\n",
    "\n",
    "        \n",
    "        return [[a1,b1,c1], [a2,b2,c2]], left_fitx, right_fitx, status, [left_variance_new, right_variance_new], ploty\n",
    "        # out_img here has boxes drawn and the pixels are colored \n",
    "    \n",
    "    def color_pixels_and_curve(out_img, leftx, lefty, rightx, righty, left_fitx, right_fitx):\n",
    "        ploty = np.linspace(0, warped_img.shape[0]-1, warped_img.shape[0])\n",
    "        ## Visualization ##\n",
    "        # Colors in the left and right lane regions\n",
    "        out_img[lefty, leftx] = [255, 0, 0]\n",
    "        out_img[righty, rightx] = [0, 0, 255]\n",
    "        \n",
    "        # Converting the coordinates of our line into integer values as index of the image can't take decimals\n",
    "        left_fitx_int = left_fitx.astype(np.int32)\n",
    "        right_fitx_int = right_fitx.astype(np.int32)\n",
    "        ploty_int = ploty.astype(np.int32)\n",
    "        \n",
    "        # Coloring the curve as yellow\n",
    "        out_img[ploty_int,left_fitx_int] = [255,255,0]\n",
    "        out_img[ploty_int,right_fitx_int] = [255,255,0]\n",
    "        \n",
    "        # To thicken the curve\n",
    "        out_img[ploty_int,left_fitx_int+1] = [255,255,0]\n",
    "        out_img[ploty_int,right_fitx_int+1] = [255,255,0]\n",
    "        out_img[ploty_int,left_fitx_int-1] = [255,255,0]\n",
    "        out_img[ploty_int,right_fitx_int-1] = [255,255,0]\n",
    "        out_img[ploty_int,left_fitx_int+2] = [255,255,0]\n",
    "        out_img[ploty_int,right_fitx_int+2] = [255,255,0]\n",
    "        out_img[ploty_int,left_fitx_int-2] = [255,255,0]\n",
    "        out_img[ploty_int,right_fitx_int-2] = [255,255,0]\n",
    "        \n",
    "        \n",
    "        \n",
    "    def search_around_poly(warped_img, left_fit, right_fit):\n",
    "        # HYPERPARAMETER\n",
    "        # Choose the width of the margin around the previous polynomial to search\n",
    "        # The quiz grader expects 100 here, but feel free to tune on your own!\n",
    "        margin = 100\n",
    "\n",
    "        # Grab activated pixels\n",
    "        nonzero = warped_img.nonzero()\n",
    "        nonzeroy = np.array(nonzero[0])\n",
    "        nonzerox = np.array(nonzero[1])\n",
    "\n",
    "        ### TO-DO: Set the area of search based on activated x-values ###\n",
    "        ### within the +/- margin of our polynomial function ###\n",
    "        ### Hint: consider the window areas for the similarly named variables ###\n",
    "        ### in the previous quiz, but change the windows to our new search area ###\n",
    "        left_lane_inds = ((nonzerox > (left_fit[0]*(nonzeroy**2) + left_fit[1]*nonzeroy + \n",
    "                        left_fit[2] - margin)) & (nonzerox < (left_fit[0]*(nonzeroy**2) + \n",
    "                        left_fit[1]*nonzeroy + left_fit[2] + margin)))\n",
    "        right_lane_inds = ((nonzerox > (right_fit[0]*(nonzeroy**2) + right_fit[1]*nonzeroy + \n",
    "                        right_fit[2] - margin)) & (nonzerox < (right_fit[0]*(nonzeroy**2) + \n",
    "                        right_fit[1]*nonzeroy + right_fit[2] + margin)))\n",
    "\n",
    "        # Again, extract left and right line pixel positions\n",
    "        leftx = nonzerox[left_lane_inds]\n",
    "        lefty = nonzeroy[left_lane_inds] \n",
    "        rightx = nonzerox[right_lane_inds]\n",
    "        righty = nonzeroy[right_lane_inds]\n",
    "\n",
    "        return leftx, lefty, rightx, righty\n",
    "\n",
    "    def modify_array(array, new_value):\n",
    "        if len(array)!=5:\n",
    "            for i in range(0,5):\n",
    "                array.append(new_value)\n",
    "\n",
    "        else:\n",
    "            dump_var=array[0]\n",
    "            array[0]=array[1]\n",
    "            array[1]=array[2]\n",
    "            array[2]=array[3]\n",
    "            array[3]=array[4]\n",
    "            array[4]=new_value\n",
    "        return array\n",
    "    \"\"\"\n",
    "    def radius_curvature(left_fit, right_fit, ploty):\n",
    "        y_eval = np.max(ploty)\n",
    "        print(\"left_fit\",left_fit)\n",
    "        print(\"y_eval\",y_eval)\n",
    "        # Calculation of R_curve (radius of curvature)\n",
    "        #left_curverad = (((1 + (2*left_fit[0]*y_eval + left_fit[1])**2)**1.5) / (2*left_fit[0]))\n",
    "        #right_curverad = (((1 + (2*right_fit[0]*y_eval + right_fit[1])**2)**1.5) / (2*right_fit[0]))\n",
    "    return 2,4\n",
    "    #return left_curverad, right_curverad\n",
    "    \"\"\"\n",
    "\n",
    "    undist_img = cal_undistort(frame)\n",
    "    thresh_img = thresh_img(undist_img)    # Note: This is not a binary iamge. It has been stacked already within the function\n",
    "    warped_img, src, dst = perspective_transform(thresh_img)\n",
    "\n",
    "    #draw_polygon(frame, warped_img, src, dst)   #the first image is the original image that you import into the system\n",
    "    \n",
    "    print(\"starting count\",lane.count)\n",
    "    \n",
    "    # Making the curve coefficient and variance history ready for our new frame\n",
    "    left_fit_previous = [i[0] for i in lane.curve_fit] \n",
    "    right_fit_previous = [i[1] for i in lane.curve_fit]\n",
    "    fit_history=[left_fit_previous, right_fit_previous]\n",
    "        \n",
    "    left_variance_previous = [i[0] for i in lane.variance]\n",
    "    right_variance_previous = [i[1] for i in lane.variance]\n",
    "    variance_history=[left_variance_previous, right_variance_previous]\n",
    "    \n",
    "    if (lane.count == 0):\n",
    "        leftx, lefty, rightx, righty = find_lane_pixels(warped_img)     # Find our lane pixels first\n",
    "       \n",
    "    elif (lane.count > 0):\n",
    "        leftx, lefty, rightx, righty = search_around_poly(warped_img, left_fit_previous[4], right_fit_previous[4])\n",
    "        \n",
    "    curve_fit_new, left_fitx, right_fitx, status, variance_new, ploty = fit_polynomial(warped_img, leftx, lefty, rightx, righty, fit_history, variance_history)\n",
    "            \n",
    "    lane.detected = status\n",
    "    lane.curve_fit = modify_array(lane.curve_fit, curve_fit_new)\n",
    "    lane.variance = modify_array(lane.variance, variance_new)\n",
    "    #print(lane.variance)\n",
    "                \n",
    "    # Now we'll color the lane pixels and plot the identified curve over the image    \n",
    "    color_pixels_and_curve(warped_img, leftx, lefty, rightx, righty, left_fitx, right_fitx)\n",
    "    \n",
    "    unwarped_img, Minv = rev_perspective_transform(warped_img, src, dst)\n",
    "    \n",
    "    \n",
    "    # Create an image to draw the lines on\n",
    "    color_warp = np.zeros_like(warped_img).astype(np.uint8)\n",
    "    \n",
    "    \n",
    "    # Recast the x and y points into usable format for cv2.fillPoly()\n",
    "    pts_left = np.array([np.transpose(np.vstack([left_fitx, ploty]))])\n",
    "    pts_right = np.array([np.flipud(np.transpose(np.vstack([right_fitx, ploty])))])\n",
    "    pts = np.hstack((pts_left, pts_right))\n",
    "\n",
    "    # Draw the lane onto the warped blank image\n",
    "    cv2.fillPoly(color_warp, np.int_([pts]), (0,255, 0))\n",
    "\n",
    "    # Warp the blank back to original image space using inverse perspective matrix (Minv)\n",
    "    newwarp = cv2.warpPerspective(color_warp, Minv, (frame.shape[1], frame.shape[0])) \n",
    "    # Combine the result with the original image\n",
    "    result = cv2.addWeighted(undist_img, 1, newwarp, 0.3, 0)\n",
    "    \"\"\"\n",
    "    print(\"curve_fit_new shape\",np.shape(curve_fit_new))\n",
    "    print(curve_fit_new[0], curve_fit_new[1])\n",
    "    \n",
    "    left_rad_curv, right_rad_curv = radius_curvature(curve_fit_new[0], curve_fit_new[1], ploty)\n",
    "    print(\"left_rad_curv:\", left_rad_curv)\n",
    "    print(\"right_rad_curv:\", right_rad_curv)\n",
    "    \"\"\"\n",
    "    \n",
    "\n",
    "    lane.count = lane.count+1  \n",
    "    \n",
    "    #return warped_img\n",
    "    #return color_warp\n",
    "    return result\n",
    "    #return unwarped_img\n",
    "    \n",
    "    "
   ]
  },
  {
   "cell_type": "code",
   "execution_count": null,
   "metadata": {},
   "outputs": [],
   "source": []
  },
  {
   "cell_type": "code",
   "execution_count": null,
   "metadata": {},
   "outputs": [],
   "source": []
  },
  {
   "cell_type": "markdown",
   "metadata": {},
   "source": [
    "Let's try classes"
   ]
  },
  {
   "cell_type": "code",
   "execution_count": 2,
   "metadata": {},
   "outputs": [
    {
     "name": "stdout",
     "output_type": "stream",
     "text": [
      "starting count 0\n",
      "starting count 1\n",
      "starting count 2\n",
      "starting count 3\n",
      "starting count 4\n",
      "starting count 5\n",
      "starting count 6\n",
      "starting count 7\n",
      "starting count 8\n"
     ]
    },
    {
     "data": {
      "text/plain": [
       "<matplotlib.image.AxesImage at 0x14cc2f1ba60>"
      ]
     },
     "execution_count": 2,
     "metadata": {},
     "output_type": "execute_result"
    },
    {
     "data": {
      "image/png": "[encoded data removed]",
      "text/plain": [
       "<Figure size 432x288 with 1 Axes>"
      ]
     },
     "metadata": {
      "needs_background": "light"
     },
     "output_type": "display_data"
    }
   ],
   "source": [
    "# Define a class to receive the characteristics of each line detection\n",
    "class Line():\n",
    "    def __init__(self):\n",
    "        #Let's count the number of consecutive frames\n",
    "        self.count = 0\n",
    "        # was the line detected in the last iteration?\n",
    "        self.detected = False  \n",
    "        #polynomial coefficients for the most recent fit\n",
    "        self.curve_fit = []  \n",
    "        # Traking variance for the right lane\n",
    "        self.variance = []\n",
    "        #difference in fit coefficients between last and new fits. Just store the difference in coefficients for the last frame\n",
    "        self.coeff_diff = [[0,0,0],[0,0,0]]        \n",
    "        #Lane width measured at the start of reset\n",
    "        self.lane_width = 0\n",
    "        #Let's track the midpoint of the previous frame\n",
    "        self.lane_bottom_centre = 0\n",
    "        \n",
    "        # x values of the curve that we fit intially\n",
    "        #self.current_xfitted = []\n",
    "        # x values for detected line pixels\n",
    "        #self.allx = []  \n",
    "        # y values for detected line pixels\n",
    "        #self.ally = []\n",
    "        \n",
    "        # x values of the last n fits of the line\n",
    "        self.recent_xfitted = [] \n",
    "        #average x values of the fitted line over the last n iterations\n",
    "        self.bestx = None     \n",
    "        #polynomial coefficients averaged over the last n iterations\n",
    "        self.best_fit = None  \n",
    "        #radius of curvature of the line in some units\n",
    "        self.radius_of_curvature = None \n",
    "        #distance in meters of vehicle center from the line\n",
    "        self.line_base_pos = None \n",
    "        \n",
    "        \n",
    "        \n",
    "lane=Line()\n",
    "\n",
    "\n",
    "frame1= mpimg.imread(\"my_test_images/Highway_snaps/image (1).jpg\")\n",
    "frame2= mpimg.imread(\"my_test_images/Highway_snaps/image (2).jpg\")\n",
    "frame3= mpimg.imread(\"my_test_images/Highway_snaps/image (3).jpg\")\n",
    "\n",
    "frame4= mpimg.imread(\"my_test_images/Highway_snaps/image (4).jpg\")\n",
    "frame5= mpimg.imread(\"my_test_images/Highway_snaps/image (5).jpg\")\n",
    "frame6= mpimg.imread(\"my_test_images/Highway_snaps/image (6).jpg\")\n",
    "frame7= mpimg.imread(\"my_test_images/Highway_snaps/image (7).jpg\")\n",
    "frame8= mpimg.imread(\"my_test_images/Highway_snaps/image (8).jpg\")\n",
    "frame9= mpimg.imread(\"my_test_images/Highway_snaps/image (9).jpg\")\n",
    "\n",
    "\n",
    "(process_image(frame1))\n",
    "(process_image(frame2))\n",
    "(process_image(frame3))\n",
    "(process_image(frame4))\n",
    "(process_image(frame5))\n",
    "(process_image(frame6))\n",
    "(process_image(frame7))\n",
    "(process_image(frame8))\n",
    "plt.imshow(process_image(frame9))\n"
   ]
  },
  {
   "cell_type": "code",
   "execution_count": 16,
   "metadata": {},
   "outputs": [
    {
     "data": {
      "text/plain": [
       "[[-0.0001476233231556424, 0.23167536974077843, 1331.6306119167443],\n",
       " [-0.0001476233231556424, 0.23167536974077843, 1331.6306119167443],\n",
       " [-0.0001476233231556424, 0.23167536974077843, 1331.6306119167443],\n",
       " [-0.0001476233231556424, 0.23167536974077843, 1331.6306119167443],\n",
       " [-0.0001476233231556424, 0.23167536974077843, 1331.6306119167443]]"
      ]
     },
     "execution_count": 16,
     "metadata": {},
     "output_type": "execute_result"
    }
   ],
   "source": [
    "matrix = [[[-8.8661072804927e-05, 0.14226773448007834, 526.2761730836886], [-8.8661072804927e-05, 0.14226773448007834, 526.2761730836886], [-8.8661072804927e-05, 0.14226773448007834, 526.2761730836886], [-8.8661072804927e-05, 0.14226773448007834, 526.2761730836886], [-8.8661072804927e-05, 0.14226773448007837, 526.2761730836886]], [[-0.0001476233231556424, 0.23167536974077843, 1331.6306119167443], [-0.0001476233231556424, 0.23167536974077843, 1331.6306119167443], [-0.0001476233231556424, 0.23167536974077843, 1331.6306119167443], [-0.0001476233231556424, 0.23167536974077843, 1331.6306119167443], [-0.0001476233231556424, 0.23167536974077843, 1331.6306119167443]]]\n",
    "matrix[1]"
   ]
  },
  {
   "cell_type": "code",
   "execution_count": null,
   "metadata": {},
   "outputs": [],
   "source": []
  },
  {
   "cell_type": "markdown",
   "metadata": {},
   "source": [
    "Videoo test\n",
    "\n"
   ]
  },
  {
   "cell_type": "code",
   "execution_count": 6,
   "metadata": {},
   "outputs": [
    {
     "name": "stdout",
     "output_type": "stream",
     "text": [
      "starting count 0\n"
     ]
    },
    {
     "name": "stderr",
     "output_type": "stream",
     "text": [
      "\r",
      "t:   0%|          | 0/250 [00:00<?, ?it/s, now=None]"
     ]
    },
    {
     "name": "stdout",
     "output_type": "stream",
     "text": [
      "lane.lane_width 611.9654132720186\n",
      "lane.lane_bottom_centre 668.2284488960955\n",
      "Moviepy - Building video output_files/video_clips/project_video_with_history.mp4.\n",
      "Moviepy - Writing video output_files/video_clips/project_video_with_history.mp4\n",
      "\n",
      "starting count 1\n"
     ]
    },
    {
     "name": "stderr",
     "output_type": "stream",
     "text": [
      "\r",
      "t:   1%|          | 2/250 [00:00<01:38,  2.51it/s, now=None]"
     ]
    },
    {
     "name": "stdout",
     "output_type": "stream",
     "text": [
      "lane.lane_width 611.9654132720187\n",
      "lane.lane_bottom_centre 668.2284488960955\n",
      "starting count 2\n"
     ]
    },
    {
     "name": "stderr",
     "output_type": "stream",
     "text": [
      "\r",
      "t:   1%|          | 3/250 [00:01<02:21,  1.75it/s, now=None]"
     ]
    },
    {
     "name": "stdout",
     "output_type": "stream",
     "text": [
      "lane.lane_width 611.3225157903094\n",
      "lane.lane_bottom_centre 668.2284488960956\n",
      "starting count 3\n",
      "lane.lane_width 611.5770633826388\n",
      "lane.lane_bottom_centre 668.2284488960956\n"
     ]
    },
    {
     "name": "stderr",
     "output_type": "stream",
     "text": [
      "\r",
      "t:   2%|▏         | 4/250 [00:04<04:56,  1.21s/it, now=None]"
     ]
    },
    {
     "name": "stdout",
     "output_type": "stream",
     "text": [
      "starting count 4\n"
     ]
    },
    {
     "name": "stderr",
     "output_type": "stream",
     "text": [
      "\r",
      "t:   2%|▏         | 5/250 [00:05<05:00,  1.23s/it, now=None]"
     ]
    },
    {
     "name": "stdout",
     "output_type": "stream",
     "text": [
      "lane.lane_width 613.1420557800126\n",
      "lane.lane_bottom_centre 668.2284488960956\n",
      "starting count 5\n"
     ]
    },
    {
     "name": "stderr",
     "output_type": "stream",
     "text": [
      "\r",
      "t:   2%|▏         | 6/250 [00:06<04:38,  1.14s/it, now=None]"
     ]
    },
    {
     "name": "stdout",
     "output_type": "stream",
     "text": [
      "lane.lane_width 613.8847650207889\n",
      "lane.lane_bottom_centre 668.2284488960956\n",
      "starting count 6\n"
     ]
    },
    {
     "name": "stderr",
     "output_type": "stream",
     "text": [
      "\r",
      "t:   3%|▎         | 7/250 [00:07<04:29,  1.11s/it, now=None]"
     ]
    },
    {
     "name": "stdout",
     "output_type": "stream",
     "text": [
      "lane.lane_width 614.7220155941116\n",
      "lane.lane_bottom_centre 668.2284488960956\n",
      "starting count 7\n"
     ]
    },
    {
     "name": "stderr",
     "output_type": "stream",
     "text": [
      "\r",
      "t:   3%|▎         | 8/250 [00:10<06:55,  1.72s/it, now=None]"
     ]
    },
    {
     "name": "stdout",
     "output_type": "stream",
     "text": [
      "lane.lane_width 615.4639498007798\n",
      "lane.lane_bottom_centre 668.2284488960956\n",
      "starting count 8\n"
     ]
    },
    {
     "name": "stderr",
     "output_type": "stream",
     "text": [
      "\r",
      "t:   4%|▎         | 9/250 [00:11<06:00,  1.50s/it, now=None]"
     ]
    },
    {
     "name": "stdout",
     "output_type": "stream",
     "text": [
      "lane.lane_width 615.8776629323819\n",
      "lane.lane_bottom_centre 668.2284488960958\n",
      "starting count 9\n"
     ]
    },
    {
     "name": "stderr",
     "output_type": "stream",
     "text": [
      "\r",
      "t:   4%|▍         | 10/250 [00:12<05:22,  1.34s/it, now=None]"
     ]
    },
    {
     "name": "stdout",
     "output_type": "stream",
     "text": [
      "lane.lane_width 616.2457145058031\n",
      "lane.lane_bottom_centre 668.2284488960958\n",
      "starting count 10\n"
     ]
    },
    {
     "name": "stderr",
     "output_type": "stream",
     "text": [
      "\r",
      "t:   4%|▍         | 11/250 [00:13<04:42,  1.18s/it, now=None]"
     ]
    },
    {
     "name": "stdout",
     "output_type": "stream",
     "text": [
      "lane.lane_width 616.6726230614062\n",
      "lane.lane_bottom_centre 668.2284488960958\n",
      "starting count 11\n",
      "lane.lane_width 617.0700973996171\n",
      "lane.lane_bottom_centre 668.2284488960958\n"
     ]
    },
    {
     "name": "stderr",
     "output_type": "stream",
     "text": [
      "\r",
      "t:   5%|▍         | 12/250 [00:16<06:24,  1.61s/it, now=None]"
     ]
    },
    {
     "name": "stdout",
     "output_type": "stream",
     "text": [
      "starting count 12\n"
     ]
    },
    {
     "name": "stderr",
     "output_type": "stream",
     "text": [
      "\r",
      "t:   5%|▌         | 13/250 [00:18<06:55,  1.75s/it, now=None]"
     ]
    },
    {
     "name": "stdout",
     "output_type": "stream",
     "text": [
      "lane.lane_width 617.3368045605591\n",
      "lane.lane_bottom_centre 668.2284488960958\n",
      "starting count 13\n"
     ]
    },
    {
     "name": "stderr",
     "output_type": "stream",
     "text": [
      "\r",
      "t:   6%|▌         | 14/250 [00:19<05:45,  1.46s/it, now=None]"
     ]
    },
    {
     "name": "stdout",
     "output_type": "stream",
     "text": [
      "lane.lane_width 618.3401266513613\n",
      "lane.lane_bottom_centre 668.2284488960958\n",
      "starting count 14\n"
     ]
    },
    {
     "name": "stderr",
     "output_type": "stream",
     "text": [
      "\r",
      "t:   6%|▌         | 15/250 [00:22<07:44,  1.98s/it, now=None]"
     ]
    },
    {
     "name": "stdout",
     "output_type": "stream",
     "text": [
      "lane.lane_width 618.7365278199221\n",
      "lane.lane_bottom_centre 668.2284488960958\n",
      "starting count 15\n"
     ]
    },
    {
     "name": "stderr",
     "output_type": "stream",
     "text": [
      "\r",
      "t:   6%|▋         | 16/250 [00:23<06:26,  1.65s/it, now=None]"
     ]
    },
    {
     "name": "stdout",
     "output_type": "stream",
     "text": [
      "lane.lane_width 618.8404185152624\n",
      "lane.lane_bottom_centre 668.2284488960958\n",
      "starting count 16\n"
     ]
    },
    {
     "name": "stderr",
     "output_type": "stream",
     "text": [
      "\r",
      "t:   7%|▋         | 17/250 [00:24<05:39,  1.46s/it, now=None]"
     ]
    },
    {
     "name": "stdout",
     "output_type": "stream",
     "text": [
      "lane.lane_width 619.172197500877\n",
      "lane.lane_bottom_centre 668.2284488960958\n",
      "starting count 17\n"
     ]
    },
    {
     "name": "stderr",
     "output_type": "stream",
     "text": [
      "\r",
      "t:   7%|▋         | 18/250 [00:28<08:30,  2.20s/it, now=None]"
     ]
    },
    {
     "name": "stdout",
     "output_type": "stream",
     "text": [
      "lane.lane_width 619.1527922824371\n",
      "lane.lane_bottom_centre 668.2284488960958\n",
      "starting count 18\n"
     ]
    },
    {
     "name": "stderr",
     "output_type": "stream",
     "text": [
      "\r",
      "t:   8%|▊         | 19/250 [00:29<07:26,  1.93s/it, now=None]"
     ]
    },
    {
     "name": "stdout",
     "output_type": "stream",
     "text": [
      "lane.lane_width 619.0981059868498\n",
      "lane.lane_bottom_centre 668.2284488960958\n",
      "starting count 19\n"
     ]
    },
    {
     "name": "stderr",
     "output_type": "stream",
     "text": [
      "\r",
      "t:   8%|▊         | 20/250 [00:34<10:27,  2.73s/it, now=None]"
     ]
    },
    {
     "name": "stdout",
     "output_type": "stream",
     "text": [
      "lane.lane_width 619.5732601889274\n",
      "lane.lane_bottom_centre 668.2284488960959\n",
      "starting count 20\n"
     ]
    },
    {
     "name": "stderr",
     "output_type": "stream",
     "text": [
      "\r",
      "t:   8%|▊         | 21/250 [00:35<08:59,  2.36s/it, now=None]"
     ]
    },
    {
     "name": "stdout",
     "output_type": "stream",
     "text": [
      "lane.lane_width 619.7426310898\n",
      "lane.lane_bottom_centre 668.2284488960959\n",
      "starting count 21\n"
     ]
    },
    {
     "name": "stderr",
     "output_type": "stream",
     "text": [
      "\r",
      "t:   9%|▉         | 22/250 [00:36<07:18,  1.92s/it, now=None]"
     ]
    },
    {
     "name": "stdout",
     "output_type": "stream",
     "text": [
      "lane.lane_width 620.0775964455121\n",
      "lane.lane_bottom_centre 668.2284488960958\n",
      "starting count 22\n"
     ]
    },
    {
     "name": "stderr",
     "output_type": "stream",
     "text": [
      "\r",
      "t:   9%|▉         | 23/250 [00:40<09:59,  2.64s/it, now=None]"
     ]
    },
    {
     "name": "stdout",
     "output_type": "stream",
     "text": [
      "lane.lane_width 620.1459396191483\n",
      "lane.lane_bottom_centre 668.2284488960956\n",
      "starting count 23\n",
      "lane.lane_width 620.2033571064877\n",
      "lane.lane_bottom_centre 668.2284488960955\n"
     ]
    },
    {
     "name": "stderr",
     "output_type": "stream",
     "text": [
      "\r",
      "t:  10%|▉         | 24/250 [00:42<09:13,  2.45s/it, now=None]"
     ]
    },
    {
     "name": "stdout",
     "output_type": "stream",
     "text": [
      "starting count 24\n"
     ]
    },
    {
     "name": "stderr",
     "output_type": "stream",
     "text": [
      "\r",
      "t:  10%|█         | 25/250 [00:45<09:49,  2.62s/it, now=None]"
     ]
    },
    {
     "name": "stdout",
     "output_type": "stream",
     "text": [
      "lane.lane_width 620.0525560977119\n",
      "lane.lane_bottom_centre 668.2284488960955\n",
      "starting count 25\n"
     ]
    },
    {
     "name": "stderr",
     "output_type": "stream",
     "text": [
      "\r",
      "t:  10%|█         | 26/250 [00:46<07:48,  2.09s/it, now=None]"
     ]
    },
    {
     "name": "stdout",
     "output_type": "stream",
     "text": [
      "lane.lane_width 619.921122718207\n",
      "lane.lane_bottom_centre 668.2284488960954\n",
      "starting count 26\n"
     ]
    },
    {
     "name": "stderr",
     "output_type": "stream",
     "text": [
      "\r",
      "t:  11%|█         | 27/250 [00:47<06:19,  1.70s/it, now=None]"
     ]
    },
    {
     "name": "stdout",
     "output_type": "stream",
     "text": [
      "lane.lane_width 620.2595718078145\n",
      "lane.lane_bottom_centre 668.2284488960954\n",
      "starting count 27\n"
     ]
    },
    {
     "name": "stderr",
     "output_type": "stream",
     "text": [
      "\r",
      "t:  11%|█         | 28/250 [00:50<07:52,  2.13s/it, now=None]"
     ]
    },
    {
     "name": "stdout",
     "output_type": "stream",
     "text": [
      "lane.lane_width 620.435481414435\n",
      "lane.lane_bottom_centre 668.2284488960954\n",
      "starting count 28\n"
     ]
    },
    {
     "name": "stderr",
     "output_type": "stream",
     "text": [
      "\r",
      "t:  12%|█▏        | 29/250 [00:51<06:25,  1.74s/it, now=None]"
     ]
    },
    {
     "name": "stdout",
     "output_type": "stream",
     "text": [
      "lane.lane_width 620.4970681409443\n",
      "lane.lane_bottom_centre 668.2284488960954\n",
      "starting count 29\n"
     ]
    },
    {
     "name": "stderr",
     "output_type": "stream",
     "text": [
      "\r",
      "t:  12%|█▏        | 30/250 [00:52<05:25,  1.48s/it, now=None]"
     ]
    },
    {
     "name": "stdout",
     "output_type": "stream",
     "text": [
      "lane.lane_width 620.61799133617\n",
      "lane.lane_bottom_centre 668.2284488960954\n",
      "starting count 30\n"
     ]
    },
    {
     "name": "stderr",
     "output_type": "stream",
     "text": [
      "\r",
      "t:  12%|█▏        | 31/250 [00:53<04:47,  1.31s/it, now=None]"
     ]
    },
    {
     "name": "stdout",
     "output_type": "stream",
     "text": [
      "lane.lane_width 620.5040733892735\n",
      "lane.lane_bottom_centre 668.2284488960954\n",
      "starting count 31\n"
     ]
    },
    {
     "name": "stderr",
     "output_type": "stream",
     "text": [
      "\r",
      "t:  13%|█▎        | 32/250 [00:56<07:28,  2.06s/it, now=None]"
     ]
    },
    {
     "name": "stdout",
     "output_type": "stream",
     "text": [
      "lane.lane_width 620.5831851830794\n",
      "lane.lane_bottom_centre 668.2284488960954\n",
      "starting count 32\n"
     ]
    },
    {
     "name": "stderr",
     "output_type": "stream",
     "text": [
      "\r",
      "t:  13%|█▎        | 33/250 [00:57<06:08,  1.70s/it, now=None]"
     ]
    },
    {
     "name": "stdout",
     "output_type": "stream",
     "text": [
      "lane.lane_width 620.8151850665929\n",
      "lane.lane_bottom_centre 668.2284488960954\n",
      "starting count 33\n"
     ]
    },
    {
     "name": "stderr",
     "output_type": "stream",
     "text": [
      "\r",
      "t:  14%|█▎        | 34/250 [00:58<05:11,  1.44s/it, now=None]"
     ]
    },
    {
     "name": "stdout",
     "output_type": "stream",
     "text": [
      "lane.lane_width 620.8116162739766\n",
      "lane.lane_bottom_centre 668.2284488960954\n",
      "starting count 34\n"
     ]
    },
    {
     "name": "stderr",
     "output_type": "stream",
     "text": [
      "\r",
      "t:  14%|█▍        | 35/250 [01:01<07:08,  1.99s/it, now=None]"
     ]
    },
    {
     "name": "stdout",
     "output_type": "stream",
     "text": [
      "lane.lane_width 620.861609388641\n",
      "lane.lane_bottom_centre 668.2284488960954\n",
      "starting count 35\n"
     ]
    },
    {
     "name": "stderr",
     "output_type": "stream",
     "text": [
      "\r",
      "t:  14%|█▍        | 36/250 [01:02<05:54,  1.66s/it, now=None]"
     ]
    },
    {
     "name": "stdout",
     "output_type": "stream",
     "text": [
      "lane.lane_width 620.7593275664802\n",
      "lane.lane_bottom_centre 668.2284488960954\n",
      "starting count 36\n"
     ]
    },
    {
     "name": "stderr",
     "output_type": "stream",
     "text": [
      "\r",
      "t:  15%|█▍        | 37/250 [01:03<04:59,  1.41s/it, now=None]"
     ]
    },
    {
     "name": "stdout",
     "output_type": "stream",
     "text": [
      "lane.lane_width 620.7410003794795\n",
      "lane.lane_bottom_centre 668.2284488960954\n",
      "starting count 37\n"
     ]
    },
    {
     "name": "stderr",
     "output_type": "stream",
     "text": [
      "\r",
      "t:  15%|█▌        | 38/250 [01:04<04:19,  1.22s/it, now=None]"
     ]
    },
    {
     "name": "stdout",
     "output_type": "stream",
     "text": [
      "lane.lane_width 620.6964314304754\n",
      "lane.lane_bottom_centre 668.2284488960954\n",
      "starting count 38\n"
     ]
    },
    {
     "name": "stderr",
     "output_type": "stream",
     "text": [
      "\r",
      "t:  16%|█▌        | 39/250 [01:08<07:13,  2.06s/it, now=None]"
     ]
    },
    {
     "name": "stdout",
     "output_type": "stream",
     "text": [
      "lane.lane_width 621.0047466744794\n",
      "lane.lane_bottom_centre 668.2284488960954\n",
      "starting count 39\n"
     ]
    },
    {
     "name": "stderr",
     "output_type": "stream",
     "text": [
      "\r",
      "t:  16%|█▌        | 40/250 [01:09<06:18,  1.80s/it, now=None]"
     ]
    },
    {
     "name": "stdout",
     "output_type": "stream",
     "text": [
      "lane.lane_width 621.2528411359915\n",
      "lane.lane_bottom_centre 668.2284488960954\n",
      "starting count 40\n"
     ]
    },
    {
     "name": "stderr",
     "output_type": "stream",
     "text": [
      "\r",
      "t:  16%|█▋        | 41/250 [01:14<09:42,  2.79s/it, now=None]"
     ]
    },
    {
     "name": "stdout",
     "output_type": "stream",
     "text": [
      "lane.lane_width 621.1913459855282\n",
      "lane.lane_bottom_centre 668.2284488960954\n",
      "starting count 41\n"
     ]
    },
    {
     "name": "stderr",
     "output_type": "stream",
     "text": [
      "\r",
      "t:  17%|█▋        | 42/250 [01:15<08:05,  2.34s/it, now=None]"
     ]
    },
    {
     "name": "stdout",
     "output_type": "stream",
     "text": [
      "lane.lane_width 621.2794620833445\n",
      "lane.lane_bottom_centre 668.2284488960954\n",
      "starting count 42\n"
     ]
    },
    {
     "name": "stderr",
     "output_type": "stream",
     "text": [
      "\r",
      "t:  17%|█▋        | 43/250 [01:20<10:09,  2.94s/it, now=None]"
     ]
    },
    {
     "name": "stdout",
     "output_type": "stream",
     "text": [
      "lane.lane_width 621.3590830120866\n",
      "lane.lane_bottom_centre 668.2284488960954\n",
      "starting count 43\n"
     ]
    },
    {
     "name": "stderr",
     "output_type": "stream",
     "text": [
      "\r",
      "t:  18%|█▊        | 44/250 [01:21<08:27,  2.46s/it, now=None]"
     ]
    },
    {
     "name": "stdout",
     "output_type": "stream",
     "text": [
      "lane.lane_width 621.4644566071778\n",
      "lane.lane_bottom_centre 668.2284488960954\n",
      "starting count 44\n"
     ]
    },
    {
     "name": "stderr",
     "output_type": "stream",
     "text": [
      "\r",
      "t:  18%|█▊        | 45/250 [01:25<09:39,  2.83s/it, now=None]"
     ]
    },
    {
     "name": "stdout",
     "output_type": "stream",
     "text": [
      "lane.lane_width 621.5146240736116\n",
      "lane.lane_bottom_centre 668.2284488960955\n",
      "starting count 45\n"
     ]
    },
    {
     "name": "stderr",
     "output_type": "stream",
     "text": [
      "\r",
      "t:  18%|█▊        | 46/250 [01:26<07:43,  2.27s/it, now=None]"
     ]
    },
    {
     "name": "stdout",
     "output_type": "stream",
     "text": [
      "lane.lane_width 621.521882754061\n",
      "lane.lane_bottom_centre 668.2284488960955\n",
      "starting count 46\n"
     ]
    },
    {
     "name": "stderr",
     "output_type": "stream",
     "text": [
      "\r",
      "t:  19%|█▉        | 47/250 [01:27<06:19,  1.87s/it, now=None]"
     ]
    },
    {
     "name": "stdout",
     "output_type": "stream",
     "text": [
      "lane.lane_width 621.5472369635866\n",
      "lane.lane_bottom_centre 668.2284488960955\n",
      "starting count 47\n"
     ]
    },
    {
     "name": "stderr",
     "output_type": "stream",
     "text": [
      "\r",
      "t:  19%|█▉        | 48/250 [01:31<08:26,  2.51s/it, now=None]"
     ]
    },
    {
     "name": "stdout",
     "output_type": "stream",
     "text": [
      "lane.lane_width 621.5582315158889\n",
      "lane.lane_bottom_centre 668.2284488960955\n",
      "starting count 48\n"
     ]
    },
    {
     "name": "stderr",
     "output_type": "stream",
     "text": [
      "\r",
      "t:  20%|█▉        | 49/250 [01:32<06:42,  2.00s/it, now=None]"
     ]
    },
    {
     "name": "stdout",
     "output_type": "stream",
     "text": [
      "lane.lane_width 621.5387800407042\n",
      "lane.lane_bottom_centre 668.2284488960955\n",
      "starting count 49\n"
     ]
    },
    {
     "name": "stderr",
     "output_type": "stream",
     "text": [
      "\r",
      "t:  20%|██        | 50/250 [01:32<05:29,  1.65s/it, now=None]"
     ]
    },
    {
     "name": "stdout",
     "output_type": "stream",
     "text": [
      "lane.lane_width 621.5066874708589\n",
      "lane.lane_bottom_centre 668.2284488960955\n",
      "starting count 50\n"
     ]
    },
    {
     "name": "stderr",
     "output_type": "stream",
     "text": [
      "\r",
      "t:  20%|██        | 51/250 [01:33<04:40,  1.41s/it, now=None]"
     ]
    },
    {
     "name": "stdout",
     "output_type": "stream",
     "text": [
      "lane.lane_width 621.6247490483388\n",
      "lane.lane_bottom_centre 668.2284488960955\n",
      "starting count 51\n"
     ]
    },
    {
     "name": "stderr",
     "output_type": "stream",
     "text": [
      "\r",
      "t:  21%|██        | 52/250 [01:37<06:54,  2.09s/it, now=None]"
     ]
    },
    {
     "name": "stdout",
     "output_type": "stream",
     "text": [
      "lane.lane_width 621.7276368579268\n",
      "lane.lane_bottom_centre 668.2284488960954\n",
      "starting count 52\n"
     ]
    },
    {
     "name": "stderr",
     "output_type": "stream",
     "text": [
      "\r",
      "t:  21%|██        | 53/250 [01:38<05:39,  1.73s/it, now=None]"
     ]
    },
    {
     "name": "stdout",
     "output_type": "stream",
     "text": [
      "lane.lane_width 621.8210314695568\n",
      "lane.lane_bottom_centre 668.2284488960954\n",
      "starting count 53\n"
     ]
    },
    {
     "name": "stderr",
     "output_type": "stream",
     "text": [
      "\r",
      "t:  22%|██▏       | 54/250 [01:39<04:55,  1.51s/it, now=None]"
     ]
    },
    {
     "name": "stdout",
     "output_type": "stream",
     "text": [
      "lane.lane_width 621.8990269593619\n",
      "lane.lane_bottom_centre 668.2284488960954\n",
      "starting count 54\n"
     ]
    },
    {
     "name": "stderr",
     "output_type": "stream",
     "text": [
      "\r",
      "t:  22%|██▏       | 55/250 [01:43<07:11,  2.21s/it, now=None]"
     ]
    },
    {
     "name": "stdout",
     "output_type": "stream",
     "text": [
      "lane.lane_width 621.8497414004156\n",
      "lane.lane_bottom_centre 668.2284488960954\n",
      "starting count 55\n"
     ]
    },
    {
     "name": "stderr",
     "output_type": "stream",
     "text": [
      "\r",
      "t:  22%|██▏       | 56/250 [01:44<05:50,  1.81s/it, now=None]"
     ]
    },
    {
     "name": "stdout",
     "output_type": "stream",
     "text": [
      "lane.lane_width 621.7626219651104\n",
      "lane.lane_bottom_centre 668.2284488960954\n",
      "starting count 56\n"
     ]
    },
    {
     "name": "stderr",
     "output_type": "stream",
     "text": [
      "\r",
      "t:  23%|██▎       | 57/250 [01:44<04:57,  1.54s/it, now=None]"
     ]
    },
    {
     "name": "stdout",
     "output_type": "stream",
     "text": [
      "lane.lane_width 621.7156672196215\n",
      "lane.lane_bottom_centre 668.2284488960954\n",
      "starting count 57\n"
     ]
    },
    {
     "name": "stderr",
     "output_type": "stream",
     "text": [
      "\r",
      "t:  23%|██▎       | 58/250 [01:48<06:33,  2.05s/it, now=None]"
     ]
    },
    {
     "name": "stdout",
     "output_type": "stream",
     "text": [
      "lane.lane_width 621.7139356743091\n",
      "lane.lane_bottom_centre 668.2284488960954\n",
      "starting count 58\n"
     ]
    },
    {
     "name": "stderr",
     "output_type": "stream",
     "text": [
      "\r",
      "t:  24%|██▎       | 59/250 [01:49<05:22,  1.69s/it, now=None]"
     ]
    },
    {
     "name": "stdout",
     "output_type": "stream",
     "text": [
      "lane.lane_width 621.6949314346858\n",
      "lane.lane_bottom_centre 668.2284488960954\n",
      "starting count 59\n"
     ]
    },
    {
     "name": "stderr",
     "output_type": "stream",
     "text": [
      "\r",
      "t:  24%|██▍       | 60/250 [01:49<04:33,  1.44s/it, now=None]"
     ]
    },
    {
     "name": "stdout",
     "output_type": "stream",
     "text": [
      "lane.lane_width 621.6232688542513\n",
      "lane.lane_bottom_centre 668.2284488960954\n",
      "starting count 60\n"
     ]
    },
    {
     "name": "stderr",
     "output_type": "stream",
     "text": [
      "\r",
      "t:  24%|██▍       | 61/250 [01:50<04:07,  1.31s/it, now=None]"
     ]
    },
    {
     "name": "stdout",
     "output_type": "stream",
     "text": [
      "lane.lane_width 621.6369495781313\n",
      "lane.lane_bottom_centre 668.2284488960954\n",
      "starting count 61\n"
     ]
    },
    {
     "name": "stderr",
     "output_type": "stream",
     "text": [
      "\r",
      "t:  25%|██▍       | 62/250 [01:54<06:23,  2.04s/it, now=None]"
     ]
    },
    {
     "name": "stdout",
     "output_type": "stream",
     "text": [
      "lane.lane_width 621.5568367826666\n",
      "lane.lane_bottom_centre 668.2284488960954\n",
      "starting count 62\n"
     ]
    },
    {
     "name": "stderr",
     "output_type": "stream",
     "text": [
      "\r",
      "t:  25%|██▌       | 63/250 [01:55<05:24,  1.73s/it, now=None]"
     ]
    },
    {
     "name": "stdout",
     "output_type": "stream",
     "text": [
      "lane.lane_width 621.6692486079145\n",
      "lane.lane_bottom_centre 668.2284488960954\n",
      "starting count 63\n"
     ]
    },
    {
     "name": "stderr",
     "output_type": "stream",
     "text": [
      "\r",
      "t:  26%|██▌       | 64/250 [01:56<04:45,  1.54s/it, now=None]"
     ]
    },
    {
     "name": "stdout",
     "output_type": "stream",
     "text": [
      "lane.lane_width 621.759871526681\n",
      "lane.lane_bottom_centre 668.2284488960954\n",
      "starting count 64\n"
     ]
    },
    {
     "name": "stderr",
     "output_type": "stream",
     "text": [
      "\r",
      "t:  26%|██▌       | 65/250 [02:00<06:47,  2.20s/it, now=None]"
     ]
    },
    {
     "name": "stdout",
     "output_type": "stream",
     "text": [
      "lane.lane_width 621.8534513996885\n",
      "lane.lane_bottom_centre 668.2284488960954\n",
      "starting count 65\n"
     ]
    },
    {
     "name": "stderr",
     "output_type": "stream",
     "text": [
      "\r",
      "t:  26%|██▋       | 66/250 [02:01<05:31,  1.80s/it, now=None]"
     ]
    },
    {
     "name": "stdout",
     "output_type": "stream",
     "text": [
      "lane.lane_width 621.8958548483196\n",
      "lane.lane_bottom_centre 668.2284488960954\n",
      "starting count 66\n"
     ]
    },
    {
     "name": "stderr",
     "output_type": "stream",
     "text": [
      "\r",
      "t:  27%|██▋       | 67/250 [02:02<04:37,  1.52s/it, now=None]"
     ]
    },
    {
     "name": "stdout",
     "output_type": "stream",
     "text": [
      "lane.lane_width 621.8790272521059\n",
      "lane.lane_bottom_centre 668.2284488960954\n",
      "starting count 67\n"
     ]
    },
    {
     "name": "stderr",
     "output_type": "stream",
     "text": [
      "\r",
      "t:  27%|██▋       | 68/250 [02:05<06:36,  2.18s/it, now=None]"
     ]
    },
    {
     "name": "stdout",
     "output_type": "stream",
     "text": [
      "lane.lane_width 621.8688761907445\n",
      "lane.lane_bottom_centre 668.2284488960954\n",
      "starting count 68\n"
     ]
    },
    {
     "name": "stderr",
     "output_type": "stream",
     "text": [
      "\r",
      "t:  28%|██▊       | 69/250 [02:06<05:29,  1.82s/it, now=None]"
     ]
    },
    {
     "name": "stdout",
     "output_type": "stream",
     "text": [
      "lane.lane_width 621.8638027373709\n",
      "lane.lane_bottom_centre 668.2284488960954\n",
      "starting count 69\n"
     ]
    },
    {
     "name": "stderr",
     "output_type": "stream",
     "text": [
      "\r",
      "t:  28%|██▊       | 70/250 [02:11<08:12,  2.73s/it, now=None]"
     ]
    },
    {
     "name": "stdout",
     "output_type": "stream",
     "text": [
      "lane.lane_width 621.9044554275189\n",
      "lane.lane_bottom_centre 668.2284488960954\n",
      "starting count 70\n"
     ]
    },
    {
     "name": "stderr",
     "output_type": "stream",
     "text": [
      "\r",
      "t:  28%|██▊       | 71/250 [02:12<06:38,  2.23s/it, now=None]"
     ]
    },
    {
     "name": "stdout",
     "output_type": "stream",
     "text": [
      "lane.lane_width 621.8343030982924\n",
      "lane.lane_bottom_centre 668.2284488960954\n",
      "starting count 71\n"
     ]
    },
    {
     "name": "stderr",
     "output_type": "stream",
     "text": [
      "\r",
      "t:  29%|██▉       | 72/250 [02:13<05:23,  1.82s/it, now=None]"
     ]
    },
    {
     "name": "stdout",
     "output_type": "stream",
     "text": [
      "lane.lane_width 621.8682121423172\n",
      "lane.lane_bottom_centre 668.2284488960954\n",
      "starting count 72\n"
     ]
    },
    {
     "name": "stderr",
     "output_type": "stream",
     "text": [
      "\r",
      "t:  29%|██▉       | 73/250 [02:14<04:31,  1.53s/it, now=None]"
     ]
    },
    {
     "name": "stdout",
     "output_type": "stream",
     "text": [
      "lane.lane_width 621.8160771398009\n",
      "lane.lane_bottom_centre 668.2284488960954\n",
      "starting count 73\n"
     ]
    },
    {
     "name": "stderr",
     "output_type": "stream",
     "text": [
      "\r",
      "t:  30%|██▉       | 74/250 [02:18<06:24,  2.19s/it, now=None]"
     ]
    },
    {
     "name": "stdout",
     "output_type": "stream",
     "text": [
      "lane.lane_width 621.9445862984853\n",
      "lane.lane_bottom_centre 668.2284488960954\n",
      "starting count 74\n"
     ]
    },
    {
     "name": "stderr",
     "output_type": "stream",
     "text": [
      "\r",
      "t:  30%|███       | 75/250 [02:19<05:14,  1.80s/it, now=None]"
     ]
    },
    {
     "name": "stdout",
     "output_type": "stream",
     "text": [
      "lane.lane_width 622.0460436508528\n",
      "lane.lane_bottom_centre 668.2284488960954\n",
      "starting count 75\n"
     ]
    },
    {
     "name": "stderr",
     "output_type": "stream",
     "text": [
      "\r",
      "t:  30%|███       | 76/250 [02:20<04:24,  1.52s/it, now=None]"
     ]
    },
    {
     "name": "stdout",
     "output_type": "stream",
     "text": [
      "lane.lane_width 622.0890137876121\n",
      "lane.lane_bottom_centre 668.2284488960954\n",
      "starting count 76\n"
     ]
    },
    {
     "name": "stderr",
     "output_type": "stream",
     "text": [
      "\r",
      "t:  31%|███       | 77/250 [02:23<05:54,  2.05s/it, now=None]"
     ]
    },
    {
     "name": "stdout",
     "output_type": "stream",
     "text": [
      "lane.lane_width 622.1595263036015\n",
      "lane.lane_bottom_centre 668.2284488960954\n",
      "starting count 77\n"
     ]
    },
    {
     "name": "stderr",
     "output_type": "stream",
     "text": [
      "\r",
      "t:  31%|███       | 78/250 [02:24<04:52,  1.70s/it, now=None]"
     ]
    },
    {
     "name": "stdout",
     "output_type": "stream",
     "text": [
      "lane.lane_width 622.2402220997686\n",
      "lane.lane_bottom_centre 668.2284488960954\n",
      "starting count 78\n"
     ]
    },
    {
     "name": "stderr",
     "output_type": "stream",
     "text": [
      "\r",
      "t:  32%|███▏      | 79/250 [02:25<04:09,  1.46s/it, now=None]"
     ]
    },
    {
     "name": "stdout",
     "output_type": "stream",
     "text": [
      "lane.lane_width 622.2798564549756\n",
      "lane.lane_bottom_centre 668.2284488960954\n",
      "starting count 79\n"
     ]
    },
    {
     "name": "stderr",
     "output_type": "stream",
     "text": [
      "\r",
      "t:  32%|███▏      | 80/250 [02:26<03:38,  1.29s/it, now=None]"
     ]
    },
    {
     "name": "stdout",
     "output_type": "stream",
     "text": [
      "lane.lane_width 622.3191397323196\n",
      "lane.lane_bottom_centre 668.2284488960954\n",
      "starting count 80\n"
     ]
    },
    {
     "name": "stderr",
     "output_type": "stream",
     "text": [
      "\r",
      "t:  32%|███▏      | 81/250 [02:29<05:40,  2.02s/it, now=None]"
     ]
    },
    {
     "name": "stdout",
     "output_type": "stream",
     "text": [
      "lane.lane_width 622.3333554094854\n",
      "lane.lane_bottom_centre 668.2284488960954\n",
      "starting count 81\n"
     ]
    },
    {
     "name": "stderr",
     "output_type": "stream",
     "text": [
      "\r",
      "t:  33%|███▎      | 82/250 [02:30<04:40,  1.67s/it, now=None]"
     ]
    },
    {
     "name": "stdout",
     "output_type": "stream",
     "text": [
      "lane.lane_width 622.2940117123693\n",
      "lane.lane_bottom_centre 668.2284488960954\n",
      "starting count 82\n"
     ]
    },
    {
     "name": "stderr",
     "output_type": "stream",
     "text": [
      "\r",
      "t:  33%|███▎      | 83/250 [02:31<04:00,  1.44s/it, now=None]"
     ]
    },
    {
     "name": "stdout",
     "output_type": "stream",
     "text": [
      "lane.lane_width 622.270007987878\n",
      "lane.lane_bottom_centre 668.2284488960954\n",
      "starting count 83\n"
     ]
    },
    {
     "name": "stderr",
     "output_type": "stream",
     "text": [
      "\r",
      "t:  34%|███▎      | 84/250 [02:35<06:03,  2.19s/it, now=None]"
     ]
    },
    {
     "name": "stdout",
     "output_type": "stream",
     "text": [
      "lane.lane_width 622.2621618621326\n",
      "lane.lane_bottom_centre 668.2284488960954\n",
      "starting count 84\n"
     ]
    },
    {
     "name": "stderr",
     "output_type": "stream",
     "text": [
      "\r",
      "t:  34%|███▍      | 85/250 [02:36<05:01,  1.83s/it, now=None]"
     ]
    },
    {
     "name": "stdout",
     "output_type": "stream",
     "text": [
      "lane.lane_width 622.2349892701578\n",
      "lane.lane_bottom_centre 668.2284488960954\n",
      "starting count 85\n"
     ]
    },
    {
     "name": "stderr",
     "output_type": "stream",
     "text": [
      "\r",
      "t:  34%|███▍      | 86/250 [02:37<04:13,  1.55s/it, now=None]"
     ]
    },
    {
     "name": "stdout",
     "output_type": "stream",
     "text": [
      "lane.lane_width 622.2442149686553\n",
      "lane.lane_bottom_centre 668.2284488960954\n",
      "starting count 86\n"
     ]
    },
    {
     "name": "stderr",
     "output_type": "stream",
     "text": [
      "\r",
      "t:  35%|███▍      | 87/250 [02:40<05:37,  2.07s/it, now=None]"
     ]
    },
    {
     "name": "stdout",
     "output_type": "stream",
     "text": [
      "lane.lane_width 622.2639730733077\n",
      "lane.lane_bottom_centre 668.2284488960954\n",
      "starting count 87\n"
     ]
    },
    {
     "name": "stderr",
     "output_type": "stream",
     "text": [
      "\r",
      "t:  35%|███▌      | 88/250 [02:41<04:38,  1.72s/it, now=None]"
     ]
    },
    {
     "name": "stdout",
     "output_type": "stream",
     "text": [
      "lane.lane_width 622.2985286658017\n",
      "lane.lane_bottom_centre 668.2284488960954\n",
      "starting count 88\n"
     ]
    },
    {
     "name": "stderr",
     "output_type": "stream",
     "text": [
      "\r",
      "t:  36%|███▌      | 89/250 [02:42<03:57,  1.47s/it, now=None]"
     ]
    },
    {
     "name": "stdout",
     "output_type": "stream",
     "text": [
      "lane.lane_width 622.3649269441804\n",
      "lane.lane_bottom_centre 668.2284488960954\n",
      "starting count 89\n"
     ]
    },
    {
     "name": "stderr",
     "output_type": "stream",
     "text": [
      "\r",
      "t:  36%|███▌      | 90/250 [02:43<03:28,  1.30s/it, now=None]"
     ]
    },
    {
     "name": "stdout",
     "output_type": "stream",
     "text": [
      "lane.lane_width 622.4227006467722\n",
      "lane.lane_bottom_centre 668.2284488960954\n",
      "starting count 90\n"
     ]
    },
    {
     "name": "stderr",
     "output_type": "stream",
     "text": [
      "\r",
      "t:  36%|███▋      | 91/250 [02:47<05:25,  2.05s/it, now=None]"
     ]
    },
    {
     "name": "stdout",
     "output_type": "stream",
     "text": [
      "lane.lane_width 622.479316588492\n",
      "lane.lane_bottom_centre 668.2284488960955\n",
      "starting count 91\n"
     ]
    },
    {
     "name": "stderr",
     "output_type": "stream",
     "text": [
      "\r",
      "t:  37%|███▋      | 92/250 [02:48<04:37,  1.76s/it, now=None]"
     ]
    },
    {
     "name": "stdout",
     "output_type": "stream",
     "text": [
      "lane.lane_width 622.5173644115633\n",
      "lane.lane_bottom_centre 668.2284488960954\n",
      "starting count 92\n"
     ]
    },
    {
     "name": "stderr",
     "output_type": "stream",
     "text": [
      "\r",
      "t:  37%|███▋      | 93/250 [02:52<06:30,  2.49s/it, now=None]"
     ]
    },
    {
     "name": "stdout",
     "output_type": "stream",
     "text": [
      "lane.lane_width 622.5577868572313\n",
      "lane.lane_bottom_centre 668.2284488960954\n",
      "starting count 93\n"
     ]
    },
    {
     "name": "stderr",
     "output_type": "stream",
     "text": [
      "\r",
      "t:  38%|███▊      | 94/250 [02:53<05:16,  2.03s/it, now=None]"
     ]
    },
    {
     "name": "stdout",
     "output_type": "stream",
     "text": [
      "lane.lane_width 622.5645792875787\n",
      "lane.lane_bottom_centre 668.2284488960954\n",
      "starting count 94\n"
     ]
    },
    {
     "name": "stderr",
     "output_type": "stream",
     "text": [
      "\r",
      "t:  38%|███▊      | 95/250 [02:54<04:33,  1.77s/it, now=None]"
     ]
    },
    {
     "name": "stdout",
     "output_type": "stream",
     "text": [
      "lane.lane_width 622.5866001563375\n",
      "lane.lane_bottom_centre 668.2284488960954\n",
      "starting count 95\n"
     ]
    },
    {
     "name": "stderr",
     "output_type": "stream",
     "text": [
      "\r",
      "t:  38%|███▊      | 96/250 [02:58<06:29,  2.53s/it, now=None]"
     ]
    },
    {
     "name": "stdout",
     "output_type": "stream",
     "text": [
      "lane.lane_width 622.653618650136\n",
      "lane.lane_bottom_centre 668.2284488960954\n",
      "starting count 96\n"
     ]
    },
    {
     "name": "stderr",
     "output_type": "stream",
     "text": [
      "\r",
      "t:  39%|███▉      | 97/250 [02:59<05:25,  2.12s/it, now=None]"
     ]
    },
    {
     "name": "stdout",
     "output_type": "stream",
     "text": [
      "lane.lane_width 622.670947460084\n",
      "lane.lane_bottom_centre 668.2284488960954\n",
      "starting count 97\n",
      "lane.lane_width 622.6858897697916\n",
      "lane.lane_bottom_centre 668.2284488960954\n"
     ]
    },
    {
     "name": "stderr",
     "output_type": "stream",
     "text": [
      "\r",
      "t:  39%|███▉      | 98/250 [03:03<06:31,  2.57s/it, now=None]"
     ]
    },
    {
     "name": "stdout",
     "output_type": "stream",
     "text": [
      "starting count 98\n"
     ]
    },
    {
     "name": "stderr",
     "output_type": "stream",
     "text": [
      "\r",
      "t:  40%|███▉      | 99/250 [03:04<05:22,  2.13s/it, now=None]"
     ]
    },
    {
     "name": "stdout",
     "output_type": "stream",
     "text": [
      "lane.lane_width 622.7929869775363\n",
      "lane.lane_bottom_centre 668.2284488960953\n",
      "starting count 99\n"
     ]
    },
    {
     "name": "stderr",
     "output_type": "stream",
     "text": [
      "\r",
      "t:  40%|████      | 100/250 [03:06<04:46,  1.91s/it, now=None]"
     ]
    },
    {
     "name": "stdout",
     "output_type": "stream",
     "text": [
      "lane.lane_width 622.9404730312004\n",
      "lane.lane_bottom_centre 668.2284488960953\n",
      "starting count 100\n"
     ]
    },
    {
     "name": "stderr",
     "output_type": "stream",
     "text": [
      "\r",
      "t:  40%|████      | 101/250 [03:10<06:36,  2.66s/it, now=None]"
     ]
    },
    {
     "name": "stdout",
     "output_type": "stream",
     "text": [
      "lane.lane_width 622.989185274296\n",
      "lane.lane_bottom_centre 668.2284488960952\n",
      "starting count 101\n"
     ]
    },
    {
     "name": "stderr",
     "output_type": "stream",
     "text": [
      "\r",
      "t:  41%|████      | 102/250 [03:11<05:16,  2.14s/it, now=None]"
     ]
    },
    {
     "name": "stdout",
     "output_type": "stream",
     "text": [
      "lane.lane_width 622.9889816222551\n",
      "lane.lane_bottom_centre 668.2284488960952\n",
      "starting count 102\n"
     ]
    },
    {
     "name": "stderr",
     "output_type": "stream",
     "text": [
      "\r",
      "t:  41%|████      | 103/250 [03:15<06:44,  2.75s/it, now=None]"
     ]
    },
    {
     "name": "stdout",
     "output_type": "stream",
     "text": [
      "lane.lane_width 622.9680756479567\n",
      "lane.lane_bottom_centre 668.2284488960952\n",
      "starting count 103\n"
     ]
    },
    {
     "name": "stderr",
     "output_type": "stream",
     "text": [
      "\r",
      "t:  42%|████▏     | 104/250 [03:16<05:22,  2.21s/it, now=None]"
     ]
    },
    {
     "name": "stdout",
     "output_type": "stream",
     "text": [
      "lane.lane_width 622.9689399921947\n",
      "lane.lane_bottom_centre 668.2284488960952\n",
      "starting count 104\n"
     ]
    },
    {
     "name": "stderr",
     "output_type": "stream",
     "text": [
      "\r",
      "t:  42%|████▏     | 105/250 [03:17<04:29,  1.86s/it, now=None]"
     ]
    },
    {
     "name": "stdout",
     "output_type": "stream",
     "text": [
      "lane.lane_width 622.9897406431728\n",
      "lane.lane_bottom_centre 668.2284488960952\n",
      "starting count 105\n"
     ]
    },
    {
     "name": "stderr",
     "output_type": "stream",
     "text": [
      "\r",
      "t:  42%|████▏     | 106/250 [03:21<05:53,  2.45s/it, now=None]"
     ]
    },
    {
     "name": "stdout",
     "output_type": "stream",
     "text": [
      "lane.lane_width 623.0062896434595\n",
      "lane.lane_bottom_centre 668.2284488960952\n",
      "starting count 106\n"
     ]
    },
    {
     "name": "stderr",
     "output_type": "stream",
     "text": [
      "\r",
      "t:  43%|████▎     | 107/250 [03:22<04:59,  2.09s/it, now=None]"
     ]
    },
    {
     "name": "stdout",
     "output_type": "stream",
     "text": [
      "lane.lane_width 622.951447174276\n",
      "lane.lane_bottom_centre 668.2284488960952\n",
      "starting count 107\n"
     ]
    },
    {
     "name": "stderr",
     "output_type": "stream",
     "text": [
      "\r",
      "t:  43%|████▎     | 108/250 [03:26<06:31,  2.76s/it, now=None]"
     ]
    },
    {
     "name": "stdout",
     "output_type": "stream",
     "text": [
      "lane.lane_width 622.935734809014\n",
      "lane.lane_bottom_centre 668.2284488960952\n",
      "starting count 108\n"
     ]
    },
    {
     "name": "stderr",
     "output_type": "stream",
     "text": [
      "\r",
      "t:  44%|████▎     | 109/250 [03:27<05:12,  2.22s/it, now=None]"
     ]
    },
    {
     "name": "stdout",
     "output_type": "stream",
     "text": [
      "lane.lane_width 623.0603161058804\n",
      "lane.lane_bottom_centre 668.2284488960952\n",
      "starting count 109\n"
     ]
    },
    {
     "name": "stderr",
     "output_type": "stream",
     "text": [
      "\r",
      "t:  44%|████▍     | 110/250 [03:28<04:14,  1.82s/it, now=None]"
     ]
    },
    {
     "name": "stdout",
     "output_type": "stream",
     "text": [
      "lane.lane_width 623.0587701170363\n",
      "lane.lane_bottom_centre 668.2284488960952\n",
      "starting count 110\n"
     ]
    },
    {
     "name": "stderr",
     "output_type": "stream",
     "text": [
      "\r",
      "t:  44%|████▍     | 111/250 [03:29<03:31,  1.52s/it, now=None]"
     ]
    },
    {
     "name": "stdout",
     "output_type": "stream",
     "text": [
      "lane.lane_width 623.1391011381698\n",
      "lane.lane_bottom_centre 668.2284488960952\n",
      "starting count 111\n"
     ]
    },
    {
     "name": "stderr",
     "output_type": "stream",
     "text": [
      "\r",
      "t:  45%|████▍     | 112/250 [03:33<05:03,  2.20s/it, now=None]"
     ]
    },
    {
     "name": "stdout",
     "output_type": "stream",
     "text": [
      "lane.lane_width 623.1991383836148\n",
      "lane.lane_bottom_centre 668.2284488960952\n",
      "starting count 112\n"
     ]
    },
    {
     "name": "stderr",
     "output_type": "stream",
     "text": [
      "\r",
      "t:  45%|████▌     | 113/250 [03:34<04:08,  1.81s/it, now=None]"
     ]
    },
    {
     "name": "stdout",
     "output_type": "stream",
     "text": [
      "lane.lane_width 623.2771887279409\n",
      "lane.lane_bottom_centre 668.2284488960952\n",
      "starting count 113\n"
     ]
    },
    {
     "name": "stderr",
     "output_type": "stream",
     "text": [
      "\r",
      "t:  46%|████▌     | 114/250 [03:35<03:33,  1.57s/it, now=None]"
     ]
    },
    {
     "name": "stdout",
     "output_type": "stream",
     "text": [
      "lane.lane_width 623.32907858576\n",
      "lane.lane_bottom_centre 668.2284488960952\n",
      "starting count 114\n"
     ]
    },
    {
     "name": "stderr",
     "output_type": "stream",
     "text": [
      "\r",
      "t:  46%|████▌     | 115/250 [03:39<05:08,  2.29s/it, now=None]"
     ]
    },
    {
     "name": "stdout",
     "output_type": "stream",
     "text": [
      "lane.lane_width 623.3658293289864\n",
      "lane.lane_bottom_centre 668.2284488960952\n",
      "starting count 115\n"
     ]
    },
    {
     "name": "stderr",
     "output_type": "stream",
     "text": [
      "\r",
      "t:  46%|████▋     | 116/250 [03:40<04:12,  1.88s/it, now=None]"
     ]
    },
    {
     "name": "stdout",
     "output_type": "stream",
     "text": [
      "lane.lane_width 623.3928589085394\n",
      "lane.lane_bottom_centre 668.2284488960952\n",
      "starting count 116\n"
     ]
    },
    {
     "name": "stderr",
     "output_type": "stream",
     "text": [
      "\r",
      "t:  47%|████▋     | 117/250 [03:41<03:38,  1.64s/it, now=None]"
     ]
    },
    {
     "name": "stdout",
     "output_type": "stream",
     "text": [
      "lane.lane_width 623.3893084298485\n",
      "lane.lane_bottom_centre 668.2284488960951\n",
      "starting count 117\n"
     ]
    },
    {
     "name": "stderr",
     "output_type": "stream",
     "text": [
      "\r",
      "t:  47%|████▋     | 118/250 [03:45<04:59,  2.27s/it, now=None]"
     ]
    },
    {
     "name": "stdout",
     "output_type": "stream",
     "text": [
      "lane.lane_width 623.3575348440631\n",
      "lane.lane_bottom_centre 668.228448896095\n",
      "starting count 118\n"
     ]
    },
    {
     "name": "stderr",
     "output_type": "stream",
     "text": [
      "\r",
      "t:  48%|████▊     | 119/250 [03:45<04:04,  1.86s/it, now=None]"
     ]
    },
    {
     "name": "stdout",
     "output_type": "stream",
     "text": [
      "lane.lane_width 623.3977208813566\n",
      "lane.lane_bottom_centre 668.228448896095\n",
      "starting count 119\n"
     ]
    },
    {
     "name": "stderr",
     "output_type": "stream",
     "text": [
      "\r",
      "t:  48%|████▊     | 120/250 [03:46<03:25,  1.58s/it, now=None]"
     ]
    },
    {
     "name": "stdout",
     "output_type": "stream",
     "text": [
      "lane.lane_width 623.4529769328664\n",
      "lane.lane_bottom_centre 668.228448896095\n",
      "starting count 120\n"
     ]
    },
    {
     "name": "stderr",
     "output_type": "stream",
     "text": [
      "\r",
      "t:  48%|████▊     | 121/250 [03:50<04:36,  2.14s/it, now=None]"
     ]
    },
    {
     "name": "stdout",
     "output_type": "stream",
     "text": [
      "lane.lane_width 623.5190261022822\n",
      "lane.lane_bottom_centre 668.228448896095\n",
      "starting count 121\n"
     ]
    },
    {
     "name": "stderr",
     "output_type": "stream",
     "text": [
      "\r",
      "t:  49%|████▉     | 122/250 [03:51<04:03,  1.90s/it, now=None]"
     ]
    },
    {
     "name": "stdout",
     "output_type": "stream",
     "text": [
      "lane.lane_width 623.6090100976977\n",
      "lane.lane_bottom_centre 668.228448896095\n",
      "starting count 122\n"
     ]
    },
    {
     "name": "stderr",
     "output_type": "stream",
     "text": [
      "\r",
      "t:  49%|████▉     | 123/250 [03:52<03:32,  1.68s/it, now=None]"
     ]
    },
    {
     "name": "stdout",
     "output_type": "stream",
     "text": [
      "lane.lane_width 623.7394011886288\n",
      "lane.lane_bottom_centre 668.228448896095\n",
      "starting count 123\n"
     ]
    },
    {
     "name": "stderr",
     "output_type": "stream",
     "text": [
      "\r",
      "t:  50%|████▉     | 124/250 [03:57<05:11,  2.47s/it, now=None]"
     ]
    },
    {
     "name": "stdout",
     "output_type": "stream",
     "text": [
      "lane.lane_width 623.8070905644109\n",
      "lane.lane_bottom_centre 668.228448896095\n",
      "starting count 124\n"
     ]
    },
    {
     "name": "stderr",
     "output_type": "stream",
     "text": [
      "\r",
      "t:  50%|█████     | 125/250 [03:58<04:16,  2.05s/it, now=None]"
     ]
    },
    {
     "name": "stdout",
     "output_type": "stream",
     "text": [
      "lane.lane_width 623.9160088729758\n",
      "lane.lane_bottom_centre 668.228448896095\n",
      "starting count 125\n"
     ]
    },
    {
     "name": "stderr",
     "output_type": "stream",
     "text": [
      "\r",
      "t:  50%|█████     | 126/250 [04:01<05:02,  2.44s/it, now=None]"
     ]
    },
    {
     "name": "stdout",
     "output_type": "stream",
     "text": [
      "lane.lane_width 624.0373046146285\n",
      "lane.lane_bottom_centre 668.228448896095\n",
      "starting count 126\n"
     ]
    },
    {
     "name": "stderr",
     "output_type": "stream",
     "text": [
      "\r",
      "t:  51%|█████     | 127/250 [04:02<04:14,  2.07s/it, now=None]"
     ]
    },
    {
     "name": "stdout",
     "output_type": "stream",
     "text": [
      "lane.lane_width 624.1323531681408\n",
      "lane.lane_bottom_centre 668.228448896095\n",
      "starting count 127\n"
     ]
    },
    {
     "name": "stderr",
     "output_type": "stream",
     "text": [
      "\r",
      "t:  51%|█████     | 128/250 [04:03<03:31,  1.74s/it, now=None]"
     ]
    },
    {
     "name": "stdout",
     "output_type": "stream",
     "text": [
      "lane.lane_width 624.1870039092094\n",
      "lane.lane_bottom_centre 668.228448896095\n",
      "starting count 128\n"
     ]
    },
    {
     "name": "stderr",
     "output_type": "stream",
     "text": [
      "\r",
      "t:  52%|█████▏    | 129/250 [04:07<04:44,  2.35s/it, now=None]"
     ]
    },
    {
     "name": "stdout",
     "output_type": "stream",
     "text": [
      "lane.lane_width 624.22697936571\n",
      "lane.lane_bottom_centre 668.228448896095\n",
      "starting count 129\n"
     ]
    },
    {
     "name": "stderr",
     "output_type": "stream",
     "text": [
      "\r",
      "t:  52%|█████▏    | 130/250 [04:08<03:57,  1.98s/it, now=None]"
     ]
    },
    {
     "name": "stdout",
     "output_type": "stream",
     "text": [
      "lane.lane_width 624.2533695438506\n",
      "lane.lane_bottom_centre 668.228448896095\n",
      "starting count 130\n"
     ]
    },
    {
     "name": "stderr",
     "output_type": "stream",
     "text": [
      "\r",
      "t:  52%|█████▏    | 131/250 [04:09<03:22,  1.70s/it, now=None]"
     ]
    },
    {
     "name": "stdout",
     "output_type": "stream",
     "text": [
      "lane.lane_width 624.2890976806575\n",
      "lane.lane_bottom_centre 668.228448896095\n",
      "starting count 131\n"
     ]
    },
    {
     "name": "stderr",
     "output_type": "stream",
     "text": [
      "\r",
      "t:  53%|█████▎    | 132/250 [04:13<04:48,  2.45s/it, now=None]"
     ]
    },
    {
     "name": "stdout",
     "output_type": "stream",
     "text": [
      "lane.lane_width 624.245120044444\n",
      "lane.lane_bottom_centre 668.228448896095\n",
      "starting count 132\n"
     ]
    },
    {
     "name": "stderr",
     "output_type": "stream",
     "text": [
      "\r",
      "t:  53%|█████▎    | 133/250 [04:15<04:14,  2.17s/it, now=None]"
     ]
    },
    {
     "name": "stdout",
     "output_type": "stream",
     "text": [
      "lane.lane_width 624.2770627525902\n",
      "lane.lane_bottom_centre 668.228448896095\n",
      "starting count 133\n"
     ]
    },
    {
     "name": "stderr",
     "output_type": "stream",
     "text": [
      "\r",
      "t:  54%|█████▎    | 134/250 [04:19<05:07,  2.65s/it, now=None]"
     ]
    },
    {
     "name": "stdout",
     "output_type": "stream",
     "text": [
      "lane.lane_width 624.3216079114347\n",
      "lane.lane_bottom_centre 668.228448896095\n",
      "starting count 134\n"
     ]
    },
    {
     "name": "stderr",
     "output_type": "stream",
     "text": [
      "\r",
      "t:  54%|█████▍    | 135/250 [04:20<04:03,  2.12s/it, now=None]"
     ]
    },
    {
     "name": "stdout",
     "output_type": "stream",
     "text": [
      "lane.lane_width 624.4015286198025\n",
      "lane.lane_bottom_centre 668.228448896095\n",
      "starting count 135\n"
     ]
    },
    {
     "name": "stderr",
     "output_type": "stream",
     "text": [
      "\r",
      "t:  54%|█████▍    | 136/250 [04:20<03:19,  1.75s/it, now=None]"
     ]
    },
    {
     "name": "stdout",
     "output_type": "stream",
     "text": [
      "lane.lane_width 624.470166503019\n",
      "lane.lane_bottom_centre 668.228448896095\n",
      "starting count 136\n"
     ]
    },
    {
     "name": "stderr",
     "output_type": "stream",
     "text": [
      "\r",
      "t:  55%|█████▍    | 137/250 [04:24<04:26,  2.36s/it, now=None]"
     ]
    },
    {
     "name": "stdout",
     "output_type": "stream",
     "text": [
      "lane.lane_width 624.6391506176153\n",
      "lane.lane_bottom_centre 668.228448896095\n",
      "starting count 137\n"
     ]
    },
    {
     "name": "stderr",
     "output_type": "stream",
     "text": [
      "\r",
      "t:  55%|█████▌    | 138/250 [04:25<03:37,  1.94s/it, now=None]"
     ]
    },
    {
     "name": "stdout",
     "output_type": "stream",
     "text": [
      "lane.lane_width 624.753324084575\n",
      "lane.lane_bottom_centre 668.2284488960951\n",
      "starting count 138\n"
     ]
    },
    {
     "name": "stderr",
     "output_type": "stream",
     "text": [
      "\r",
      "t:  56%|█████▌    | 139/250 [04:26<03:02,  1.65s/it, now=None]"
     ]
    },
    {
     "name": "stdout",
     "output_type": "stream",
     "text": [
      "lane.lane_width 624.8278563489953\n",
      "lane.lane_bottom_centre 668.2284488960951\n",
      "starting count 139\n"
     ]
    },
    {
     "name": "stderr",
     "output_type": "stream",
     "text": [
      "\r",
      "t:  56%|█████▌    | 140/250 [04:30<04:08,  2.26s/it, now=None]"
     ]
    },
    {
     "name": "stdout",
     "output_type": "stream",
     "text": [
      "lane.lane_width 624.8914118894501\n",
      "lane.lane_bottom_centre 668.2284488960951\n",
      "starting count 140\n"
     ]
    },
    {
     "name": "stderr",
     "output_type": "stream",
     "text": [
      "\r",
      "t:  56%|█████▋    | 141/250 [04:31<03:22,  1.85s/it, now=None]"
     ]
    },
    {
     "name": "stdout",
     "output_type": "stream",
     "text": [
      "lane.lane_width 624.9261049072182\n",
      "lane.lane_bottom_centre 668.228448896095\n",
      "starting count 141\n"
     ]
    },
    {
     "name": "stderr",
     "output_type": "stream",
     "text": [
      "\r",
      "t:  57%|█████▋    | 142/250 [04:32<02:49,  1.57s/it, now=None]"
     ]
    },
    {
     "name": "stdout",
     "output_type": "stream",
     "text": [
      "lane.lane_width 624.9687340172154\n",
      "lane.lane_bottom_centre 668.228448896095\n",
      "starting count 142\n",
      "lane.lane_width 624.9823447520273\n",
      "lane.lane_bottom_centre 668.228448896095\n"
     ]
    },
    {
     "name": "stderr",
     "output_type": "stream",
     "text": [
      "\r",
      "t:  57%|█████▋    | 143/250 [04:35<03:33,  2.00s/it, now=None]"
     ]
    },
    {
     "name": "stdout",
     "output_type": "stream",
     "text": [
      "starting count 143\n"
     ]
    },
    {
     "name": "stderr",
     "output_type": "stream",
     "text": [
      "\r",
      "t:  58%|█████▊    | 144/250 [04:36<03:15,  1.85s/it, now=None]"
     ]
    },
    {
     "name": "stdout",
     "output_type": "stream",
     "text": [
      "lane.lane_width 625.0483598534603\n",
      "lane.lane_bottom_centre 668.2284488960948\n",
      "starting count 144\n"
     ]
    },
    {
     "name": "stderr",
     "output_type": "stream",
     "text": [
      "\r",
      "t:  58%|█████▊    | 145/250 [04:37<02:43,  1.56s/it, now=None]"
     ]
    },
    {
     "name": "stdout",
     "output_type": "stream",
     "text": [
      "lane.lane_width 625.0680730227226\n",
      "lane.lane_bottom_centre 668.2284488960948\n",
      "starting count 145\n"
     ]
    },
    {
     "name": "stderr",
     "output_type": "stream",
     "text": [
      "\r",
      "t:  58%|█████▊    | 146/250 [04:38<02:20,  1.35s/it, now=None]"
     ]
    },
    {
     "name": "stdout",
     "output_type": "stream",
     "text": [
      "lane.lane_width 625.0830390048905\n",
      "lane.lane_bottom_centre 668.2284488960947\n",
      "starting count 146\n"
     ]
    },
    {
     "name": "stderr",
     "output_type": "stream",
     "text": [
      "\r",
      "t:  59%|█████▉    | 147/250 [04:41<03:26,  2.01s/it, now=None]"
     ]
    },
    {
     "name": "stdout",
     "output_type": "stream",
     "text": [
      "lane.lane_width 625.0715689985063\n",
      "lane.lane_bottom_centre 668.2284488960947\n",
      "starting count 147\n"
     ]
    },
    {
     "name": "stderr",
     "output_type": "stream",
     "text": [
      "\r",
      "t:  59%|█████▉    | 148/250 [04:42<02:47,  1.64s/it, now=None]"
     ]
    },
    {
     "name": "stdout",
     "output_type": "stream",
     "text": [
      "lane.lane_width 625.1709478365123\n",
      "lane.lane_bottom_centre 668.2284488960947\n",
      "starting count 148\n"
     ]
    },
    {
     "name": "stderr",
     "output_type": "stream",
     "text": [
      "\r",
      "t:  60%|█████▉    | 149/250 [04:43<02:22,  1.41s/it, now=None]"
     ]
    },
    {
     "name": "stdout",
     "output_type": "stream",
     "text": [
      "lane.lane_width 625.2581230653564\n",
      "lane.lane_bottom_centre 668.2284488960947\n",
      "starting count 149\n"
     ]
    },
    {
     "name": "stderr",
     "output_type": "stream",
     "text": [
      "\r",
      "t:  60%|██████    | 150/250 [04:44<02:05,  1.26s/it, now=None]"
     ]
    },
    {
     "name": "stdout",
     "output_type": "stream",
     "text": [
      "lane.lane_width 625.3241554204967\n",
      "lane.lane_bottom_centre 668.2284488960947\n",
      "starting count 150\n"
     ]
    },
    {
     "name": "stderr",
     "output_type": "stream",
     "text": [
      "\r",
      "t:  60%|██████    | 151/250 [04:48<03:18,  2.00s/it, now=None]"
     ]
    },
    {
     "name": "stdout",
     "output_type": "stream",
     "text": [
      "lane.lane_width 625.3591690610342\n",
      "lane.lane_bottom_centre 668.2284488960947\n",
      "starting count 151\n"
     ]
    },
    {
     "name": "stderr",
     "output_type": "stream",
     "text": [
      "\r",
      "t:  61%|██████    | 152/250 [04:49<02:44,  1.68s/it, now=None]"
     ]
    },
    {
     "name": "stdout",
     "output_type": "stream",
     "text": [
      "lane.lane_width 625.3645555518503\n",
      "lane.lane_bottom_centre 668.2284488960947\n",
      "starting count 152\n"
     ]
    },
    {
     "name": "stderr",
     "output_type": "stream",
     "text": [
      "\r",
      "t:  61%|██████    | 153/250 [04:50<02:24,  1.49s/it, now=None]"
     ]
    },
    {
     "name": "stdout",
     "output_type": "stream",
     "text": [
      "lane.lane_width 625.3595524173218\n",
      "lane.lane_bottom_centre 668.2284488960947\n",
      "starting count 153\n"
     ]
    },
    {
     "name": "stderr",
     "output_type": "stream",
     "text": [
      "\r",
      "t:  62%|██████▏   | 154/250 [04:54<03:29,  2.18s/it, now=None]"
     ]
    },
    {
     "name": "stdout",
     "output_type": "stream",
     "text": [
      "lane.lane_width 625.35448785034\n",
      "lane.lane_bottom_centre 668.2284488960947\n",
      "starting count 154\n"
     ]
    },
    {
     "name": "stderr",
     "output_type": "stream",
     "text": [
      "\r",
      "t:  62%|██████▏   | 155/250 [04:55<02:54,  1.84s/it, now=None]"
     ]
    },
    {
     "name": "stdout",
     "output_type": "stream",
     "text": [
      "lane.lane_width 625.3615369552025\n",
      "lane.lane_bottom_centre 668.2284488960947\n",
      "starting count 155\n"
     ]
    },
    {
     "name": "stderr",
     "output_type": "stream",
     "text": [
      "\r",
      "t:  62%|██████▏   | 156/250 [04:56<02:34,  1.64s/it, now=None]"
     ]
    },
    {
     "name": "stdout",
     "output_type": "stream",
     "text": [
      "lane.lane_width 625.3940860178664\n",
      "lane.lane_bottom_centre 668.2284488960947\n",
      "starting count 156\n"
     ]
    },
    {
     "name": "stderr",
     "output_type": "stream",
     "text": [
      "\r",
      "t:  63%|██████▎   | 157/250 [05:00<03:43,  2.40s/it, now=None]"
     ]
    },
    {
     "name": "stdout",
     "output_type": "stream",
     "text": [
      "lane.lane_width 625.4156399304163\n",
      "lane.lane_bottom_centre 668.2284488960947\n",
      "starting count 157\n"
     ]
    },
    {
     "name": "stderr",
     "output_type": "stream",
     "text": [
      "\r",
      "t:  63%|██████▎   | 158/250 [05:01<03:14,  2.12s/it, now=None]"
     ]
    },
    {
     "name": "stdout",
     "output_type": "stream",
     "text": [
      "lane.lane_width 625.4670741668037\n",
      "lane.lane_bottom_centre 668.2284488960947\n",
      "starting count 158\n"
     ]
    },
    {
     "name": "stderr",
     "output_type": "stream",
     "text": [
      "\r",
      "t:  64%|██████▎   | 159/250 [05:06<04:11,  2.76s/it, now=None]"
     ]
    },
    {
     "name": "stdout",
     "output_type": "stream",
     "text": [
      "lane.lane_width 625.4904867281934\n",
      "lane.lane_bottom_centre 668.2284488960947\n",
      "starting count 159\n"
     ]
    },
    {
     "name": "stderr",
     "output_type": "stream",
     "text": [
      "\r",
      "t:  64%|██████▍   | 160/250 [05:07<03:28,  2.31s/it, now=None]"
     ]
    },
    {
     "name": "stdout",
     "output_type": "stream",
     "text": [
      "lane.lane_width 625.5693399206151\n",
      "lane.lane_bottom_centre 668.2284488960947\n",
      "starting count 160\n",
      "lane.lane_width 625.6372006446386\n",
      "lane.lane_bottom_centre 668.2284488960947\n"
     ]
    },
    {
     "name": "stderr",
     "output_type": "stream",
     "text": [
      "\r",
      "t:  64%|██████▍   | 161/250 [05:10<03:42,  2.50s/it, now=None]"
     ]
    },
    {
     "name": "stdout",
     "output_type": "stream",
     "text": [
      "starting count 161\n"
     ]
    },
    {
     "name": "stderr",
     "output_type": "stream",
     "text": [
      "\r",
      "t:  65%|██████▍   | 162/250 [05:12<03:25,  2.34s/it, now=None]"
     ]
    },
    {
     "name": "stdout",
     "output_type": "stream",
     "text": [
      "lane.lane_width 625.6982766423353\n",
      "lane.lane_bottom_centre 668.2284488960947\n",
      "starting count 162\n"
     ]
    },
    {
     "name": "stderr",
     "output_type": "stream",
     "text": [
      "\r",
      "t:  65%|██████▌   | 163/250 [05:13<02:47,  1.93s/it, now=None]"
     ]
    },
    {
     "name": "stdout",
     "output_type": "stream",
     "text": [
      "lane.lane_width 625.7294428921309\n",
      "lane.lane_bottom_centre 668.2284488960947\n",
      "starting count 163\n"
     ]
    },
    {
     "name": "stderr",
     "output_type": "stream",
     "text": [
      "\r",
      "t:  66%|██████▌   | 164/250 [05:14<02:20,  1.64s/it, now=None]"
     ]
    },
    {
     "name": "stdout",
     "output_type": "stream",
     "text": [
      "lane.lane_width 625.6850872189118\n",
      "lane.lane_bottom_centre 668.2284488960947\n",
      "starting count 164\n"
     ]
    },
    {
     "name": "stderr",
     "output_type": "stream",
     "text": [
      "\r",
      "t:  66%|██████▌   | 165/250 [05:17<02:59,  2.11s/it, now=None]"
     ]
    },
    {
     "name": "stdout",
     "output_type": "stream",
     "text": [
      "lane.lane_width 625.6868340919295\n",
      "lane.lane_bottom_centre 668.2284488960947\n",
      "starting count 165\n"
     ]
    },
    {
     "name": "stderr",
     "output_type": "stream",
     "text": [
      "\r",
      "t:  66%|██████▋   | 166/250 [05:18<02:33,  1.83s/it, now=None]"
     ]
    },
    {
     "name": "stdout",
     "output_type": "stream",
     "text": [
      "lane.lane_width 625.5373753789447\n",
      "lane.lane_bottom_centre 668.2284488960947\n",
      "starting count 166\n"
     ]
    },
    {
     "name": "stderr",
     "output_type": "stream",
     "text": [
      "\r",
      "t:  67%|██████▋   | 167/250 [05:19<02:11,  1.58s/it, now=None]"
     ]
    },
    {
     "name": "stdout",
     "output_type": "stream",
     "text": [
      "lane.lane_width 625.5114932691688\n",
      "lane.lane_bottom_centre 668.2284488960947\n",
      "starting count 167\n"
     ]
    },
    {
     "name": "stderr",
     "output_type": "stream",
     "text": [
      "\r",
      "t:  67%|██████▋   | 168/250 [05:23<03:02,  2.23s/it, now=None]"
     ]
    },
    {
     "name": "stdout",
     "output_type": "stream",
     "text": [
      "lane.lane_width 625.4454561681305\n",
      "lane.lane_bottom_centre 668.2284488960947\n",
      "starting count 168\n"
     ]
    },
    {
     "name": "stderr",
     "output_type": "stream",
     "text": [
      "\r",
      "t:  68%|██████▊   | 169/250 [05:24<02:31,  1.87s/it, now=None]"
     ]
    },
    {
     "name": "stdout",
     "output_type": "stream",
     "text": [
      "lane.lane_width 625.4550296285223\n",
      "lane.lane_bottom_centre 668.2284488960947\n",
      "starting count 169\n"
     ]
    },
    {
     "name": "stderr",
     "output_type": "stream",
     "text": [
      "\r",
      "t:  68%|██████▊   | 170/250 [05:25<02:08,  1.61s/it, now=None]"
     ]
    },
    {
     "name": "stdout",
     "output_type": "stream",
     "text": [
      "lane.lane_width 625.4869125835002\n",
      "lane.lane_bottom_centre 668.2284488960947\n",
      "starting count 170\n"
     ]
    },
    {
     "name": "stderr",
     "output_type": "stream",
     "text": [
      "\r",
      "t:  68%|██████▊   | 171/250 [05:29<02:56,  2.24s/it, now=None]"
     ]
    },
    {
     "name": "stdout",
     "output_type": "stream",
     "text": [
      "lane.lane_width 625.562431021738\n",
      "lane.lane_bottom_centre 668.2284488960947\n",
      "starting count 171\n"
     ]
    },
    {
     "name": "stderr",
     "output_type": "stream",
     "text": [
      "\r",
      "t:  69%|██████▉   | 172/250 [05:30<02:25,  1.86s/it, now=None]"
     ]
    },
    {
     "name": "stdout",
     "output_type": "stream",
     "text": [
      "lane.lane_width 625.6576247793579\n",
      "lane.lane_bottom_centre 668.2284488960947\n",
      "starting count 172\n"
     ]
    },
    {
     "name": "stderr",
     "output_type": "stream",
     "text": [
      "\r",
      "t:  69%|██████▉   | 173/250 [05:31<02:03,  1.60s/it, now=None]"
     ]
    },
    {
     "name": "stdout",
     "output_type": "stream",
     "text": [
      "lane.lane_width 625.7046265709539\n",
      "lane.lane_bottom_centre 668.2284488960947\n",
      "starting count 173\n"
     ]
    },
    {
     "name": "stderr",
     "output_type": "stream",
     "text": [
      "\r",
      "t:  70%|██████▉   | 174/250 [05:35<02:55,  2.31s/it, now=None]"
     ]
    },
    {
     "name": "stdout",
     "output_type": "stream",
     "text": [
      "lane.lane_width 625.7472180699293\n",
      "lane.lane_bottom_centre 668.2284488960946\n",
      "starting count 174\n"
     ]
    },
    {
     "name": "stderr",
     "output_type": "stream",
     "text": [
      "\r",
      "t:  70%|███████   | 175/250 [05:36<02:29,  1.99s/it, now=None]"
     ]
    },
    {
     "name": "stdout",
     "output_type": "stream",
     "text": [
      "lane.lane_width 625.7898180052572\n",
      "lane.lane_bottom_centre 668.2284488960946\n",
      "starting count 175\n"
     ]
    },
    {
     "name": "stderr",
     "output_type": "stream",
     "text": [
      "\r",
      "t:  70%|███████   | 176/250 [05:37<02:06,  1.71s/it, now=None]"
     ]
    },
    {
     "name": "stdout",
     "output_type": "stream",
     "text": [
      "lane.lane_width 625.765377870129\n",
      "lane.lane_bottom_centre 668.2284488960946\n",
      "starting count 176\n"
     ]
    },
    {
     "name": "stderr",
     "output_type": "stream",
     "text": [
      "\r",
      "t:  71%|███████   | 177/250 [05:41<02:51,  2.35s/it, now=None]"
     ]
    },
    {
     "name": "stdout",
     "output_type": "stream",
     "text": [
      "lane.lane_width 625.7742292522832\n",
      "lane.lane_bottom_centre 668.2284488960946\n",
      "starting count 177\n"
     ]
    },
    {
     "name": "stderr",
     "output_type": "stream",
     "text": [
      "\r",
      "t:  71%|███████   | 178/250 [05:42<02:21,  1.96s/it, now=None]"
     ]
    },
    {
     "name": "stdout",
     "output_type": "stream",
     "text": [
      "lane.lane_width 625.7930559470745\n",
      "lane.lane_bottom_centre 668.2284488960946\n",
      "starting count 178\n"
     ]
    },
    {
     "name": "stderr",
     "output_type": "stream",
     "text": [
      "\r",
      "t:  72%|███████▏  | 179/250 [05:43<01:58,  1.67s/it, now=None]"
     ]
    },
    {
     "name": "stdout",
     "output_type": "stream",
     "text": [
      "lane.lane_width 625.8070132935013\n",
      "lane.lane_bottom_centre 668.2284488960946\n",
      "starting count 179\n"
     ]
    },
    {
     "name": "stderr",
     "output_type": "stream",
     "text": [
      "\r",
      "t:  72%|███████▏  | 180/250 [05:46<02:30,  2.15s/it, now=None]"
     ]
    },
    {
     "name": "stdout",
     "output_type": "stream",
     "text": [
      "lane.lane_width 625.8087827979167\n",
      "lane.lane_bottom_centre 668.2284488960946\n",
      "starting count 180\n"
     ]
    },
    {
     "name": "stderr",
     "output_type": "stream",
     "text": [
      "\r",
      "t:  72%|███████▏  | 181/250 [05:47<02:07,  1.84s/it, now=None]"
     ]
    },
    {
     "name": "stdout",
     "output_type": "stream",
     "text": [
      "lane.lane_width 625.8660924376331\n",
      "lane.lane_bottom_centre 668.2284488960945\n",
      "starting count 181\n"
     ]
    },
    {
     "name": "stderr",
     "output_type": "stream",
     "text": [
      "\r",
      "t:  73%|███████▎  | 182/250 [05:48<01:46,  1.57s/it, now=None]"
     ]
    },
    {
     "name": "stdout",
     "output_type": "stream",
     "text": [
      "lane.lane_width 625.90510357748\n",
      "lane.lane_bottom_centre 668.2284488960945\n",
      "starting count 182\n"
     ]
    },
    {
     "name": "stderr",
     "output_type": "stream",
     "text": [
      "\r",
      "t:  73%|███████▎  | 183/250 [05:52<02:29,  2.23s/it, now=None]"
     ]
    },
    {
     "name": "stdout",
     "output_type": "stream",
     "text": [
      "lane.lane_width 625.9501046860532\n",
      "lane.lane_bottom_centre 668.2284488960945\n",
      "starting count 183\n"
     ]
    },
    {
     "name": "stderr",
     "output_type": "stream",
     "text": [
      "\r",
      "t:  74%|███████▎  | 184/250 [05:53<02:01,  1.85s/it, now=None]"
     ]
    },
    {
     "name": "stdout",
     "output_type": "stream",
     "text": [
      "lane.lane_width 626.0131184658478\n",
      "lane.lane_bottom_centre 668.2284488960945\n",
      "starting count 184\n"
     ]
    },
    {
     "name": "stderr",
     "output_type": "stream",
     "text": [
      "\r",
      "t:  74%|███████▍  | 185/250 [05:54<01:43,  1.59s/it, now=None]"
     ]
    },
    {
     "name": "stdout",
     "output_type": "stream",
     "text": [
      "lane.lane_width 626.1009005202885\n",
      "lane.lane_bottom_centre 668.2284488960945\n",
      "starting count 185\n"
     ]
    },
    {
     "name": "stderr",
     "output_type": "stream",
     "text": [
      "\r",
      "t:  74%|███████▍  | 186/250 [05:57<02:12,  2.07s/it, now=None]"
     ]
    },
    {
     "name": "stdout",
     "output_type": "stream",
     "text": [
      "lane.lane_width 626.2508951127616\n",
      "lane.lane_bottom_centre 668.2284488960945\n",
      "starting count 186\n"
     ]
    },
    {
     "name": "stderr",
     "output_type": "stream",
     "text": [
      "\r",
      "t:  75%|███████▍  | 187/250 [05:58<01:46,  1.69s/it, now=None]"
     ]
    },
    {
     "name": "stdout",
     "output_type": "stream",
     "text": [
      "lane.lane_width 626.3527043255879\n",
      "lane.lane_bottom_centre 668.2284488960945\n",
      "starting count 187\n"
     ]
    },
    {
     "name": "stderr",
     "output_type": "stream",
     "text": [
      "\r",
      "t:  75%|███████▌  | 188/250 [05:59<01:27,  1.41s/it, now=None]"
     ]
    },
    {
     "name": "stdout",
     "output_type": "stream",
     "text": [
      "lane.lane_width 626.4449388383172\n",
      "lane.lane_bottom_centre 668.2284488960945\n",
      "starting count 188\n"
     ]
    },
    {
     "name": "stderr",
     "output_type": "stream",
     "text": [
      "\r",
      "t:  76%|███████▌  | 189/250 [05:59<01:17,  1.27s/it, now=None]"
     ]
    },
    {
     "name": "stdout",
     "output_type": "stream",
     "text": [
      "lane.lane_width 626.5747799884398\n",
      "lane.lane_bottom_centre 668.2284488960945\n",
      "starting count 189\n"
     ]
    },
    {
     "name": "stderr",
     "output_type": "stream",
     "text": [
      "\r",
      "t:  76%|███████▌  | 190/250 [06:03<01:59,  1.99s/it, now=None]"
     ]
    },
    {
     "name": "stdout",
     "output_type": "stream",
     "text": [
      "lane.lane_width 626.6974551600734\n",
      "lane.lane_bottom_centre 668.2284488960945\n",
      "starting count 190\n"
     ]
    },
    {
     "name": "stderr",
     "output_type": "stream",
     "text": [
      "\r",
      "t:  76%|███████▋  | 191/250 [06:04<01:39,  1.68s/it, now=None]"
     ]
    },
    {
     "name": "stdout",
     "output_type": "stream",
     "text": [
      "lane.lane_width 626.681591124018\n",
      "lane.lane_bottom_centre 668.2284488960945\n",
      "starting count 191\n"
     ]
    },
    {
     "name": "stderr",
     "output_type": "stream",
     "text": [
      "\r",
      "t:  77%|███████▋  | 192/250 [06:05<01:21,  1.41s/it, now=None]"
     ]
    },
    {
     "name": "stdout",
     "output_type": "stream",
     "text": [
      "lane.lane_width 626.7108650991205\n",
      "lane.lane_bottom_centre 668.2284488960944\n",
      "starting count 192\n"
     ]
    },
    {
     "name": "stderr",
     "output_type": "stream",
     "text": [
      "\r",
      "t:  77%|███████▋  | 193/250 [06:06<01:09,  1.23s/it, now=None]"
     ]
    },
    {
     "name": "stdout",
     "output_type": "stream",
     "text": [
      "lane.lane_width 626.7230598975689\n",
      "lane.lane_bottom_centre 668.2284488960943\n",
      "starting count 193\n"
     ]
    },
    {
     "name": "stderr",
     "output_type": "stream",
     "text": [
      "\r",
      "t:  78%|███████▊  | 194/250 [06:09<01:49,  1.95s/it, now=None]"
     ]
    },
    {
     "name": "stdout",
     "output_type": "stream",
     "text": [
      "lane.lane_width 626.8588629869678\n",
      "lane.lane_bottom_centre 668.2284488960943\n",
      "starting count 194\n"
     ]
    },
    {
     "name": "stderr",
     "output_type": "stream",
     "text": [
      "\r",
      "t:  78%|███████▊  | 195/250 [06:10<01:29,  1.63s/it, now=None]"
     ]
    },
    {
     "name": "stdout",
     "output_type": "stream",
     "text": [
      "lane.lane_width 626.9519618662382\n",
      "lane.lane_bottom_centre 668.2284488960943\n",
      "starting count 195\n"
     ]
    },
    {
     "name": "stderr",
     "output_type": "stream",
     "text": [
      "\r",
      "t:  78%|███████▊  | 196/250 [06:11<01:15,  1.40s/it, now=None]"
     ]
    },
    {
     "name": "stdout",
     "output_type": "stream",
     "text": [
      "lane.lane_width 627.021506220141\n",
      "lane.lane_bottom_centre 668.2284488960943\n",
      "starting count 196\n"
     ]
    },
    {
     "name": "stderr",
     "output_type": "stream",
     "text": [
      "\r",
      "t:  79%|███████▉  | 197/250 [06:15<01:51,  2.11s/it, now=None]"
     ]
    },
    {
     "name": "stdout",
     "output_type": "stream",
     "text": [
      "lane.lane_width 627.1211124641774\n",
      "lane.lane_bottom_centre 668.2284488960943\n",
      "starting count 197\n"
     ]
    },
    {
     "name": "stderr",
     "output_type": "stream",
     "text": [
      "\r",
      "t:  79%|███████▉  | 198/250 [06:16<01:29,  1.72s/it, now=None]"
     ]
    },
    {
     "name": "stdout",
     "output_type": "stream",
     "text": [
      "lane.lane_width 627.1671239780444\n",
      "lane.lane_bottom_centre 668.2284488960943\n",
      "starting count 198\n"
     ]
    },
    {
     "name": "stderr",
     "output_type": "stream",
     "text": [
      "\r",
      "t:  80%|███████▉  | 199/250 [06:16<01:13,  1.44s/it, now=None]"
     ]
    },
    {
     "name": "stdout",
     "output_type": "stream",
     "text": [
      "lane.lane_width 627.212301869929\n",
      "lane.lane_bottom_centre 668.2284488960943\n",
      "starting count 199\n",
      "lane.lane_width 627.2743713430343\n",
      "lane.lane_bottom_centre 668.2284488960943\n"
     ]
    },
    {
     "name": "stderr",
     "output_type": "stream",
     "text": [
      "\r",
      "t:  80%|████████  | 200/250 [06:18<01:07,  1.36s/it, now=None]"
     ]
    },
    {
     "name": "stdout",
     "output_type": "stream",
     "text": [
      "starting count 200\n"
     ]
    },
    {
     "name": "stderr",
     "output_type": "stream",
     "text": [
      "\r",
      "t:  80%|████████  | 201/250 [06:20<01:29,  1.82s/it, now=None]"
     ]
    },
    {
     "name": "stdout",
     "output_type": "stream",
     "text": [
      "lane.lane_width 627.3469243599702\n",
      "lane.lane_bottom_centre 668.2284488960943\n",
      "starting count 201\n"
     ]
    },
    {
     "name": "stderr",
     "output_type": "stream",
     "text": [
      "\r",
      "t:  81%|████████  | 202/250 [06:21<01:10,  1.47s/it, now=None]"
     ]
    },
    {
     "name": "stdout",
     "output_type": "stream",
     "text": [
      "lane.lane_width 627.4627863170765\n",
      "lane.lane_bottom_centre 668.2284488960943\n",
      "starting count 202\n"
     ]
    },
    {
     "name": "stderr",
     "output_type": "stream",
     "text": [
      "\r",
      "t:  81%|████████  | 203/250 [06:22<00:56,  1.20s/it, now=None]"
     ]
    },
    {
     "name": "stdout",
     "output_type": "stream",
     "text": [
      "lane.lane_width 627.523754614303\n",
      "lane.lane_bottom_centre 668.2284488960943\n",
      "starting count 203\n"
     ]
    },
    {
     "name": "stderr",
     "output_type": "stream",
     "text": [
      "\r",
      "t:  82%|████████▏ | 204/250 [06:22<00:47,  1.04s/it, now=None]"
     ]
    },
    {
     "name": "stdout",
     "output_type": "stream",
     "text": [
      "lane.lane_width 627.5570488156078\n",
      "lane.lane_bottom_centre 668.2284488960943\n",
      "starting count 204\n",
      "lane.lane_width 627.6078660007931\n",
      "lane.lane_bottom_centre 668.2284488960943\n"
     ]
    },
    {
     "name": "stderr",
     "output_type": "stream",
     "text": [
      "\r",
      "t:  82%|████████▏ | 205/250 [06:24<00:53,  1.19s/it, now=None]"
     ]
    },
    {
     "name": "stdout",
     "output_type": "stream",
     "text": [
      "starting count 205\n"
     ]
    },
    {
     "name": "stderr",
     "output_type": "stream",
     "text": [
      "\r",
      "t:  82%|████████▏ | 206/250 [06:26<01:10,  1.60s/it, now=None]"
     ]
    },
    {
     "name": "stdout",
     "output_type": "stream",
     "text": [
      "lane.lane_width 627.6589780398917\n",
      "lane.lane_bottom_centre 668.2284488960943\n",
      "starting count 206\n"
     ]
    },
    {
     "name": "stderr",
     "output_type": "stream",
     "text": [
      "\r",
      "t:  83%|████████▎ | 207/250 [06:27<01:00,  1.40s/it, now=None]"
     ]
    },
    {
     "name": "stdout",
     "output_type": "stream",
     "text": [
      "lane.lane_width 627.7068008871685\n",
      "lane.lane_bottom_centre 668.2284488960943\n",
      "starting count 207\n"
     ]
    },
    {
     "name": "stderr",
     "output_type": "stream",
     "text": [
      "\r",
      "t:  83%|████████▎ | 208/250 [06:28<00:51,  1.23s/it, now=None]"
     ]
    },
    {
     "name": "stdout",
     "output_type": "stream",
     "text": [
      "lane.lane_width 627.7503528935727\n",
      "lane.lane_bottom_centre 668.2284488960943\n",
      "starting count 208\n"
     ]
    },
    {
     "name": "stderr",
     "output_type": "stream",
     "text": [
      "\r",
      "t:  84%|████████▎ | 209/250 [06:29<00:43,  1.06s/it, now=None]"
     ]
    },
    {
     "name": "stdout",
     "output_type": "stream",
     "text": [
      "lane.lane_width 627.8002905484741\n",
      "lane.lane_bottom_centre 668.2284488960943\n",
      "starting count 209\n"
     ]
    },
    {
     "name": "stderr",
     "output_type": "stream",
     "text": [
      "\r",
      "t:  84%|████████▍ | 210/250 [06:32<01:10,  1.76s/it, now=None]"
     ]
    },
    {
     "name": "stdout",
     "output_type": "stream",
     "text": [
      "lane.lane_width 627.8351077864836\n",
      "lane.lane_bottom_centre 668.2284488960943\n",
      "starting count 210\n"
     ]
    },
    {
     "name": "stderr",
     "output_type": "stream",
     "text": [
      "\r",
      "t:  84%|████████▍ | 211/250 [06:33<00:54,  1.41s/it, now=None]"
     ]
    },
    {
     "name": "stdout",
     "output_type": "stream",
     "text": [
      "lane.lane_width 627.850197514681\n",
      "lane.lane_bottom_centre 668.2284488960943\n",
      "starting count 211\n"
     ]
    },
    {
     "name": "stderr",
     "output_type": "stream",
     "text": [
      "\r",
      "t:  85%|████████▍ | 212/250 [06:33<00:43,  1.14s/it, now=None]"
     ]
    },
    {
     "name": "stdout",
     "output_type": "stream",
     "text": [
      "lane.lane_width 627.8586484027732\n",
      "lane.lane_bottom_centre 668.2284488960944\n",
      "starting count 212\n"
     ]
    },
    {
     "name": "stderr",
     "output_type": "stream",
     "text": [
      "\r",
      "t:  85%|████████▌ | 213/250 [06:34<00:36,  1.03it/s, now=None]"
     ]
    },
    {
     "name": "stdout",
     "output_type": "stream",
     "text": [
      "lane.lane_width 627.8612224314661\n",
      "lane.lane_bottom_centre 668.2284488960945\n",
      "starting count 213\n"
     ]
    },
    {
     "name": "stderr",
     "output_type": "stream",
     "text": [
      "\r",
      "t:  86%|████████▌ | 214/250 [06:34<00:30,  1.18it/s, now=None]"
     ]
    },
    {
     "name": "stdout",
     "output_type": "stream",
     "text": [
      "lane.lane_width 627.8742690197221\n",
      "lane.lane_bottom_centre 668.2284488960945\n",
      "starting count 214\n"
     ]
    },
    {
     "name": "stderr",
     "output_type": "stream",
     "text": [
      "\r",
      "t:  86%|████████▌ | 215/250 [06:38<00:56,  1.60s/it, now=None]"
     ]
    },
    {
     "name": "stdout",
     "output_type": "stream",
     "text": [
      "lane.lane_width 627.9609196826557\n",
      "lane.lane_bottom_centre 668.2284488960945\n",
      "starting count 215\n"
     ]
    },
    {
     "name": "stderr",
     "output_type": "stream",
     "text": [
      "\r",
      "t:  86%|████████▋ | 216/250 [06:38<00:43,  1.29s/it, now=None]"
     ]
    },
    {
     "name": "stdout",
     "output_type": "stream",
     "text": [
      "lane.lane_width 628.0085484681869\n",
      "lane.lane_bottom_centre 668.2284488960945\n",
      "starting count 216\n"
     ]
    },
    {
     "name": "stderr",
     "output_type": "stream",
     "text": [
      "\r",
      "t:  87%|████████▋ | 217/250 [06:39<00:36,  1.10s/it, now=None]"
     ]
    },
    {
     "name": "stdout",
     "output_type": "stream",
     "text": [
      "lane.lane_width 628.1237307159589\n",
      "lane.lane_bottom_centre 668.2284488960945\n",
      "starting count 217\n"
     ]
    },
    {
     "name": "stderr",
     "output_type": "stream",
     "text": [
      "\r",
      "t:  87%|████████▋ | 218/250 [06:40<00:30,  1.03it/s, now=None]"
     ]
    },
    {
     "name": "stdout",
     "output_type": "stream",
     "text": [
      "lane.lane_width 628.1315001327551\n",
      "lane.lane_bottom_centre 668.2284488960945\n",
      "starting count 218\n"
     ]
    },
    {
     "name": "stderr",
     "output_type": "stream",
     "text": [
      "\r",
      "t:  88%|████████▊ | 219/250 [06:40<00:27,  1.14it/s, now=None]"
     ]
    },
    {
     "name": "stdout",
     "output_type": "stream",
     "text": [
      "lane.lane_width 628.1696519043843\n",
      "lane.lane_bottom_centre 668.2284488960945\n",
      "starting count 219\n"
     ]
    },
    {
     "name": "stderr",
     "output_type": "stream",
     "text": [
      "\r",
      "t:  88%|████████▊ | 220/250 [06:43<00:45,  1.51s/it, now=None]"
     ]
    },
    {
     "name": "stdout",
     "output_type": "stream",
     "text": [
      "lane.lane_width 628.2100906028348\n",
      "lane.lane_bottom_centre 668.2284488960946\n",
      "starting count 220\n"
     ]
    },
    {
     "name": "stderr",
     "output_type": "stream",
     "text": [
      "\r",
      "t:  88%|████████▊ | 221/250 [06:44<00:36,  1.26s/it, now=None]"
     ]
    },
    {
     "name": "stdout",
     "output_type": "stream",
     "text": [
      "lane.lane_width 628.2128204832019\n",
      "lane.lane_bottom_centre 668.2284488960946\n",
      "starting count 221\n"
     ]
    },
    {
     "name": "stderr",
     "output_type": "stream",
     "text": [
      "\r",
      "t:  89%|████████▉ | 222/250 [06:45<00:29,  1.07s/it, now=None]"
     ]
    },
    {
     "name": "stdout",
     "output_type": "stream",
     "text": [
      "lane.lane_width 628.3512686373168\n",
      "lane.lane_bottom_centre 668.2284488960945\n",
      "starting count 222\n"
     ]
    },
    {
     "name": "stderr",
     "output_type": "stream",
     "text": [
      "\r",
      "t:  89%|████████▉ | 223/250 [06:45<00:24,  1.08it/s, now=None]"
     ]
    },
    {
     "name": "stdout",
     "output_type": "stream",
     "text": [
      "lane.lane_width 628.3563318203393\n",
      "lane.lane_bottom_centre 668.2284488960945\n",
      "starting count 223\n"
     ]
    },
    {
     "name": "stderr",
     "output_type": "stream",
     "text": [
      "\r",
      "t:  90%|████████▉ | 224/250 [06:46<00:21,  1.22it/s, now=None]"
     ]
    },
    {
     "name": "stdout",
     "output_type": "stream",
     "text": [
      "lane.lane_width 628.3895111310919\n",
      "lane.lane_bottom_centre 668.2284488960945\n",
      "starting count 224\n"
     ]
    },
    {
     "name": "stderr",
     "output_type": "stream",
     "text": [
      "\r",
      "t:  90%|█████████ | 225/250 [06:49<00:40,  1.60s/it, now=None]"
     ]
    },
    {
     "name": "stdout",
     "output_type": "stream",
     "text": [
      "lane.lane_width 628.4186044706854\n",
      "lane.lane_bottom_centre 668.2284488960945\n",
      "starting count 225\n"
     ]
    },
    {
     "name": "stderr",
     "output_type": "stream",
     "text": [
      "\r",
      "t:  90%|█████████ | 226/250 [06:50<00:31,  1.31s/it, now=None]"
     ]
    },
    {
     "name": "stdout",
     "output_type": "stream",
     "text": [
      "lane.lane_width 628.4431178019119\n",
      "lane.lane_bottom_centre 668.2284488960944\n",
      "starting count 226\n"
     ]
    },
    {
     "name": "stderr",
     "output_type": "stream",
     "text": [
      "\r",
      "t:  91%|█████████ | 227/250 [06:51<00:25,  1.11s/it, now=None]"
     ]
    },
    {
     "name": "stdout",
     "output_type": "stream",
     "text": [
      "lane.lane_width 628.4677719936309\n",
      "lane.lane_bottom_centre 668.2284488960944\n",
      "starting count 227\n"
     ]
    },
    {
     "name": "stderr",
     "output_type": "stream",
     "text": [
      "\r",
      "t:  91%|█████████ | 228/250 [06:51<00:21,  1.04it/s, now=None]"
     ]
    },
    {
     "name": "stdout",
     "output_type": "stream",
     "text": [
      "lane.lane_width 628.4936603134944\n",
      "lane.lane_bottom_centre 668.2284488960944\n",
      "starting count 228\n",
      "lane.lane_width 628.5007357685793\n",
      "lane.lane_bottom_centre 668.2284488960943\n"
     ]
    },
    {
     "name": "stderr",
     "output_type": "stream",
     "text": [
      "\r",
      "t:  92%|█████████▏| 229/250 [06:55<00:35,  1.69s/it, now=None]"
     ]
    },
    {
     "name": "stdout",
     "output_type": "stream",
     "text": [
      "starting count 229\n"
     ]
    },
    {
     "name": "stderr",
     "output_type": "stream",
     "text": [
      "\r",
      "t:  92%|█████████▏| 230/250 [06:55<00:27,  1.36s/it, now=None]"
     ]
    },
    {
     "name": "stdout",
     "output_type": "stream",
     "text": [
      "lane.lane_width 628.6251330125488\n",
      "lane.lane_bottom_centre 668.2284488960943\n",
      "starting count 230\n"
     ]
    },
    {
     "name": "stderr",
     "output_type": "stream",
     "text": [
      "\r",
      "t:  92%|█████████▏| 231/250 [06:56<00:21,  1.14s/it, now=None]"
     ]
    },
    {
     "name": "stdout",
     "output_type": "stream",
     "text": [
      "lane.lane_width 628.6322005701543\n",
      "lane.lane_bottom_centre 668.2284488960943\n",
      "starting count 231\n"
     ]
    },
    {
     "name": "stderr",
     "output_type": "stream",
     "text": [
      "\r",
      "t:  93%|█████████▎| 232/250 [06:56<00:17,  1.01it/s, now=None]"
     ]
    },
    {
     "name": "stdout",
     "output_type": "stream",
     "text": [
      "lane.lane_width 628.6365203988498\n",
      "lane.lane_bottom_centre 668.2284488960943\n",
      "starting count 232\n"
     ]
    },
    {
     "name": "stderr",
     "output_type": "stream",
     "text": [
      "\r",
      "t:  93%|█████████▎| 233/250 [06:57<00:15,  1.08it/s, now=None]"
     ]
    },
    {
     "name": "stdout",
     "output_type": "stream",
     "text": [
      "lane.lane_width 628.6678288580539\n",
      "lane.lane_bottom_centre 668.2284488960943\n",
      "starting count 233\n"
     ]
    },
    {
     "name": "stderr",
     "output_type": "stream",
     "text": [
      "\r",
      "t:  94%|█████████▎| 234/250 [07:01<00:28,  1.79s/it, now=None]"
     ]
    },
    {
     "name": "stdout",
     "output_type": "stream",
     "text": [
      "lane.lane_width 628.6973560116231\n",
      "lane.lane_bottom_centre 668.2284488960942\n",
      "starting count 234\n"
     ]
    },
    {
     "name": "stderr",
     "output_type": "stream",
     "text": [
      "\r",
      "t:  94%|█████████▍| 235/250 [07:02<00:22,  1.48s/it, now=None]"
     ]
    },
    {
     "name": "stdout",
     "output_type": "stream",
     "text": [
      "lane.lane_width 628.7258252451317\n",
      "lane.lane_bottom_centre 668.2284488960942\n",
      "starting count 235\n"
     ]
    },
    {
     "name": "stderr",
     "output_type": "stream",
     "text": [
      "\r",
      "t:  94%|█████████▍| 236/250 [07:03<00:17,  1.27s/it, now=None]"
     ]
    },
    {
     "name": "stdout",
     "output_type": "stream",
     "text": [
      "lane.lane_width 628.7153336197919\n",
      "lane.lane_bottom_centre 668.2284488960942\n",
      "starting count 236\n"
     ]
    },
    {
     "name": "stderr",
     "output_type": "stream",
     "text": [
      "\r",
      "t:  95%|█████████▍| 237/250 [07:06<00:25,  1.95s/it, now=None]"
     ]
    },
    {
     "name": "stdout",
     "output_type": "stream",
     "text": [
      "lane.lane_width 628.7406915443049\n",
      "lane.lane_bottom_centre 668.2284488960942\n",
      "starting count 237\n"
     ]
    },
    {
     "name": "stderr",
     "output_type": "stream",
     "text": [
      "\r",
      "t:  95%|█████████▌| 238/250 [07:07<00:19,  1.59s/it, now=None]"
     ]
    },
    {
     "name": "stdout",
     "output_type": "stream",
     "text": [
      "lane.lane_width 628.7512440056678\n",
      "lane.lane_bottom_centre 668.2284488960942\n",
      "starting count 238\n"
     ]
    },
    {
     "name": "stderr",
     "output_type": "stream",
     "text": [
      "\r",
      "t:  96%|█████████▌| 239/250 [07:08<00:14,  1.35s/it, now=None]"
     ]
    },
    {
     "name": "stdout",
     "output_type": "stream",
     "text": [
      "lane.lane_width 628.765678378177\n",
      "lane.lane_bottom_centre 668.2284488960942\n",
      "starting count 239\n"
     ]
    },
    {
     "name": "stderr",
     "output_type": "stream",
     "text": [
      "\r",
      "t:  96%|█████████▌| 240/250 [07:08<00:11,  1.20s/it, now=None]"
     ]
    },
    {
     "name": "stdout",
     "output_type": "stream",
     "text": [
      "lane.lane_width 628.7410846858036\n",
      "lane.lane_bottom_centre 668.228448896094\n",
      "starting count 240\n"
     ]
    },
    {
     "name": "stderr",
     "output_type": "stream",
     "text": [
      "\r",
      "t:  96%|█████████▋| 241/250 [07:12<00:17,  1.96s/it, now=None]"
     ]
    },
    {
     "name": "stdout",
     "output_type": "stream",
     "text": [
      "lane.lane_width 628.7375063662329\n",
      "lane.lane_bottom_centre 668.2284488960942\n",
      "starting count 241\n"
     ]
    },
    {
     "name": "stderr",
     "output_type": "stream",
     "text": [
      "\r",
      "t:  97%|█████████▋| 242/250 [07:13<00:12,  1.62s/it, now=None]"
     ]
    },
    {
     "name": "stdout",
     "output_type": "stream",
     "text": [
      "lane.lane_width 628.7444189014453\n",
      "lane.lane_bottom_centre 668.2284488960942\n",
      "starting count 242\n"
     ]
    },
    {
     "name": "stderr",
     "output_type": "stream",
     "text": [
      "\r",
      "t:  97%|█████████▋| 243/250 [07:14<00:09,  1.40s/it, now=None]"
     ]
    },
    {
     "name": "stdout",
     "output_type": "stream",
     "text": [
      "lane.lane_width 628.7532752457721\n",
      "lane.lane_bottom_centre 668.2284488960943\n",
      "starting count 243\n"
     ]
    },
    {
     "name": "stderr",
     "output_type": "stream",
     "text": [
      "\r",
      "t:  98%|█████████▊| 244/250 [07:15<00:07,  1.22s/it, now=None]"
     ]
    },
    {
     "name": "stdout",
     "output_type": "stream",
     "text": [
      "lane.lane_width 628.7586856521134\n",
      "lane.lane_bottom_centre 668.2284488960943\n",
      "starting count 244\n"
     ]
    },
    {
     "name": "stderr",
     "output_type": "stream",
     "text": [
      "\r",
      "t:  98%|█████████▊| 245/250 [07:18<00:09,  1.95s/it, now=None]"
     ]
    },
    {
     "name": "stdout",
     "output_type": "stream",
     "text": [
      "lane.lane_width 628.7257301274112\n",
      "lane.lane_bottom_centre 668.2284488960943\n",
      "starting count 245\n"
     ]
    },
    {
     "name": "stderr",
     "output_type": "stream",
     "text": [
      "\r",
      "t:  98%|█████████▊| 246/250 [07:19<00:06,  1.67s/it, now=None]"
     ]
    },
    {
     "name": "stdout",
     "output_type": "stream",
     "text": [
      "lane.lane_width 628.7233308749934\n",
      "lane.lane_bottom_centre 668.2284488960943\n",
      "starting count 246\n"
     ]
    },
    {
     "name": "stderr",
     "output_type": "stream",
     "text": [
      "\r",
      "t:  99%|█████████▉| 247/250 [07:21<00:04,  1.51s/it, now=None]"
     ]
    },
    {
     "name": "stdout",
     "output_type": "stream",
     "text": [
      "lane.lane_width 628.7284026987668\n",
      "lane.lane_bottom_centre 668.2284488960943\n",
      "starting count 247\n"
     ]
    },
    {
     "name": "stderr",
     "output_type": "stream",
     "text": [
      "\r",
      "t:  99%|█████████▉| 248/250 [07:24<00:04,  2.18s/it, now=None]"
     ]
    },
    {
     "name": "stdout",
     "output_type": "stream",
     "text": [
      "lane.lane_width 628.7270172452603\n",
      "lane.lane_bottom_centre 668.2284488960943\n",
      "starting count 248\n"
     ]
    },
    {
     "name": "stderr",
     "output_type": "stream",
     "text": [
      "\r",
      "t: 100%|█████████▉| 249/250 [07:25<00:01,  1.78s/it, now=None]"
     ]
    },
    {
     "name": "stdout",
     "output_type": "stream",
     "text": [
      "lane.lane_width 628.735463098993\n",
      "lane.lane_bottom_centre 668.2284488960943\n",
      "starting count 249\n"
     ]
    },
    {
     "name": "stderr",
     "output_type": "stream",
     "text": [
      "\r",
      "t: 100%|██████████| 250/250 [07:26<00:00,  1.50s/it, now=None]"
     ]
    },
    {
     "name": "stdout",
     "output_type": "stream",
     "text": [
      "lane.lane_width 628.7397522131786\n",
      "lane.lane_bottom_centre 668.2284488960944\n",
      "starting count 250\n"
     ]
    },
    {
     "name": "stderr",
     "output_type": "stream",
     "text": [
      "\r",
      "                                                              "
     ]
    },
    {
     "name": "stdout",
     "output_type": "stream",
     "text": [
      "lane.lane_width 628.7024363062491\n",
      "lane.lane_bottom_centre 668.2284488960944\n"
     ]
    },
    {
     "name": "stderr",
     "output_type": "stream",
     "text": [
      "\r"
     ]
    },
    {
     "name": "stdout",
     "output_type": "stream",
     "text": [
      "Moviepy - Done !\n",
      "Moviepy - video ready output_files/video_clips/project_video_with_history.mp4\n",
      "Wall time: 7min 32s\n"
     ]
    }
   ],
   "source": [
    "# Define a class to receive the characteristics of each line detection\n",
    "class Line():\n",
    "    def __init__(self):\n",
    "        #Let's count the number of consecutive frames\n",
    "        self.count = 0\n",
    "        # was the line detected in the last iteration?\n",
    "        self.detected = False  \n",
    "        #polynomial coefficients for the most recent fit\n",
    "        self.curve_fit = []  \n",
    "        # Traking variance for the right lane\n",
    "        self.variance = []\n",
    "        #difference in fit coefficients between last and new fits. Just store the difference in coefficients for the last frame\n",
    "        self.coeff_diff = [[0,0,0],[0,0,0]]       \n",
    "        #Lane width measured at the start of reset\n",
    "        self.lane_width = 0\n",
    "        #Let's track the midpoint of the previous frame\n",
    "        self.lane_bottom_centre = 0\n",
    "        \n",
    "        \n",
    "        # x values of the curve that we fit intially\n",
    "        #self.current_xfitted = []\n",
    "        # x values for detected line pixels\n",
    "        #self.allx = []  \n",
    "        # y values for detected line pixels\n",
    "        #self.ally = []\n",
    "        \n",
    "        # x values of the last n fits of the line\n",
    "        self.recent_xfitted = [] \n",
    "        #average x values of the fitted line over the last n iterations\n",
    "        self.bestx = None     \n",
    "        #polynomial coefficients averaged over the last n iterations\n",
    "        self.best_fit = None  \n",
    "        #radius of curvature of the line in some units\n",
    "        self.radius_of_curvature = None \n",
    "        #distance in meters of vehicle center from the line\n",
    "        self.line_base_pos = None \n",
    "        \n",
    "lane=Line()\n",
    "\n",
    "project_output = 'output_files/video_clips/project_video_with_history.mp4'\n",
    "\n",
    "#clip1 = VideoFileClip(\"project_video.mp4\")\n",
    "clip1 = VideoFileClip(\"project_video.mp4\").subclip(15,25)\n",
    "\n",
    "project_clip = clip1.fl_image(process_image) #NOTE: this function expects color images! \n",
    "%time project_clip.write_videofile(project_output, audio=False)"
   ]
  },
  {
   "cell_type": "code",
   "execution_count": 8,
   "metadata": {},
   "outputs": [
    {
     "data": {
      "text/html": [
       "\n",
       "<video width=\"960\" height=\"540\" controls>\n",
       "  <source src=\"output_files/video_clips/project_video_with_history.mp4\">\n",
       "</video>\n"
      ],
      "text/plain": [
       "<IPython.core.display.HTML object>"
      ]
     },
     "execution_count": 8,
     "metadata": {},
     "output_type": "execute_result"
    }
   ],
   "source": [
    "HTML(\"\"\"\n",
    "<video width=\"960\" height=\"540\" controls>\n",
    "  <source src=\"{0}\">\n",
    "</video>\n",
    "\"\"\".format(project_output))"
   ]
  },
  {
   "cell_type": "markdown",
   "metadata": {},
   "source": [
    "."
   ]
  },
  {
   "cell_type": "code",
   "execution_count": null,
   "metadata": {
    "scrolled": true
   },
   "outputs": [],
   "source": []
  },
  {
   "cell_type": "code",
   "execution_count": null,
   "metadata": {},
   "outputs": [],
   "source": []
  }
 ],
 "metadata": {
  "kernelspec": {
   "display_name": "Python 3",
   "language": "python",
   "name": "python3"
  },
  "language_info": {
   "codemirror_mode": {
    "name": "ipython",
    "version": 3
   },
   "file_extension": ".py",
   "mimetype": "text/x-python",
   "name": "python",
   "nbconvert_exporter": "python",
   "pygments_lexer": "ipython3",
   "version": "3.8.3"
  }
 },
 "nbformat": 4,
 "nbformat_minor": 4
}
