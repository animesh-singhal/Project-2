{
 "cells": [
  {
   "cell_type": "markdown",
   "metadata": {},
   "source": [
    "Ye ab tak ka code:"
   ]
  },
  {
   "cell_type": "code",
   "execution_count": 1,
   "metadata": {},
   "outputs": [],
   "source": [
    "import cv2\n",
    "import numpy as np\n",
    "import matplotlib.pyplot as plt\n",
    "import matplotlib.image as mpimg\n",
    "\n",
    "# Import everything needed to edit/save/watch video clips\n",
    "from moviepy.editor import VideoFileClip\n",
    "from IPython.display import HTML\n",
    "\n",
    "\n",
    "def process_image(frame):\n",
    "    \n",
    "    def cal_undistort(img):\n",
    "        # Reads mtx and dist matrices, peforms image distortion correction and returns the undistorted image\n",
    "\n",
    "        import pickle\n",
    "\n",
    "        # Read in the saved matrices\n",
    "        my_dist_pickle = pickle.load( open( \"output_files/calib_pickle_files/dist_pickle.p\", \"rb\" ) )\n",
    "        mtx = my_dist_pickle[\"mtx\"]\n",
    "        dist = my_dist_pickle[\"dist\"]\n",
    "\n",
    "        undistorted_img = cv2.undistort(img, mtx, dist, None, mtx)\n",
    "        #undistorted_img =  cv2.cvtColor(undistorted_img, cv2.COLOR_BGR2RGB)   #Use if you use cv2 to import image. ax.imshow() needs RGB image\n",
    "        return undistorted_img\n",
    "\n",
    "    \n",
    "    def yellow_threshold(img, sxbinary):\n",
    "        # Convert to HLS color space and separate the S channel\n",
    "        # Note: img is the undistorted image\n",
    "        hls = cv2.cvtColor(img, cv2.COLOR_RGB2HLS)\n",
    "        s_channel = hls[:,:,2]\n",
    "        h_channel = hls[:,:,0]\n",
    "        # Threshold color channel\n",
    "        s_thresh_min = 100\n",
    "        s_thresh_max = 255\n",
    "        \n",
    "        #for 360 degree, my value for yellow ranged between 35 and 50. So uska half kar diya\n",
    "        h_thresh_min = 10    \n",
    "        h_thresh_max = 25\n",
    "\n",
    "        s_binary = np.zeros_like(s_channel)\n",
    "        s_binary[(s_channel >= s_thresh_min) & (s_channel <= s_thresh_max)] = 1\n",
    "\n",
    "        h_binary = np.zeros_like(h_channel)\n",
    "        h_binary[(h_channel >= h_thresh_min) & (h_channel <= h_thresh_max)] = 1\n",
    "\n",
    "        # Combine the two binary thresholds\n",
    "        yellow_binary = np.zeros_like(s_binary)\n",
    "        yellow_binary[(((s_binary == 1) | (sxbinary == 1) ) & (h_binary ==1))] = 1\n",
    "        return yellow_binary\n",
    "    \n",
    "    def xgrad_binary(img, thresh_min=30, thresh_max=100):\n",
    "        # Grayscale image\n",
    "        gray = cv2.cvtColor(img, cv2.COLOR_RGB2GRAY)\n",
    "        # Sobel x\n",
    "        sobelx = cv2.Sobel(gray, cv2.CV_64F, 1, 0) # Take the derivative in x\n",
    "        abs_sobelx = np.absolute(sobelx) # Absolute x derivative to accentuate lines away from horizontal\n",
    "        scaled_sobel = np.uint8(255*abs_sobelx/np.max(abs_sobelx))\n",
    "        # Threshold x gradient\n",
    "        #thresh_min = 30    #Already given above\n",
    "        #thresh_max = 100\n",
    "\n",
    "        sxbinary = np.zeros_like(scaled_sobel)\n",
    "        sxbinary[(scaled_sobel >= thresh_min) & (scaled_sobel <= thresh_max)] = 1\n",
    "        return sxbinary\n",
    "    \n",
    "    def white_threshold(img, sxbinary, lower_white_thresh = 170):\n",
    "        r_channel = img[:,:,0]\n",
    "        g_channel = img[:,:,1]\n",
    "        b_channel = img[:,:,2]\n",
    "        # Threshold color channel\n",
    "        r_thresh_min = lower_white_thresh\n",
    "        r_thresh_max = 255\n",
    "        r_binary = np.zeros_like(r_channel)\n",
    "        r_binary[(r_channel >= r_thresh_min) & (r_channel <= r_thresh_max)] = 1\n",
    "        \n",
    "        g_thresh_min = lower_white_thresh\n",
    "        g_thresh_max = 255\n",
    "        g_binary = np.zeros_like(g_channel)\n",
    "        g_binary[(g_channel >= g_thresh_min) & (g_channel <= g_thresh_max)] = 1\n",
    "\n",
    "        b_thresh_min = lower_white_thresh\n",
    "        b_thresh_max = 255\n",
    "        b_binary = np.zeros_like(b_channel)\n",
    "        b_binary[(b_channel >= b_thresh_min) & (b_channel <= b_thresh_max)] = 1\n",
    "\n",
    "        white_binary = np.zeros_like(r_channel)\n",
    "        white_binary[((r_binary ==1) & (g_binary ==1) & (b_binary ==1) & (sxbinary==1))] = 1\n",
    "        return white_binary\n",
    "        \n",
    "    def thresh_img(img):\n",
    "                       \n",
    "       \n",
    "        #sxbinary = xgrad_binary(img, thresh_min=30, thresh_max=100)\n",
    "        sxbinary = xgrad_binary(img, thresh_min=25, thresh_max=130)\n",
    "        yellow_binary = yellow_threshold(img, sxbinary)     #(((s) | (sx)) & (h))\n",
    "        white_binary = white_threshold(img, sxbinary, lower_white_thresh = 150)\n",
    "        \n",
    "        # Combine the two binary thresholds\n",
    "        combined_binary = np.zeros_like(sxbinary)\n",
    "        combined_binary[((yellow_binary == 1) | (white_binary == 1))] = 1\n",
    "        \n",
    "        out_img = np.dstack((combined_binary, combined_binary, combined_binary))*255\n",
    "        \n",
    "        return out_img\n",
    "    \n",
    "    def perspective_transform(img):\n",
    "    \n",
    "        # Define calibration box in source (original) and destination (desired or warped) coordinates\n",
    "\n",
    "        img_size = (img.shape[1], img.shape[0])\n",
    "        \"\"\"Notice the format used for img_size. Yaha bhi ulta hai. x axis aur fir y axis chahiye. \n",
    "              Apne format mein rows(y axis) and columns (x axis) hain\"\"\"\n",
    "\n",
    "\n",
    "        # Four source coordinates\n",
    "        # Order of points: top left, top right, bottom right, bottom left\n",
    "        \n",
    "        src = np.array(\n",
    "            [[435*img.shape[1]/960, 350*img.shape[0]/540],\n",
    "             [530*img.shape[1]/960, 350*img.shape[0]/540],\n",
    "             [885*img.shape[1]/960, img.shape[0]],\n",
    "             [220*img.shape[1]/960, img.shape[0]]], dtype='f')\n",
    "        \n",
    "\n",
    "        # Next, we'll define a desired rectangle plane for the warped image.\n",
    "        # We'll choose 4 points where we want source points to end up \n",
    "        # This time we'll choose our points by eyeballing a rectangle\n",
    "\n",
    "        dst = np.array(\n",
    "            [[290*img.shape[1]/960, 0],\n",
    "             [740*img.shape[1]/960, 0],\n",
    "             [740*img.shape[1]/960, img.shape[0]],\n",
    "             [290*img.shape[1]/960, img.shape[0]]], dtype='f')\n",
    "\n",
    "\n",
    "        #Compute the perspective transform, M, given source and destination points:\n",
    "        M = cv2.getPerspectiveTransform(src, dst)\n",
    "\n",
    "        #Warp an image using the perspective transform, M; using linear interpolation    \n",
    "        #Interpolating points is just filling in missing points as it warps an image\n",
    "        # The input image for this function can be a colored image too\n",
    "        warped = cv2.warpPerspective(img, M, img_size, flags=cv2.INTER_LINEAR)\n",
    "              \n",
    "        return warped, src, dst \n",
    "\n",
    "    def rev_perspective_transform(img, src, dst):\n",
    "\n",
    "        img_size = (img.shape[1], img.shape[0])\n",
    "\n",
    "        #Compute the perspective transform, M, given source and destination points:\n",
    "        Minv = cv2.getPerspectiveTransform(dst, src)\n",
    "\n",
    "        #Warp an image using the perspective transform, M; using linear interpolation    \n",
    "        #Interpolating points is just filling in missing points as it warps an image\n",
    "        # The input image for this function can be a colored image too\n",
    "        un_warped = cv2.warpPerspective(img, Minv, img_size, flags=cv2.INTER_LINEAR)\n",
    "              \n",
    "        return un_warped, Minv \n",
    "\n",
    "    \n",
    "    def draw_polygon(img1, img2, src, dst):\n",
    "        src = src.astype(int)  #Very important step (Pixels cannot be in decimals)\n",
    "        dst = dst.astype(int)\n",
    "        cv2.polylines(img1, [src], True, (255,0,0), 3)\n",
    "        cv2.polylines(img2, [dst], True, (255,0,0), 3)\n",
    "    \n",
    "    def histogram_bottom_peaks (warped_img):\n",
    "        # This will detect the bottom point of our lane lines\n",
    "        \n",
    "        # Take a histogram of the bottom half of the image\n",
    "        bottom_half = warped_img[((2*warped_img.shape[0])//5):,:,0]     # Collecting all pixels in the bottom half\n",
    "        histogram = np.sum(bottom_half, axis=0)                         # Summing them along y axis (or along columns)\n",
    "        # Find the peak of the left and right halves of the histogram\n",
    "        # These will be the starting point for the left and right lines\n",
    "        midpoint = np.int(histogram.shape[0]//2)        # 1D array hai histogram toh uska bas 0th index filled hoga \n",
    "        #print(np.shape(histogram))     #OUTPUT:(1280,)\n",
    "        leftx_base = np.argmax(histogram[:midpoint])\n",
    "        rightx_base = np.argmax(histogram[midpoint:]) + midpoint\n",
    "\n",
    "        return leftx_base, rightx_base\n",
    "    \n",
    "    def find_lane_pixels(warped_img):\n",
    "    \n",
    "        leftx_base, rightx_base = histogram_bottom_peaks(warped_img)\n",
    "   \n",
    "        \n",
    "        # HYPERPARAMETERS\n",
    "        # Choose the number of sliding windows\n",
    "        nwindows = 9\n",
    "        # Set the width of the windows +/- margin. So width = 2*margin \n",
    "        margin = 90\n",
    "        # Set minimum number of pixels found to recenter window\n",
    "        minpix = 1000    #I've changed this from 50 as given in lectures\n",
    "    \n",
    "        # Set height of windows - based on nwindows above and image shape\n",
    "        window_height = np.int(warped_img.shape[0]//nwindows)\n",
    "        # Identify the x and y positions of all nonzero pixels in the image\n",
    "        nonzero = warped_img.nonzero()  #pixel ke coordinates dega 2 seperate arrays mein\n",
    "        nonzeroy = np.array(nonzero[0])    # Y coordinates milenge 1D array mein. They will we arranged in the order of pixels\n",
    "        nonzerox = np.array(nonzero[1])\n",
    "        # Current positions to be updated later for each window in nwindows\n",
    "        leftx_current = leftx_base         #initially set kar diya hai. For loop ke end mein change karenge\n",
    "        rightx_current = rightx_base\n",
    "\n",
    "        # Create empty lists to receive left and right lane pixel indices\n",
    "        left_lane_inds = []   # Ismein lane-pixels ke indices collect karenge. \n",
    "                              # 'nonzerox' array mein index daalke coordinate mil jaayega\n",
    "        right_lane_inds = []  \n",
    "\n",
    "        # Step through the windows one by one\n",
    "        for window in range(nwindows):\n",
    "            # Identify window boundaries in x and y (and right and left)\n",
    "            win_y_low = warped_img.shape[0] - (window+1)*window_height\n",
    "            win_y_high = warped_img.shape[0] - window*window_height\n",
    "            \"\"\"### TO-DO: Find the four below boundaries of the window ###\"\"\"\n",
    "            win_xleft_low = leftx_current - margin  \n",
    "            win_xleft_high = leftx_current + margin  \n",
    "            win_xright_low = rightx_current - margin  \n",
    "            win_xright_high = rightx_current + margin \n",
    "            \n",
    "            \"\"\"\n",
    "            # Create an output image to draw on and visualize the result\n",
    "            out_img = np.copy(warped_img)\n",
    "            # Draw the windows on the visualization image\n",
    "            cv2.rectangle(out_img,(win_xleft_low,win_y_low),\n",
    "            (win_xleft_high,win_y_high),(0,255,0), 2) \n",
    "            cv2.rectangle(out_img,(win_xright_low,win_y_low),\n",
    "            (win_xright_high,win_y_high),(0,255,0), 2) \n",
    "            \"\"\"\n",
    "\n",
    "            ### TO-DO: Identify the nonzero pixels in x and y within the window ###\n",
    "            #Iska poora explanation seperate page mein likha hai\n",
    "            good_left_inds = ((nonzeroy >= win_y_low) & (nonzeroy < win_y_high) & \n",
    "            (nonzerox >= win_xleft_low) &  (nonzerox < win_xleft_high)).nonzero()[0]\n",
    "\n",
    "            good_right_inds = ((nonzeroy >= win_y_low) & (nonzeroy < win_y_high) & \n",
    "            (nonzerox >= win_xright_low) &  (nonzerox < win_xright_high)).nonzero()[0]\n",
    "\n",
    "\n",
    "            # Append these indices to the lists\n",
    "            left_lane_inds.append(good_left_inds)\n",
    "            right_lane_inds.append(good_right_inds)\n",
    "\n",
    "            # If you found > minpix pixels, recenter next window on the mean position of the pixels in your current window (re-centre)\n",
    "            if len(good_left_inds) > minpix:\n",
    "                leftx_current = np.int(np.mean(nonzerox[good_left_inds]))\n",
    "            if len(good_right_inds) > minpix:        \n",
    "                rightx_current = np.int(np.mean(nonzerox[good_right_inds]))\n",
    "    \n",
    "    \n",
    "        # Concatenate the arrays of indices (previously was a list of lists of pixels)\n",
    "        try:\n",
    "            left_lane_inds = np.concatenate(left_lane_inds)\n",
    "            right_lane_inds = np.concatenate(right_lane_inds)\n",
    "        except ValueError:\n",
    "            # Avoids an error if the above is not implemented fully\n",
    "            pass\n",
    "    \n",
    "        # Extract left and right line pixel positions\n",
    "        leftx = nonzerox[left_lane_inds]\n",
    "        lefty = nonzeroy[left_lane_inds] \n",
    "        rightx = nonzerox[right_lane_inds]\n",
    "        righty = nonzeroy[right_lane_inds]\n",
    "\n",
    "        \"\"\"return leftx, lefty, rightx, righty, out_img\"\"\" #agar rectangles bana rahe ho toh out_image rakhna\n",
    "        return leftx, lefty, rightx, righty\n",
    "    \n",
    "        \n",
    "    def fit_polynomial(warped_img, leftx, lefty, rightx, righty, fit_history, variance_history, rad_curv_history):\n",
    "        \n",
    "        #Fit a second order polynomial to each using `np.polyfit` ###\n",
    "        left_fit = np.polyfit(lefty,leftx,2)\n",
    "        right_fit = np.polyfit(righty,rightx,2)\n",
    "\n",
    "        # We'll plot x as a function of y\n",
    "        ploty = np.linspace(0, warped_img.shape[0]-1, warped_img.shape[0])\n",
    "        \n",
    "         \n",
    "        try:\n",
    "            a1_new= left_fit[0]\n",
    "            b1_new= left_fit[1]\n",
    "            c1_new= left_fit[2]\n",
    "            \n",
    "            a2_new= right_fit[0]\n",
    "            b2_new= right_fit[1]\n",
    "            c2_new= right_fit[2]\n",
    "            \n",
    "            left_fitx = a1_new*ploty**2 + b1_new*ploty + c1_new\n",
    "            right_fitx = a2_new*ploty**2 + b2_new*ploty + c2_new\n",
    "            \n",
    "            status = True\n",
    "                \n",
    "        except TypeError:\n",
    "            # Avoids an error if `left` and `right_fit` are still none or incorrect\n",
    "            print('The function failed to fit a line!')\n",
    "            \n",
    "            if(len(lane.curve_fit)!=5):    #If you dont have any values in the history\n",
    "                left_fitx = 1*ploty**2 + 1*ploty     #This is a senseless curve. If it was the 1st frame, we need to do something\n",
    "                right_fitx = 1*ploty**2 + 1*ploty\n",
    "            else:                                   #replicate lane from previous frame if you have history\n",
    "                left_fitx = fit_history[0][4][0]*ploty**2 + fit_history[0][4][1]*ploty + fit_history[0][4][2]\n",
    "                right_fitx = fit_history[1][4][0]*ploty**2 + fit_history[1][4][1]*ploty + fit_history[1][4][2]\n",
    "            lane.count=-1 #Restart your search in next frame. At the end of this frame, 1 gets added. Hence we'll get net 0. \n",
    "            status = False\n",
    "    \n",
    "        \"\"\"\n",
    "        if((len(lane.curve_fit)==5)&(len(lane.variance)==5)):\n",
    "            \n",
    "            #Experiment. Pain ek ho sakta hai ki point of inflection pe swap hi na ho. Radius of curvatiure use karna padega            ############ FIXXXX THIS ####################################################\n",
    "            ############ FIXXXX THIS ####################################################\n",
    "            ############ FIXXXX THIS ####################################################\n",
    "            ############ FIXXXX THIS ####################################################\n",
    "            ############ FIXXXX THIS ####################################################\n",
    "            ############ FIXXXX THIS ####################################################\n",
    "            ############ FIXXXX THIS ####################################################\n",
    "            ############ FIXXXX THIS ####################################################\n",
    "            ############ FIXXXX THIS ####################################################\n",
    "            ############ FIXXXX THIS ####################################################\n",
    "            ############ FIXXXX THIS ####################################################\n",
    "            ############ FIXXXX THIS ####################################################\n",
    "            if ((a1_new)*(b1_new)*(fit_history[0][4][0])*(fit_history[0][4][1]))<0:\n",
    "                a1_new = (0.2*a1_new + 0.8*a2_new)\n",
    "                b1_new = (0.2*b1_new + 0.8*b2_new)\n",
    "            if ((a2_new)*(b2_new)*(fit_history[1][4][0])*(fit_history[1][4][1]))<0:\n",
    "                #a2_new = fit_history[1][4][0]    # <=This wont work in the initial frames variable become identical and change=0\n",
    "                #b2_new = fit_history[1][4][1]    # So the denominator of the subsequent terms become 0 leading to infinity\n",
    "                a2_new = (0.8*a1_new + 0.2*a2_new)\n",
    "                b2_new = (0.8*b1_new + 0.2*b2_new)\n",
    "        \"\"\"\n",
    "        \n",
    "        # Calculating variance for both lanes in the current frame    \n",
    "        left_sum = 0 \n",
    "        for index in range(len(leftx)):\n",
    "            left_sum+= abs(leftx[index]-(a1_new*lefty[index]**2 + b1_new*lefty[index] + c1_new))\n",
    "        left_variance_new=left_sum/len(leftx)\n",
    "        \n",
    "                \n",
    "        right_sum=0\n",
    "        for index in range(len(rightx)):\n",
    "            right_sum+= abs(rightx[index]-(a2_new*righty[index]**2 + b2_new*righty[index] + c2_new))\n",
    "        right_variance_new=right_sum/len(rightx)\n",
    "                 \n",
    "        \n",
    "        #If you have history for variance and curve coefficients\n",
    "        \n",
    "        if((len(lane.curve_fit)==5)&(len(lane.variance)==5)):\n",
    "            \n",
    "            \n",
    "            left_variance_old = sum([(0.2*((5-index)**3)*element) for index,element in enumerate(variance_history[0])])/sum([0.2*((5-index)**3) for index in range(0,5)])\n",
    "            right_variance_old = sum([(0.2*((5-index)**3)*element) for index,element in enumerate(variance_history[1])])/sum([0.2*((5-index)**3) for index in range(0,5)])\n",
    "\n",
    "            \n",
    "            # Finding weighted average for the previous elements data within fit_history\n",
    "            a1_old= sum([(0.2*(index+1)*element[0]) for index,element in enumerate(fit_history[0])])/sum([0.2*(index+1) for index in range(0,5)])        \n",
    "            b1_old= sum([(0.2*(index+1)*element[1]) for index,element in enumerate(fit_history[0])])/sum([0.2*(index+1) for index in range(0,5)])       \n",
    "            c1_old= sum([(0.2*(index+1)*element[2]) for index,element in enumerate(fit_history[0])])/sum([0.2*(index+1) for index in range(0,5)])\n",
    "            a2_old= sum([(0.2*(index+1)*element[0]) for index,element in enumerate(fit_history[1])])/sum([0.2*(index+1) for index in range(0,5)])        \n",
    "            b2_old= sum([(0.2*(index+1)*element[1]) for index,element in enumerate(fit_history[1])])/sum([0.2*(index+1) for index in range(0,5)])       \n",
    "            c2_old= sum([(0.2*(index+1)*element[2]) for index,element in enumerate(fit_history[1])])/sum([0.2*(index+1) for index in range(0,5)])\n",
    "            \n",
    "            \n",
    "            a1_new = (a1_new*((left_variance_old)**2) + a1_old*((left_variance_new)**2))/(((left_variance_old)**2) + ((left_variance_new)**2)) \n",
    "            b1_new = (b1_new*((left_variance_old)**2) + b1_old*((left_variance_new)**2))/(((left_variance_old)**2) + ((left_variance_new)**2))\n",
    "            c1_new = (c1_new*((left_variance_old)**2) + c1_old*((left_variance_new)**2))/(((left_variance_old)**2) + ((left_variance_new))**2)\n",
    "            a2_new = (a2_new*((right_variance_old)**2) + a2_old*((right_variance_new)**2))/(((right_variance_old)**2) + ((right_variance_new))**2) \n",
    "            b2_new = (b2_new*((right_variance_old)**2) + b2_old*((right_variance_new)**2))/(((right_variance_old)**2) + ((right_variance_new))**2)\n",
    "            c2_new = (c2_new*((right_variance_old)**2) + c2_old*((right_variance_new)**2))/(((right_variance_old)**2) + ((right_variance_new))**2)\n",
    "\n",
    "            \n",
    "            ### Tracking the difference in curve fit coefficients over the frame  \n",
    "            # from last to last frame -> last frame\n",
    "            del_a1_old = lane.coeff_diff[0][0]\n",
    "            del_b1_old = lane.coeff_diff[0][1]\n",
    "            del_c1_old = lane.coeff_diff[0][2]\n",
    "            del_a2_old = lane.coeff_diff[1][0]\n",
    "            del_b2_old = lane.coeff_diff[1][1]\n",
    "            del_c2_old = lane.coeff_diff[1][2]\n",
    "            \n",
    "            # from last frame -> current frame \n",
    "            del_a1 = abs(a1_new - fit_history[0][4][0])   \n",
    "            del_b1 = abs(b1_new - fit_history[0][4][1])\n",
    "            del_c1 = abs(c1_new - fit_history[0][4][2])\n",
    "            del_a2 = abs(a2_new - fit_history[1][4][0])\n",
    "            del_b2 = abs(b2_new - fit_history[1][4][1])\n",
    "            del_c2 = abs(c2_new - fit_history[1][4][2])\n",
    "            \n",
    "            lane.coeff_diff = [[del_a1, del_b1, del_c1], [del_a2, del_b2, del_c2]]\n",
    "\n",
    "            \n",
    "            \n",
    "            # bas ab delta coefficient for each coefficient nikalna hai aur vo formula likh dena har element ke liye\n",
    "            a1_new = (a1_new*(del_a1_old) + a1_old*(del_a1))/((del_a1_old) + (del_a1))\n",
    "            b1_new = (b1_new*(del_b1_old) + b1_old*(del_b1))/((del_b1_old) + (del_b1))\n",
    "            c1_new = (c1_new*(del_c1_old) + c1_old*(del_c1))/((del_c1_old) + (del_c1))\n",
    "            \"\"\"\n",
    "            #print(\"a2_new\",a2_new)\n",
    "            #print(\"b2_new\",b2_new)\n",
    "            #print(\"c2_new\",c2_new)\n",
    "            \"\"\"\n",
    "            a2_new = (a2_new*(del_a2_old) + a2_old*(del_a2))/((del_a2_old) + (del_a2))\n",
    "            b2_new = (b2_new*(del_b2_old) + b2_old*(del_b2))/((del_b2_old) + (del_b2))\n",
    "            c2_new = (c2_new*(del_c2_old) + c2_old*(del_c2))/((del_c2_old) + (del_c2))\n",
    "            \"\"\"          \n",
    "            #print(\"\")\n",
    "            #print(\"a2_old\",a2_old)\n",
    "            #print(\"b2_old\",b2_old)\n",
    "            #print(\"c2_old\",c2_old)\n",
    "            #print(\"\")\n",
    "            #print(\"a2_new\",a2_new)\n",
    "            #print(\"b2_new\",b2_new)\n",
    "            #print(\"c2_new\",c2_new)\n",
    "            \"\"\"\n",
    "        \n",
    "        y_eval = np.max(ploty)\n",
    "        # Calculation of R_curve (radius of curvature)\n",
    "        left_curverad = (((1 + (2*a1_new*y_eval + b1_new)**2)**1.5) / (2*a1_new))\n",
    "        right_curverad = (((1 + (2*a2_new*y_eval + b2_new)**2)**1.5) / (2*a2_new))\n",
    "        \n",
    "        if(len(lane.rad_curv)==5):\n",
    "            \"\"\"How to check series is decreasing or increasing\"\"\"\n",
    "     \n",
    "            slope_avg=0\n",
    "            for i in range(0,4):\n",
    "                slope_avg += ((slope_avg*i) + (rad_curv_history[0][i+1] - rad_curv_history[0][i]))/(i+1)\n",
    "            \n",
    "            # If this is not the point of inflection, and still the radius of curvature changes sign, discard the curve  \n",
    "            # Left\n",
    "            if (((rad_curv_history[0][4]>0) & (left_curverad<0) & (slope_avg>=0)) | ((rad_curv_history[0][4]<0) & (left_curverad>0) & (slope_avg<=0))):\n",
    "                a1_new = fit_history[0][4][0]\n",
    "                b1_new = fit_history[0][4][1]\n",
    "                c1_new = fit_history[0][4][2]\n",
    "\n",
    "            # Right    \n",
    "            if (((rad_curv_history[1][4]>0) & (right_curverad<0) & (slope_avg>=0)) | ((rad_curv_history[1][4]<0) & (right_curverad>0) & (slope_avg<=0))):\n",
    "                a2_new = fit_history[1][4][0]\n",
    "                b2_new = fit_history[1][4][1]\n",
    "                c2_new = fit_history[1][4][2]\n",
    "            \n",
    "                \n",
    "        if (lane.count==0):\n",
    "            lane.lane_bottom_centre = (((a2_new*(warped_img.shape[0]-1)**2 + b2_new*(warped_img.shape[0]-1) + c2_new) + (a1_new*(warped_img.shape[0]-1)**2 + b1_new*(warped_img.shape[0]-1) + c1_new))/2) \n",
    "        \n",
    "        lane.lane_width = (((lane.lane_width*lane.count)+(a2_new*(warped_img.shape[0]-1)**2 + b2_new*(warped_img.shape[0]-1) + c2_new) - (a1_new*(warped_img.shape[0]-1)**2 + b1_new*(warped_img.shape[0]-1) + c1_new))/(lane.count+1))\n",
    "        \n",
    "        a1 = 0.8*a1_new + 0.2*a2_new\n",
    "        b1 = 0.8*b1_new + 0.2*b2_new\n",
    "        a2 = 0.2*a1_new + 0.8*a2_new\n",
    "        b2 = 0.2*b1_new + 0.8*b2_new\n",
    "        \n",
    "        #c1 = 0.8*c1_new + 0.2*c2_new\n",
    "        #c2 = 0.2*c1_new + 0.8*c2_new\n",
    "        \n",
    "        \n",
    "        c1_mirror = ((lane.lane_bottom_centre - (lane.lane_width/2))-(a1*(warped_img.shape[0]-1)**2 + b1*(warped_img.shape[0]-1)))\n",
    "        c2_mirror = ((lane.lane_bottom_centre + (lane.lane_width/2))-(a2*(warped_img.shape[0]-1)**2 + b2*(warped_img.shape[0]-1)))\n",
    "        \n",
    "        c1= 0.7*c1_new + 0.3*c1_mirror\n",
    "        c2 = 0.7*c2_new + 0.3*c2_mirror\n",
    "        \n",
    "        \n",
    "        \n",
    "        lane.lane_bottom_centre = (((a2*(warped_img.shape[0]-1)**2 + b2*(warped_img.shape[0]-1) + c2) + (a1*(warped_img.shape[0]-1)**2 + b1*(warped_img.shape[0]-1) + c1))/2)\n",
    "        \n",
    "        #print(\"lane.lane_width\",lane.lane_width)\n",
    "        #print(\"lane.lane_bottom_centre\",lane.lane_bottom_centre)\n",
    "        \n",
    "        \n",
    "        left_curverad = (((1 + (2*a1*y_eval + b1)**2)**1.5) / (2*a1))\n",
    "        right_curverad = (((1 + (2*a2*y_eval + b2)**2)**1.5) / (2*a2))\n",
    "        \n",
    "        left_fitx = a1*ploty**2 + b1*ploty + c1\n",
    "        right_fitx = a2*ploty**2 + b2*ploty + c2\n",
    "        \n",
    "        \n",
    "        \n",
    "        print(\"left_curverad\",left_curverad)\n",
    "        print(\"left_curverad\",right_curverad)\n",
    "        \n",
    "        print(\"a2\",a2)\n",
    "        print(\"b2\",b2)\n",
    "        print(\"c2\",c2)\n",
    "        \n",
    "        print(\"\")\n",
    "        \n",
    "        \n",
    "        \n",
    "        return [[a1,b1,c1], [a2,b2,c2]], left_fitx, right_fitx, status, [left_variance_new, right_variance_new], [left_curverad,right_curverad], ploty\n",
    "        # out_img here has boxes drawn and the pixels are colored \n",
    "        \n",
    "        #return [[a1_new,b1_new,c1_new], [a2_new,b2_new,c2_new]], left_fitx, right_fitx, status, [left_variance_new, right_variance_new], ploty \n",
    "        \n",
    "      \n",
    "    def color_pixels_and_curve(out_img, leftx, lefty, rightx, righty, left_fitx, right_fitx):\n",
    "        ploty = np.linspace(0, warped_img.shape[0]-1, warped_img.shape[0])\n",
    "        ## Visualization ##\n",
    "        # Colors in the left and right lane regions\n",
    "        out_img[lefty, leftx] = [255, 0, 0]\n",
    "        out_img[righty, rightx] = [0, 0, 255]\n",
    "        \n",
    "        # Converting the coordinates of our line into integer values as index of the image can't take decimals\n",
    "        left_fitx_int = left_fitx.astype(np.int32)\n",
    "        right_fitx_int = right_fitx.astype(np.int32)\n",
    "        ploty_int = ploty.astype(np.int32)\n",
    "        \n",
    "        # Coloring the curve as yellow\n",
    "        out_img[ploty_int,left_fitx_int] = [255,255,0]\n",
    "        out_img[ploty_int,right_fitx_int] = [255,255,0]\n",
    "        \n",
    "        # To thicken the curve\n",
    "        out_img[ploty_int,left_fitx_int+1] = [255,255,0]\n",
    "        out_img[ploty_int,right_fitx_int+1] = [255,255,0]\n",
    "        out_img[ploty_int,left_fitx_int-1] = [255,255,0]\n",
    "        out_img[ploty_int,right_fitx_int-1] = [255,255,0]\n",
    "        out_img[ploty_int,left_fitx_int+2] = [255,255,0]\n",
    "        out_img[ploty_int,right_fitx_int+2] = [255,255,0]\n",
    "        out_img[ploty_int,left_fitx_int-2] = [255,255,0]\n",
    "        out_img[ploty_int,right_fitx_int-2] = [255,255,0]\n",
    "        \n",
    "        \n",
    "        \n",
    "    def search_around_poly(warped_img, left_fit, right_fit):\n",
    "        # HYPERPARAMETER\n",
    "        # Choose the width of the margin around the previous polynomial to search\n",
    "        # The quiz grader expects 100 here, but feel free to tune on your own!\n",
    "        margin = 100\n",
    "\n",
    "        # Grab activated pixels\n",
    "        nonzero = warped_img.nonzero()\n",
    "        nonzeroy = np.array(nonzero[0])\n",
    "        nonzerox = np.array(nonzero[1])\n",
    "\n",
    "        ### TO-DO: Set the area of search based on activated x-values ###\n",
    "        ### within the +/- margin of our polynomial function ###\n",
    "        ### Hint: consider the window areas for the similarly named variables ###\n",
    "        ### in the previous quiz, but change the windows to our new search area ###\n",
    "        left_lane_inds = ((nonzerox > (left_fit[0]*(nonzeroy**2) + left_fit[1]*nonzeroy + \n",
    "                        left_fit[2] - margin)) & (nonzerox < (left_fit[0]*(nonzeroy**2) + \n",
    "                        left_fit[1]*nonzeroy + left_fit[2] + margin)))\n",
    "        right_lane_inds = ((nonzerox > (right_fit[0]*(nonzeroy**2) + right_fit[1]*nonzeroy + \n",
    "                        right_fit[2] - margin)) & (nonzerox < (right_fit[0]*(nonzeroy**2) + \n",
    "                        right_fit[1]*nonzeroy + right_fit[2] + margin)))\n",
    "\n",
    "        # Again, extract left and right line pixel positions\n",
    "        leftx = nonzerox[left_lane_inds]\n",
    "        lefty = nonzeroy[left_lane_inds] \n",
    "        rightx = nonzerox[right_lane_inds]\n",
    "        righty = nonzeroy[right_lane_inds]\n",
    "\n",
    "        return leftx, lefty, rightx, righty\n",
    "\n",
    "    def modify_array(array, new_value):\n",
    "        if len(array)!=5:\n",
    "            for i in range(0,5):\n",
    "                array.append(new_value)\n",
    "\n",
    "        else:\n",
    "            dump_var=array[0]\n",
    "            array[0]=array[1]\n",
    "            array[1]=array[2]\n",
    "            array[2]=array[3]\n",
    "            array[3]=array[4]\n",
    "            array[4]=new_value\n",
    "        return array\n",
    "    \n",
    "   \n",
    "\n",
    "    undist_img = cal_undistort(frame)\n",
    "    thresh_img = thresh_img(undist_img)    # Note: This is not a binary iamge. It has been stacked already within the function\n",
    "    warped_img, src, dst = perspective_transform(thresh_img)\n",
    "\n",
    "    #draw_polygon(frame, warped_img, src, dst)   #the first image is the original image that you import into the system\n",
    "    \n",
    "    #print(\"starting count\",lane.count)\n",
    "    \n",
    "    # Making the curve coefficient and variance history ready for our new frame\n",
    "    left_fit_previous = [i[0] for i in lane.curve_fit] \n",
    "    right_fit_previous = [i[1] for i in lane.curve_fit]\n",
    "    fit_history=[left_fit_previous, right_fit_previous]\n",
    "        \n",
    "    left_variance_previous = [i[0] for i in lane.variance]\n",
    "    right_variance_previous = [i[1] for i in lane.variance]\n",
    "    variance_history=[left_variance_previous, right_variance_previous]\n",
    "    \n",
    "    left_rad_curv_prev = [i[0] for i in lane.rad_curv]\n",
    "    right_rad_curv_prev = [i[1] for i in lane.rad_curv]\n",
    "    rad_curv_history = [left_rad_curv_prev, right_rad_curv_prev]\n",
    "    #print(rad_curv_history)\n",
    "    \n",
    "    if (lane.count == 0):\n",
    "        leftx, lefty, rightx, righty = find_lane_pixels(warped_img)     # Find our lane pixels first\n",
    "       \n",
    "    elif (lane.count > 0):\n",
    "        leftx, lefty, rightx, righty = search_around_poly(warped_img, left_fit_previous[4], right_fit_previous[4])\n",
    "        \n",
    "    curve_fit_new, left_fitx, right_fitx, status, variance_new, rad_curv_new,ploty = fit_polynomial(warped_img, leftx, lefty, rightx, righty, fit_history, variance_history,rad_curv_history)\n",
    "    \n",
    "    \n",
    "    \n",
    "    lane.rad_curv = modify_array(lane.rad_curv, rad_curv_new)\n",
    "    lane.detected = status\n",
    "    lane.curve_fit = modify_array(lane.curve_fit, curve_fit_new)\n",
    "    lane.variance = modify_array(lane.variance, variance_new)\n",
    "    #print(lane.variance)\n",
    "                \n",
    "    # Now we'll color the lane pixels and plot the identified curve over the image    \n",
    "    color_pixels_and_curve(warped_img, leftx, lefty, rightx, righty, left_fitx, right_fitx)\n",
    "    \n",
    "    unwarped_img, Minv = rev_perspective_transform(warped_img, src, dst)\n",
    "    \n",
    "    \n",
    "    # Create an image to draw the lines on\n",
    "    color_warp = np.zeros_like(warped_img).astype(np.uint8)\n",
    "    \n",
    "    \n",
    "    # Recast the x and y points into usable format for cv2.fillPoly()\n",
    "    pts_left = np.array([np.transpose(np.vstack([left_fitx, ploty]))])\n",
    "    pts_right = np.array([np.flipud(np.transpose(np.vstack([right_fitx, ploty])))])\n",
    "    pts = np.hstack((pts_left, pts_right))\n",
    "\n",
    "    # Draw the lane onto the warped blank image\n",
    "    cv2.fillPoly(color_warp, np.int_([pts]), (0,255, 0))\n",
    "\n",
    "    # Warp the blank back to original image space using inverse perspective matrix (Minv)\n",
    "    newwarp = cv2.warpPerspective(color_warp, Minv, (frame.shape[1], frame.shape[0])) \n",
    "    # Combine the result with the original image\n",
    "    result = cv2.addWeighted(undist_img, 1, newwarp, 0.3, 0)\n",
    "\n",
    "\n",
    "    lane.count = lane.count+1  \n",
    "    \n",
    "    #return warped_img\n",
    "    #return color_warp\n",
    "    return result\n",
    "    #return unwarped_img\n",
    "    \n",
    "    "
   ]
  },
  {
   "cell_type": "code",
   "execution_count": null,
   "metadata": {},
   "outputs": [],
   "source": []
  },
  {
   "cell_type": "code",
   "execution_count": null,
   "metadata": {},
   "outputs": [],
   "source": []
  },
  {
   "cell_type": "markdown",
   "metadata": {},
   "source": [
    "Let's try classes"
   ]
  },
  {
   "cell_type": "code",
   "execution_count": 15,
   "metadata": {},
   "outputs": [
    {
     "name": "stdout",
     "output_type": "stream",
     "text": [
      "left_curverad -5001.38853321596\n",
      "left_curverad -3715.8507904867392\n",
      "a2 -0.00013583087308549933\n",
      "b2 0.21379384268863844\n",
      "c2 1331.6306119167443\n",
      "\n",
      "left_curverad -4676.03090463957\n",
      "left_curverad -3915.9594152873237\n",
      "a2 -0.0001287554030434135\n",
      "b2 0.20306492645735444\n",
      "c2 1331.6306119167443\n",
      "\n",
      "left_curverad -4784.318262151694\n",
      "left_curverad -4279.4404195026345\n",
      "a2 -0.00011771085597796954\n",
      "b2 0.1834796725066859\n",
      "c2 1338.4076800116597\n",
      "\n",
      "left_curverad -4531.968471507702\n",
      "left_curverad -4421.352879776822\n",
      "a2 -0.00011328737661276859\n",
      "b2 0.2101578096444428\n",
      "c2 1322.669344979373\n",
      "\n",
      "left_curverad -4852.806393328075\n",
      "left_curverad -4256.260534414955\n",
      "a2 -0.00011785353526816696\n",
      "b2 0.2079313421158146\n",
      "c2 1317.1356586658308\n",
      "\n",
      "left_curverad -4904.451606754021\n",
      "left_curverad -4170.137051907553\n",
      "a2 -0.00012047872066087547\n",
      "b2 0.20329692238733782\n",
      "c2 1317.6019069099034\n",
      "\n",
      "left_curverad -4987.932766891763\n",
      "left_curverad -4318.098424322907\n",
      "a2 -0.00011661372759915228\n",
      "b2 0.1828981096740571\n",
      "c2 1331.0817347774707\n",
      "\n",
      "left_curverad -5390.692574707115\n",
      "left_curverad -4482.942808714391\n",
      "a2 -0.00011246129914084687\n",
      "b2 0.16828869121002335\n",
      "c2 1354.6130126094115\n",
      "\n",
      "left_curverad -5657.98609985163\n",
      "left_curverad -4609.506644592259\n",
      "a2 -0.00010962142815077949\n",
      "b2 0.15256796672083217\n",
      "c2 1376.5049297133698\n",
      "\n"
     ]
    },
    {
     "data": {
      "text/plain": [
       "array([[[127, 159, 197],\n",
       "        [127, 159, 197],\n",
       "        [127, 159, 197],\n",
       "        ...,\n",
       "        [100, 143, 185],\n",
       "        [100, 143, 185],\n",
       "        [100, 143, 185]],\n",
       "\n",
       "       [[127, 159, 197],\n",
       "        [127, 159, 197],\n",
       "        [127, 159, 197],\n",
       "        ...,\n",
       "        [100, 143, 185],\n",
       "        [100, 143, 185],\n",
       "        [100, 143, 185]],\n",
       "\n",
       "       [[127, 159, 197],\n",
       "        [127, 159, 197],\n",
       "        [127, 159, 197],\n",
       "        ...,\n",
       "        [100, 143, 185],\n",
       "        [100, 143, 185],\n",
       "        [100, 143, 185]],\n",
       "\n",
       "       ...,\n",
       "\n",
       "       [[100,  92,  90],\n",
       "        [100,  92,  90],\n",
       "        [100,  92,  90],\n",
       "        ...,\n",
       "        [ 65,  62,  69],\n",
       "        [ 65,  62,  69],\n",
       "        [ 65,  62,  69]],\n",
       "\n",
       "       [[100,  92,  90],\n",
       "        [100,  92,  90],\n",
       "        [ 99,  91,  89],\n",
       "        ...,\n",
       "        [ 65,  62,  69],\n",
       "        [ 65,  62,  69],\n",
       "        [ 65,  62,  69]],\n",
       "\n",
       "       [[ 99,  91,  89],\n",
       "        [ 99,  91,  89],\n",
       "        [ 99,  91,  89],\n",
       "        ...,\n",
       "        [ 65,  62,  69],\n",
       "        [ 65,  62,  69],\n",
       "        [ 65,  62,  69]]], dtype=uint8)"
      ]
     },
     "execution_count": 15,
     "metadata": {},
     "output_type": "execute_result"
    },
    {
     "data": {
      "image/png": "[encoded data removed]",
      "text/plain": [
       "<Figure size 432x288 with 1 Axes>"
      ]
     },
     "metadata": {
      "needs_background": "light"
     },
     "output_type": "display_data"
    }
   ],
   "source": [
    "# Define a class to receive the characteristics of each line detection\n",
    "class Line():\n",
    "    def __init__(self):\n",
    "        #Let's count the number of consecutive frames\n",
    "        self.count = 0\n",
    "        # was the line detected in the last iteration?\n",
    "        self.detected = False  \n",
    "        #polynomial coefficients for the most recent fit\n",
    "        self.curve_fit = []  \n",
    "        # Traking variance for the right lane\n",
    "        self.variance = []\n",
    "        #difference in fit coefficients between last and new fits. Just store the difference in coefficients for the last frame\n",
    "        self.coeff_diff = [[0,0,0],[0,0,0]]        \n",
    "        #Lane width measured at the start of reset\n",
    "        self.lane_width = 0\n",
    "        #Let's track the midpoint of the previous frame\n",
    "        self.lane_bottom_centre = 0\n",
    "        #radius of curvature of the line in some units\n",
    "        self.rad_curv = []\n",
    "        \n",
    "        # x values of the curve that we fit intially\n",
    "        #self.current_xfitted = []\n",
    "        # x values for detected line pixels\n",
    "        #self.allx = []  \n",
    "        # y values for detected line pixels\n",
    "        #self.ally = []\n",
    "        \n",
    "        # x values of the last n fits of the line\n",
    "        self.recent_xfitted = [] \n",
    "        #average x values of the fitted line over the last n iterations\n",
    "        self.bestx = None     \n",
    "        #polynomial coefficients averaged over the last n iterations\n",
    "        self.best_fit = None  \n",
    "        #radius of curvature of the line in some units\n",
    "        self.radius_of_curvature = None \n",
    "        #distance in meters of vehicle center from the line\n",
    "        self.line_base_pos = None \n",
    "        \n",
    "        \n",
    "        \n",
    "lane=Line()\n",
    "\n",
    "\n",
    "frame1= mpimg.imread(\"my_test_images/Highway_snaps/image (1).jpg\")\n",
    "frame2= mpimg.imread(\"my_test_images/Highway_snaps/image (2).jpg\")\n",
    "frame3= mpimg.imread(\"my_test_images/Highway_snaps/image (3).jpg\")\n",
    "\n",
    "frame4= mpimg.imread(\"my_test_images/Highway_snaps/image (4).jpg\")\n",
    "frame5= mpimg.imread(\"my_test_images/Highway_snaps/image (5).jpg\")\n",
    "frame6= mpimg.imread(\"my_test_images/Highway_snaps/image (6).jpg\")\n",
    "frame7= mpimg.imread(\"my_test_images/Highway_snaps/image (7).jpg\")\n",
    "frame8= mpimg.imread(\"my_test_images/Highway_snaps/image (8).jpg\")\n",
    "frame9= mpimg.imread(\"my_test_images/Highway_snaps/image (9).jpg\")\n",
    "\n",
    "\n",
    "(process_image(frame1))\n",
    "\n",
    "(process_image(frame2))\n",
    "\n",
    "plt.imshow(process_image(frame3))\n",
    "(process_image(frame4))\n",
    "(process_image(frame5))\n",
    "(process_image(frame6))\n",
    "(process_image(frame7))\n",
    "(process_image(frame8))\n",
    "(process_image(frame9))\n"
   ]
  },
  {
   "cell_type": "code",
   "execution_count": null,
   "metadata": {},
   "outputs": [],
   "source": [
    "matrix = [[[-8.8661072804927e-05, 0.14226773448007834, 526.2761730836886], [-8.8661072804927e-05, 0.14226773448007834, 526.2761730836886], [-8.8661072804927e-05, 0.14226773448007834, 526.2761730836886], [-8.8661072804927e-05, 0.14226773448007834, 526.2761730836886], [-8.8661072804927e-05, 0.14226773448007837, 526.2761730836886]], [[-0.0001476233231556424, 0.23167536974077843, 1331.6306119167443], [-0.0001476233231556424, 0.23167536974077843, 1331.6306119167443], [-0.0001476233231556424, 0.23167536974077843, 1331.6306119167443], [-0.0001476233231556424, 0.23167536974077843, 1331.6306119167443], [-0.0001476233231556424, 0.23167536974077843, 1331.6306119167443]]]\n",
    "matrix[1]"
   ]
  },
  {
   "cell_type": "code",
   "execution_count": null,
   "metadata": {},
   "outputs": [],
   "source": []
  },
  {
   "cell_type": "markdown",
   "metadata": {},
   "source": [
    "Videoo test\n",
    "\n"
   ]
  },
  {
   "cell_type": "code",
   "execution_count": 2,
   "metadata": {},
   "outputs": [
    {
     "name": "stderr",
     "output_type": "stream",
     "text": [
      "\r",
      "t:   0%|          | 0/250 [00:00<?, ?it/s, now=None]"
     ]
    },
    {
     "name": "stdout",
     "output_type": "stream",
     "text": [
      "left_curverad 5791.309770680596\n",
      "left_curverad -59878.662370309336\n",
      "a2 -8.997730656794625e-06\n",
      "b2 -0.21300376785424327\n",
      "c2 1124.7365522169005\n",
      "\n",
      "Moviepy - Building video output_files/video_clips/project_video_with_history_initial_condition_removed.mp4.\n",
      "Moviepy - Writing video output_files/video_clips/project_video_with_history_initial_condition_removed.mp4\n",
      "\n"
     ]
    },
    {
     "name": "stderr",
     "output_type": "stream",
     "text": [
      "\r",
      "t:   1%|          | 2/250 [00:03<07:29,  1.81s/it, now=None]"
     ]
    },
    {
     "name": "stdout",
     "output_type": "stream",
     "text": [
      "left_curverad 7491.691370646739\n",
      "left_curverad 51769.83009632543\n",
      "a2 1.0220065393756555e-05\n",
      "b2 -0.21071008933950447\n",
      "c2 1119.234149406712\n",
      "\n"
     ]
    },
    {
     "name": "stderr",
     "output_type": "stream",
     "text": [
      "\r",
      "t:   1%|          | 3/250 [00:04<06:30,  1.58s/it, now=None]"
     ]
    },
    {
     "name": "stdout",
     "output_type": "stream",
     "text": [
      "left_curverad 6625.955548865714\n",
      "left_curverad 11644.200210102692\n",
      "a2 4.496805070749722e-05\n",
      "b2 -0.24143080934309016\n",
      "c2 1126.5589106723326\n",
      "\n"
     ]
    },
    {
     "name": "stderr",
     "output_type": "stream",
     "text": [
      "\r",
      "t:   2%|▏         | 4/250 [00:06<06:31,  1.59s/it, now=None]"
     ]
    },
    {
     "name": "stdout",
     "output_type": "stream",
     "text": [
      "left_curverad 6041.817594749665\n",
      "left_curverad 8413.952991005737\n",
      "a2 6.195879983037795e-05\n",
      "b2 -0.2571036533834353\n",
      "c2 1131.8163958832795\n",
      "\n"
     ]
    },
    {
     "name": "stderr",
     "output_type": "stream",
     "text": [
      "\r",
      "t:   2%|▏         | 5/250 [00:08<07:49,  1.92s/it, now=None]"
     ]
    },
    {
     "name": "stdout",
     "output_type": "stream",
     "text": [
      "left_curverad 5918.4069523345825\n",
      "left_curverad 7545.171196921588\n",
      "a2 6.896092247464061e-05\n",
      "b2 -0.26322569191297207\n",
      "c2 1134.1467156970252\n",
      "\n"
     ]
    },
    {
     "name": "stderr",
     "output_type": "stream",
     "text": [
      "\r",
      "t:   2%|▏         | 6/250 [00:10<06:54,  1.70s/it, now=None]"
     ]
    },
    {
     "name": "stdout",
     "output_type": "stream",
     "text": [
      "left_curverad 6040.889363162026\n",
      "left_curverad 7066.096794507699\n",
      "a2 7.347422315158602e-05\n",
      "b2 -0.26505247721878494\n",
      "c2 1134.760859429768\n",
      "\n"
     ]
    },
    {
     "name": "stderr",
     "output_type": "stream",
     "text": [
      "\r",
      "t:   3%|▎         | 7/250 [00:11<05:54,  1.46s/it, now=None]"
     ]
    },
    {
     "name": "stdout",
     "output_type": "stream",
     "text": [
      "left_curverad 6212.096680696783\n",
      "left_curverad 7228.467874747018\n",
      "a2 7.195759786548259e-05\n",
      "b2 -0.26681639196274665\n",
      "c2 1136.4097653273259\n",
      "\n"
     ]
    },
    {
     "name": "stderr",
     "output_type": "stream",
     "text": [
      "\r",
      "t:   3%|▎         | 8/250 [00:11<05:11,  1.29s/it, now=None]"
     ]
    },
    {
     "name": "stdout",
     "output_type": "stream",
     "text": [
      "left_curverad 6038.139737887354\n",
      "left_curverad 6505.229964598885\n",
      "a2 7.979552375402236e-05\n",
      "b2 -0.27377968962455757\n",
      "c2 1138.8159599603418\n",
      "\n"
     ]
    },
    {
     "name": "stderr",
     "output_type": "stream",
     "text": [
      "\r",
      "t:   4%|▎         | 9/250 [00:16<08:36,  2.14s/it, now=None]"
     ]
    },
    {
     "name": "stdout",
     "output_type": "stream",
     "text": [
      "left_curverad 5792.267865373403\n",
      "left_curverad 5971.9266596926855\n",
      "a2 8.676624888470671e-05\n",
      "b2 -0.27991910297492023\n",
      "c2 1140.9830293464179\n",
      "\n"
     ]
    },
    {
     "name": "stderr",
     "output_type": "stream",
     "text": [
      "\r",
      "t:   4%|▍         | 10/250 [00:17<07:33,  1.89s/it, now=None]"
     ]
    },
    {
     "name": "stdout",
     "output_type": "stream",
     "text": [
      "left_curverad 5798.801485381511\n",
      "left_curverad 7068.569428899033\n",
      "a2 7.332861739397267e-05\n",
      "b2 -0.2613021789533675\n",
      "c2 1137.3429262060224\n",
      "\n"
     ]
    },
    {
     "name": "stderr",
     "output_type": "stream",
     "text": [
      "\r",
      "t:   4%|▍         | 11/250 [00:18<06:52,  1.73s/it, now=None]"
     ]
    },
    {
     "name": "stdout",
     "output_type": "stream",
     "text": [
      "left_curverad 5764.924911281553\n",
      "left_curverad 7182.2686523978755\n",
      "a2 7.231605930688871e-05\n",
      "b2 -0.26428235943489153\n",
      "c2 1136.7088715684563\n",
      "\n"
     ]
    },
    {
     "name": "stderr",
     "output_type": "stream",
     "text": [
      "\r",
      "t:   5%|▍         | 12/250 [00:20<06:20,  1.60s/it, now=None]"
     ]
    },
    {
     "name": "stdout",
     "output_type": "stream",
     "text": [
      "left_curverad 5478.753241257331\n",
      "left_curverad 6196.434306111625\n",
      "a2 8.344472732232206e-05\n",
      "b2 -0.27038944690107236\n",
      "c2 1135.9659462737707\n",
      "\n"
     ]
    },
    {
     "name": "stderr",
     "output_type": "stream",
     "text": [
      "\r",
      "t:   5%|▌         | 13/250 [00:21<05:53,  1.49s/it, now=None]"
     ]
    },
    {
     "name": "stdout",
     "output_type": "stream",
     "text": [
      "left_curverad 5265.808524268482\n",
      "left_curverad 5804.305848069747\n",
      "a2 8.892333044228282e-05\n",
      "b2 -0.2741710561053251\n",
      "c2 1135.909533238716\n",
      "\n"
     ]
    },
    {
     "name": "stderr",
     "output_type": "stream",
     "text": [
      "\r",
      "t:   6%|▌         | 14/250 [00:22<05:34,  1.42s/it, now=None]"
     ]
    },
    {
     "name": "stdout",
     "output_type": "stream",
     "text": [
      "left_curverad 5433.86099818787\n",
      "left_curverad 5766.438403391082\n",
      "a2 8.95819612333542e-05\n",
      "b2 -0.2770469488826202\n",
      "c2 1136.3784162038974\n",
      "\n"
     ]
    },
    {
     "name": "stderr",
     "output_type": "stream",
     "text": [
      "\r",
      "t:   6%|▌         | 15/250 [00:23<05:02,  1.29s/it, now=None]"
     ]
    },
    {
     "name": "stdout",
     "output_type": "stream",
     "text": [
      "left_curverad 5357.284055158847\n",
      "left_curverad 5264.440006657174\n",
      "a2 9.785986909229397e-05\n",
      "b2 -0.28262218980062004\n",
      "c2 1136.158630561366\n",
      "\n"
     ]
    },
    {
     "name": "stderr",
     "output_type": "stream",
     "text": [
      "\r",
      "t:   6%|▋         | 16/250 [00:27<07:59,  2.05s/it, now=None]"
     ]
    },
    {
     "name": "stdout",
     "output_type": "stream",
     "text": [
      "left_curverad 5264.691130060169\n",
      "left_curverad 4630.343851105572\n",
      "a2 0.00011087057624093258\n",
      "b2 -0.29264856593905425\n",
      "c2 1136.8605938449632\n",
      "\n"
     ]
    },
    {
     "name": "stderr",
     "output_type": "stream",
     "text": [
      "\r",
      "t:   7%|▋         | 17/250 [00:28<06:39,  1.71s/it, now=None]"
     ]
    },
    {
     "name": "stdout",
     "output_type": "stream",
     "text": [
      "left_curverad 5263.561527781005\n",
      "left_curverad 4559.874673595714\n",
      "a2 0.00011261825204025351\n",
      "b2 -0.29593440287072553\n",
      "c2 1138.5385197051226\n",
      "\n"
     ]
    },
    {
     "name": "stderr",
     "output_type": "stream",
     "text": [
      "\r",
      "t:   7%|▋         | 18/250 [00:29<05:42,  1.47s/it, now=None]"
     ]
    },
    {
     "name": "stdout",
     "output_type": "stream",
     "text": [
      "left_curverad 5699.179252453458\n",
      "left_curverad 4844.066915583889\n",
      "a2 0.00010617824967765812\n",
      "b2 -0.2906065801185925\n",
      "c2 1138.8518421811498\n",
      "\n"
     ]
    },
    {
     "name": "stderr",
     "output_type": "stream",
     "text": [
      "\r",
      "t:   8%|▊         | 19/250 [00:31<06:35,  1.71s/it, now=None]"
     ]
    },
    {
     "name": "stdout",
     "output_type": "stream",
     "text": [
      "left_curverad 6156.440570387887\n",
      "left_curverad 5096.631522579009\n",
      "a2 0.00010108831605441542\n",
      "b2 -0.2874157356031718\n",
      "c2 1139.2574940389102\n",
      "\n"
     ]
    },
    {
     "name": "stderr",
     "output_type": "stream",
     "text": [
      "\r",
      "t:   8%|▊         | 20/250 [00:33<06:56,  1.81s/it, now=None]"
     ]
    },
    {
     "name": "stdout",
     "output_type": "stream",
     "text": [
      "left_curverad 6398.087101660121\n",
      "left_curverad 5208.867641839354\n",
      "a2 9.90564121514153e-05\n",
      "b2 -0.2879898737426624\n",
      "c2 1140.3381038137643\n",
      "\n"
     ]
    },
    {
     "name": "stderr",
     "output_type": "stream",
     "text": [
      "\r",
      "t:   8%|▊         | 21/250 [00:34<05:45,  1.51s/it, now=None]"
     ]
    },
    {
     "name": "stdout",
     "output_type": "stream",
     "text": [
      "left_curverad 6691.203633008946\n",
      "left_curverad 5494.181725406449\n",
      "a2 9.36572544193218e-05\n",
      "b2 -0.27372404278165974\n",
      "c2 1136.9430251924298\n",
      "\n"
     ]
    },
    {
     "name": "stderr",
     "output_type": "stream",
     "text": [
      "\r",
      "t:   9%|▉         | 22/250 [00:35<04:55,  1.30s/it, now=None]"
     ]
    },
    {
     "name": "stdout",
     "output_type": "stream",
     "text": [
      "left_curverad 7405.95252100752\n",
      "left_curverad 6769.931347401997\n",
      "a2 7.664667810414658e-05\n",
      "b2 -0.26844023605033324\n",
      "c2 1135.8075864014909\n",
      "\n",
      "left_curverad 7356.54189864973\n",
      "left_curverad 6098.260044108141\n",
      "a2 8.461403480150692e-05\n",
      "b2 -0.2673424689460756\n",
      "c2 1134.3784955805975\n",
      "\n"
     ]
    },
    {
     "name": "stderr",
     "output_type": "stream",
     "text": [
      "t:  10%|▉         | 24/250 [00:39<06:40,  1.77s/it, now=None]"
     ]
    },
    {
     "name": "stdout",
     "output_type": "stream",
     "text": [
      "left_curverad 6962.614009321959\n",
      "left_curverad 5673.230282775719\n",
      "a2 9.082147940322755e-05\n",
      "b2 -0.27284365015417533\n",
      "c2 1136.1390124405245\n",
      "\n"
     ]
    },
    {
     "name": "stderr",
     "output_type": "stream",
     "text": [
      "\r",
      "t:  10%|█         | 25/250 [00:40<05:40,  1.51s/it, now=None]"
     ]
    },
    {
     "name": "stdout",
     "output_type": "stream",
     "text": [
      "left_curverad 6151.327438684986\n",
      "left_curverad 4783.676038382985\n",
      "a2 0.00010714244142949467\n",
      "b2 -0.283082105514138\n",
      "c2 1137.2505898497413\n",
      "\n"
     ]
    },
    {
     "name": "stderr",
     "output_type": "stream",
     "text": [
      "\r",
      "t:  10%|█         | 26/250 [00:41<04:56,  1.33s/it, now=None]"
     ]
    },
    {
     "name": "stdout",
     "output_type": "stream",
     "text": [
      "left_curverad 5944.894250713463\n",
      "left_curverad 4350.456336088021\n",
      "a2 0.00011748215720609439\n",
      "b2 -0.29037694189436475\n",
      "c2 1138.3015621923741\n",
      "\n"
     ]
    },
    {
     "name": "stderr",
     "output_type": "stream",
     "text": [
      "\r",
      "t:  11%|█         | 27/250 [00:44<07:28,  2.01s/it, now=None]"
     ]
    },
    {
     "name": "stdout",
     "output_type": "stream",
     "text": [
      "left_curverad 5933.096801194362\n",
      "left_curverad 4533.824234390247\n",
      "a2 0.00011292526978518277\n",
      "b2 -0.28853967762967797\n",
      "c2 1138.364712361169\n",
      "\n"
     ]
    },
    {
     "name": "stderr",
     "output_type": "stream",
     "text": [
      "\r",
      "t:  11%|█         | 28/250 [00:45<06:09,  1.66s/it, now=None]"
     ]
    },
    {
     "name": "stdout",
     "output_type": "stream",
     "text": [
      "left_curverad 5946.428947381863\n",
      "left_curverad 4764.084307597137\n",
      "a2 0.00010769553699004796\n",
      "b2 -0.2865948045870046\n",
      "c2 1138.786232335869\n",
      "\n"
     ]
    },
    {
     "name": "stderr",
     "output_type": "stream",
     "text": [
      "\r",
      "t:  12%|█▏        | 29/250 [00:46<05:14,  1.42s/it, now=None]"
     ]
    },
    {
     "name": "stdout",
     "output_type": "stream",
     "text": [
      "left_curverad 6172.530371205108\n",
      "left_curverad 5380.729949412229\n",
      "a2 9.585056513206324e-05\n",
      "b2 -0.2823529928700506\n",
      "c2 1140.3493232461647\n",
      "\n"
     ]
    },
    {
     "name": "stderr",
     "output_type": "stream",
     "text": [
      "\r",
      "t:  12%|█▏        | 30/250 [00:47<04:34,  1.25s/it, now=None]"
     ]
    },
    {
     "name": "stdout",
     "output_type": "stream",
     "text": [
      "left_curverad 6328.132224380253\n",
      "left_curverad 5219.559300279449\n",
      "a2 9.849262496044364e-05\n",
      "b2 -0.2783693859408968\n",
      "c2 1139.0832359182432\n",
      "\n"
     ]
    },
    {
     "name": "stderr",
     "output_type": "stream",
     "text": [
      "\r",
      "t:  12%|█▏        | 31/250 [00:49<05:11,  1.42s/it, now=None]"
     ]
    },
    {
     "name": "stdout",
     "output_type": "stream",
     "text": [
      "left_curverad 6470.082372155049\n",
      "left_curverad 5124.152785571466\n",
      "a2 0.00010030440273935095\n",
      "b2 -0.2804276938820105\n",
      "c2 1140.1388040537006\n",
      "\n"
     ]
    },
    {
     "name": "stderr",
     "output_type": "stream",
     "text": [
      "\r",
      "t:  13%|█▎        | 32/250 [00:51<06:11,  1.70s/it, now=None]"
     ]
    },
    {
     "name": "stdout",
     "output_type": "stream",
     "text": [
      "left_curverad 6658.294849660135\n",
      "left_curverad 5245.070629406112\n",
      "a2 9.814950703130961e-05\n",
      "b2 -0.2812770989040247\n",
      "c2 1141.707300365576\n",
      "\n"
     ]
    },
    {
     "name": "stderr",
     "output_type": "stream",
     "text": [
      "\r",
      "t:  13%|█▎        | 33/250 [00:52<05:12,  1.44s/it, now=None]"
     ]
    },
    {
     "name": "stdout",
     "output_type": "stream",
     "text": [
      "left_curverad 6833.680390177144\n",
      "left_curverad 5765.701417621441\n",
      "a2 8.942256491900781e-05\n",
      "b2 -0.27236706432911073\n",
      "c2 1140.3873193943848\n",
      "\n"
     ]
    },
    {
     "name": "stderr",
     "output_type": "stream",
     "text": [
      "\r",
      "t:  14%|█▎        | 34/250 [00:53<04:31,  1.26s/it, now=None]"
     ]
    },
    {
     "name": "stdout",
     "output_type": "stream",
     "text": [
      "left_curverad 6762.4896061187865\n",
      "left_curverad 5569.187649781533\n",
      "a2 9.222587347286571e-05\n",
      "b2 -0.2670929551524064\n",
      "c2 1137.3145613970323\n",
      "\n"
     ]
    },
    {
     "name": "stderr",
     "output_type": "stream",
     "text": [
      "\r",
      "t:  14%|█▍        | 35/250 [00:54<04:04,  1.14s/it, now=None]"
     ]
    },
    {
     "name": "stdout",
     "output_type": "stream",
     "text": [
      "left_curverad 6676.755182517018\n",
      "left_curverad 5410.855492707163\n",
      "a2 9.480919724735051e-05\n",
      "b2 -0.2677037256403517\n",
      "c2 1136.4451542714344\n",
      "\n"
     ]
    },
    {
     "name": "stderr",
     "output_type": "stream",
     "text": [
      "\r",
      "t:  14%|█▍        | 36/250 [00:55<03:49,  1.07s/it, now=None]"
     ]
    },
    {
     "name": "stdout",
     "output_type": "stream",
     "text": [
      "left_curverad 5847.261909712782\n",
      "left_curverad 4740.76951282346\n",
      "a2 0.00010774259298806397\n",
      "b2 -0.27462462069144933\n",
      "c2 1135.9105356699126\n",
      "\n"
     ]
    },
    {
     "name": "stderr",
     "output_type": "stream",
     "text": [
      "\r",
      "t:  15%|█▍        | 37/250 [00:58<05:51,  1.65s/it, now=None]"
     ]
    },
    {
     "name": "stdout",
     "output_type": "stream",
     "text": [
      "left_curverad 5244.778768393787\n",
      "left_curverad 3927.8488974994243\n",
      "a2 0.00012926942769509868\n",
      "b2 -0.287417041955032\n",
      "c2 1135.9415518544038\n",
      "\n"
     ]
    },
    {
     "name": "stderr",
     "output_type": "stream",
     "text": [
      "\r",
      "t:  15%|█▌        | 38/250 [00:59<05:12,  1.48s/it, now=None]"
     ]
    },
    {
     "name": "stdout",
     "output_type": "stream",
     "text": [
      "left_curverad 4857.960741387332\n",
      "left_curverad 3813.2284985260294\n",
      "a2 0.00013309169551378237\n",
      "b2 -0.2913216732601963\n",
      "c2 1136.6672259277484\n",
      "\n"
     ]
    },
    {
     "name": "stderr",
     "output_type": "stream",
     "text": [
      "\r",
      "t:  16%|█▌        | 39/250 [00:59<04:32,  1.29s/it, now=None]"
     ]
    },
    {
     "name": "stdout",
     "output_type": "stream",
     "text": [
      "left_curverad 4593.338092187947\n",
      "left_curverad 3821.2951417417707\n",
      "a2 0.00013295005124186555\n",
      "b2 -0.2945906383378365\n",
      "c2 1137.994971021297\n",
      "\n"
     ]
    },
    {
     "name": "stderr",
     "output_type": "stream",
     "text": [
      "\r",
      "t:  16%|█▌        | 40/250 [01:00<04:11,  1.20s/it, now=None]"
     ]
    },
    {
     "name": "stdout",
     "output_type": "stream",
     "text": [
      "left_curverad 4262.382071419582\n",
      "left_curverad 3462.5757341349536\n",
      "a2 0.000146388712769901\n",
      "b2 -0.3061891725839998\n",
      "c2 1139.2135812663869\n",
      "\n"
     ]
    },
    {
     "name": "stderr",
     "output_type": "stream",
     "text": [
      "\r",
      "t:  16%|█▋        | 41/250 [01:01<03:50,  1.10s/it, now=None]"
     ]
    },
    {
     "name": "stdout",
     "output_type": "stream",
     "text": [
      "left_curverad 4111.849914639627\n",
      "left_curverad 3422.931703794748\n",
      "a2 0.00014810223615866993\n",
      "b2 -0.3090811306007897\n",
      "c2 1139.8429666851084\n",
      "\n"
     ]
    },
    {
     "name": "stderr",
     "output_type": "stream",
     "text": [
      "\r",
      "t:  17%|█▋        | 42/250 [01:02<03:34,  1.03s/it, now=None]"
     ]
    },
    {
     "name": "stdout",
     "output_type": "stream",
     "text": [
      "left_curverad 4090.410038117891\n",
      "left_curverad 3488.5684266149306\n",
      "a2 0.0001454123502292439\n",
      "b2 -0.3075128275975656\n",
      "c2 1139.8630883864907\n",
      "\n"
     ]
    },
    {
     "name": "stderr",
     "output_type": "stream",
     "text": [
      "\r",
      "t:  17%|█▋        | 43/250 [01:03<03:30,  1.02s/it, now=None]"
     ]
    },
    {
     "name": "stdout",
     "output_type": "stream",
     "text": [
      "left_curverad 4074.4800127975686\n",
      "left_curverad 3599.7491501875556\n",
      "a2 0.00014108573528979115\n",
      "b2 -0.3052058447576159\n",
      "c2 1140.1403011241594\n",
      "\n"
     ]
    },
    {
     "name": "stderr",
     "output_type": "stream",
     "text": [
      "\r",
      "t:  18%|█▊        | 44/250 [01:06<05:12,  1.52s/it, now=None]"
     ]
    },
    {
     "name": "stdout",
     "output_type": "stream",
     "text": [
      "left_curverad 4027.0187771276137\n",
      "left_curverad 3687.644893736355\n",
      "a2 0.00013764665705357984\n",
      "b2 -0.2984207690642412\n",
      "c2 1139.2774817665384\n",
      "\n"
     ]
    },
    {
     "name": "stderr",
     "output_type": "stream",
     "text": [
      "\r",
      "t:  18%|█▊        | 45/250 [01:07<04:28,  1.31s/it, now=None]"
     ]
    },
    {
     "name": "stdout",
     "output_type": "stream",
     "text": [
      "left_curverad 4031.8393228316104\n",
      "left_curverad 4186.2662037646305\n",
      "a2 0.00012179486232670388\n",
      "b2 -0.2896460519179844\n",
      "c2 1139.0270138059736\n",
      "\n"
     ]
    },
    {
     "name": "stderr",
     "output_type": "stream",
     "text": [
      "\r",
      "t:  18%|█▊        | 46/250 [01:08<04:04,  1.20s/it, now=None]"
     ]
    },
    {
     "name": "stdout",
     "output_type": "stream",
     "text": [
      "left_curverad 4013.9165496706196\n",
      "left_curverad 4234.938828458688\n",
      "a2 0.00012045919374626996\n",
      "b2 -0.2892856289198831\n",
      "c2 1138.605896141547\n",
      "\n"
     ]
    },
    {
     "name": "stderr",
     "output_type": "stream",
     "text": [
      "\r",
      "t:  19%|█▉        | 47/250 [01:09<03:44,  1.11s/it, now=None]"
     ]
    },
    {
     "name": "stdout",
     "output_type": "stream",
     "text": [
      "left_curverad 3919.4596132270667\n",
      "left_curverad 3941.662264920885\n",
      "a2 0.00012913520696278754\n",
      "b2 -0.2951224597893852\n",
      "c2 1138.2393355576282\n",
      "\n"
     ]
    },
    {
     "name": "stderr",
     "output_type": "stream",
     "text": [
      "\r",
      "t:  19%|█▉        | 48/250 [01:10<03:35,  1.07s/it, now=None]"
     ]
    },
    {
     "name": "stdout",
     "output_type": "stream",
     "text": [
      "left_curverad 3817.742650167463\n",
      "left_curverad 3761.716901284651\n",
      "a2 0.00013529057621979127\n",
      "b2 -0.3034729277585225\n",
      "c2 1139.2008315951616\n",
      "\n",
      "left_curverad 3523.551230556332\n",
      "left_curverad 3193.6434700631958\n",
      "a2 0.00015844154491642692\n",
      "b2 -0.3172357783450814\n",
      "c2 1139.166903887754\n",
      "\n"
     ]
    },
    {
     "name": "stderr",
     "output_type": "stream",
     "text": [
      "t:  20%|██        | 50/250 [01:14<05:34,  1.67s/it, now=None]"
     ]
    },
    {
     "name": "stdout",
     "output_type": "stream",
     "text": [
      "left_curverad 3481.0420557298435\n",
      "left_curverad 3093.6664246181044\n",
      "a2 0.00016348660507865543\n",
      "b2 -0.3227443199715253\n",
      "c2 1140.2942256662277\n",
      "\n"
     ]
    },
    {
     "name": "stderr",
     "output_type": "stream",
     "text": [
      "\r",
      "t:  20%|██        | 51/250 [01:15<04:45,  1.44s/it, now=None]"
     ]
    },
    {
     "name": "stdout",
     "output_type": "stream",
     "text": [
      "left_curverad 3523.057823250031\n",
      "left_curverad 3143.1821911489455\n",
      "a2 0.00016108426180652243\n",
      "b2 -0.3233194452926267\n",
      "c2 1140.7380690394227\n",
      "\n"
     ]
    },
    {
     "name": "stderr",
     "output_type": "stream",
     "text": [
      "\r",
      "t:  21%|██        | 52/250 [01:16<04:14,  1.28s/it, now=None]"
     ]
    },
    {
     "name": "stdout",
     "output_type": "stream",
     "text": [
      "left_curverad 3668.8952999245294\n",
      "left_curverad 3464.108727597538\n",
      "a2 0.00014679030298030897\n",
      "b2 -0.3173776360375131\n",
      "c2 1138.982105083633\n",
      "\n"
     ]
    },
    {
     "name": "stderr",
     "output_type": "stream",
     "text": [
      "\r",
      "t:  21%|██        | 53/250 [01:19<06:25,  1.96s/it, now=None]"
     ]
    },
    {
     "name": "stdout",
     "output_type": "stream",
     "text": [
      "left_curverad 3807.182037784717\n",
      "left_curverad 3595.060293811789\n",
      "a2 0.0001415607411454178\n",
      "b2 -0.3124562749293249\n",
      "c2 1138.3136705964741\n",
      "\n"
     ]
    },
    {
     "name": "stderr",
     "output_type": "stream",
     "text": [
      "\r",
      "t:  22%|██▏       | 54/250 [01:20<05:19,  1.63s/it, now=None]"
     ]
    },
    {
     "name": "stdout",
     "output_type": "stream",
     "text": [
      "left_curverad 3903.5965729022746\n",
      "left_curverad 3616.334632037095\n",
      "a2 0.00014076747118717947\n",
      "b2 -0.31218168690350134\n",
      "c2 1138.3126060998734\n",
      "\n"
     ]
    },
    {
     "name": "stderr",
     "output_type": "stream",
     "text": [
      "\r",
      "t:  22%|██▏       | 55/250 [01:21<04:37,  1.42s/it, now=None]"
     ]
    },
    {
     "name": "stdout",
     "output_type": "stream",
     "text": [
      "left_curverad 3982.173871215934\n",
      "left_curverad 3648.743988209435\n",
      "a2 0.00013956536796268422\n",
      "b2 -0.31151064021674346\n",
      "c2 1138.6196627760771\n",
      "\n"
     ]
    },
    {
     "name": "stderr",
     "output_type": "stream",
     "text": [
      "\r",
      "t:  22%|██▏       | 56/250 [01:22<04:02,  1.25s/it, now=None]"
     ]
    },
    {
     "name": "stdout",
     "output_type": "stream",
     "text": [
      "left_curverad 4080.8431474183312\n",
      "left_curverad 3748.0664187212583\n",
      "a2 0.00013534594845701216\n",
      "b2 -0.293068824253947\n",
      "c2 1132.4387934480858\n",
      "\n"
     ]
    },
    {
     "name": "stderr",
     "output_type": "stream",
     "text": [
      "\r",
      "t:  23%|██▎       | 57/250 [01:23<03:40,  1.14s/it, now=None]"
     ]
    },
    {
     "name": "stdout",
     "output_type": "stream",
     "text": [
      "left_curverad 4364.255679680822\n",
      "left_curverad 4280.048275135496\n",
      "a2 0.00011947194950530898\n",
      "b2 -0.2945645566138274\n",
      "c2 1135.7927689569833\n",
      "\n"
     ]
    },
    {
     "name": "stderr",
     "output_type": "stream",
     "text": [
      "\r",
      "t:  23%|██▎       | 58/250 [01:24<03:25,  1.07s/it, now=None]"
     ]
    },
    {
     "name": "stdout",
     "output_type": "stream",
     "text": [
      "left_curverad 4509.251087426419\n",
      "left_curverad 4031.8437067841514\n",
      "a2 0.00012640880781786205\n",
      "b2 -0.2950878930328315\n",
      "c2 1134.4422537188498\n",
      "\n"
     ]
    },
    {
     "name": "stderr",
     "output_type": "stream",
     "text": [
      "\r",
      "t:  24%|██▎       | 59/250 [01:27<05:37,  1.77s/it, now=None]"
     ]
    },
    {
     "name": "stdout",
     "output_type": "stream",
     "text": [
      "left_curverad 4495.260956109771\n",
      "left_curverad 3952.7200126398075\n",
      "a2 0.00012885593321353177\n",
      "b2 -0.2966659170998443\n",
      "c2 1133.7742417904128\n",
      "\n"
     ]
    },
    {
     "name": "stderr",
     "output_type": "stream",
     "text": [
      "\r",
      "t:  24%|██▍       | 60/250 [01:28<04:51,  1.53s/it, now=None]"
     ]
    },
    {
     "name": "stdout",
     "output_type": "stream",
     "text": [
      "left_curverad 4429.587981443557\n",
      "left_curverad 3836.4839866986817\n",
      "a2 0.00013269174335404352\n",
      "b2 -0.3006138670423418\n",
      "c2 1134.2617584898599\n",
      "\n"
     ]
    },
    {
     "name": "stderr",
     "output_type": "stream",
     "text": [
      "\r",
      "t:  24%|██▍       | 61/250 [01:29<04:14,  1.35s/it, now=None]"
     ]
    },
    {
     "name": "stdout",
     "output_type": "stream",
     "text": [
      "left_curverad 4501.936510293022\n",
      "left_curverad 3612.907901268427\n",
      "a2 0.00014069315062830768\n",
      "b2 -0.30744231116773185\n",
      "c2 1135.6192438686094\n",
      "\n"
     ]
    },
    {
     "name": "stderr",
     "output_type": "stream",
     "text": [
      "\r",
      "t:  25%|██▍       | 62/250 [01:30<03:47,  1.21s/it, now=None]"
     ]
    },
    {
     "name": "stdout",
     "output_type": "stream",
     "text": [
      "left_curverad 4588.645175397014\n",
      "left_curverad 3492.1313094753923\n",
      "a2 0.0001454962988767377\n",
      "b2 -0.31295736543992636\n",
      "c2 1136.9938002297017\n",
      "\n"
     ]
    },
    {
     "name": "stderr",
     "output_type": "stream",
     "text": [
      "\r",
      "t:  25%|██▌       | 63/250 [01:33<05:31,  1.77s/it, now=None]"
     ]
    },
    {
     "name": "stdout",
     "output_type": "stream",
     "text": [
      "left_curverad 4627.791856936014\n",
      "left_curverad 3381.2971725265625\n",
      "a2 0.00015019792560893138\n",
      "b2 -0.318248007232988\n",
      "c2 1138.4987052620545\n",
      "\n"
     ]
    },
    {
     "name": "stderr",
     "output_type": "stream",
     "text": [
      "\r",
      "t:  26%|██▌       | 64/250 [01:34<04:44,  1.53s/it, now=None]"
     ]
    },
    {
     "name": "stdout",
     "output_type": "stream",
     "text": [
      "left_curverad 4657.862960231963\n",
      "left_curverad 3390.8788444418137\n",
      "a2 0.00014982634838182858\n",
      "b2 -0.31886907864510095\n",
      "c2 1139.1768816425383\n",
      "\n"
     ]
    },
    {
     "name": "stderr",
     "output_type": "stream",
     "text": [
      "\r",
      "t:  26%|██▌       | 65/250 [01:35<04:14,  1.37s/it, now=None]"
     ]
    },
    {
     "name": "stdout",
     "output_type": "stream",
     "text": [
      "left_curverad 4703.02372776412\n",
      "left_curverad 3403.043643107177\n",
      "a2 0.00014936255603596616\n",
      "b2 -0.31975681742675793\n",
      "c2 1139.8851683951964\n",
      "\n"
     ]
    },
    {
     "name": "stderr",
     "output_type": "stream",
     "text": [
      "\r",
      "t:  26%|██▋       | 66/250 [01:36<03:44,  1.22s/it, now=None]"
     ]
    },
    {
     "name": "stdout",
     "output_type": "stream",
     "text": [
      "left_curverad 4574.885741528771\n",
      "left_curverad 3293.4736200573298\n",
      "a2 0.0001543051212493664\n",
      "b2 -0.32631040232303216\n",
      "c2 1142.4142683224923\n",
      "\n"
     ]
    },
    {
     "name": "stderr",
     "output_type": "stream",
     "text": [
      "\r",
      "t:  27%|██▋       | 67/250 [01:37<03:22,  1.11s/it, now=None]"
     ]
    },
    {
     "name": "stdout",
     "output_type": "stream",
     "text": [
      "left_curverad 4588.44488930653\n",
      "left_curverad 3744.4721390932327\n",
      "a2 0.00013670693376256657\n",
      "b2 -0.32227535803391066\n",
      "c2 1144.7703622428803\n",
      "\n"
     ]
    },
    {
     "name": "stderr",
     "output_type": "stream",
     "text": [
      "\r",
      "t:  27%|██▋       | 68/250 [01:38<03:08,  1.03s/it, now=None]"
     ]
    },
    {
     "name": "stdout",
     "output_type": "stream",
     "text": [
      "left_curverad 4574.734946002505\n",
      "left_curverad 3934.2560859185874\n",
      "a2 0.00013013106602987\n",
      "b2 -0.31320616178949306\n",
      "c2 1143.2304281163574\n",
      "\n"
     ]
    },
    {
     "name": "stderr",
     "output_type": "stream",
     "text": [
      "\r",
      "t:  28%|██▊       | 69/250 [01:41<04:59,  1.65s/it, now=None]"
     ]
    },
    {
     "name": "stdout",
     "output_type": "stream",
     "text": [
      "left_curverad 4345.745850434988\n",
      "left_curverad 4046.164202942041\n",
      "a2 0.00012665652807589684\n",
      "b2 -0.31082716485216183\n",
      "c2 1142.4334230987588\n",
      "\n"
     ]
    },
    {
     "name": "stderr",
     "output_type": "stream",
     "text": [
      "\r",
      "t:  28%|██▊       | 70/250 [01:42<04:18,  1.43s/it, now=None]"
     ]
    },
    {
     "name": "stdout",
     "output_type": "stream",
     "text": [
      "left_curverad 4235.999715526152\n",
      "left_curverad 3936.310361279339\n",
      "a2 0.00013000512174225645\n",
      "b2 -0.31182081704777626\n",
      "c2 1143.227443635742\n",
      "\n"
     ]
    },
    {
     "name": "stderr",
     "output_type": "stream",
     "text": [
      "\r",
      "t:  28%|██▊       | 71/250 [01:43<03:48,  1.27s/it, now=None]"
     ]
    },
    {
     "name": "stdout",
     "output_type": "stream",
     "text": [
      "left_curverad 4010.615117971239\n",
      "left_curverad 3783.951291945143\n",
      "a2 0.0001351137683958348\n",
      "b2 -0.3166158209095583\n",
      "c2 1144.9811045701001\n",
      "\n"
     ]
    },
    {
     "name": "stderr",
     "output_type": "stream",
     "text": [
      "\r",
      "t:  29%|██▉       | 72/250 [01:43<03:29,  1.18s/it, now=None]"
     ]
    },
    {
     "name": "stdout",
     "output_type": "stream",
     "text": [
      "left_curverad 3741.7484816152196\n",
      "left_curverad 3445.913123110131\n",
      "a2 0.0001479963414109121\n",
      "b2 -0.3279974950752316\n",
      "c2 1146.6874675761303\n",
      "\n",
      "left_curverad 3646.223369455403\n",
      "left_curverad 3428.192050182255\n",
      "a2 0.00014880254829266324\n",
      "b2 -0.32996572908579036\n",
      "c2 1147.9491688886126\n",
      "\n"
     ]
    },
    {
     "name": "stderr",
     "output_type": "stream",
     "text": [
      "t:  30%|██▉       | 74/250 [01:48<05:24,  1.84s/it, now=None]"
     ]
    },
    {
     "name": "stdout",
     "output_type": "stream",
     "text": [
      "left_curverad 3640.0696506137187\n",
      "left_curverad 3498.355952111786\n",
      "a2 0.00014606108347952\n",
      "b2 -0.33077747381145056\n",
      "c2 1149.5216110443914\n",
      "\n"
     ]
    },
    {
     "name": "stderr",
     "output_type": "stream",
     "text": [
      "\r",
      "t:  30%|███       | 75/250 [01:49<04:32,  1.56s/it, now=None]"
     ]
    },
    {
     "name": "stdout",
     "output_type": "stream",
     "text": [
      "left_curverad 3628.541130469406\n",
      "left_curverad 3363.141482346911\n",
      "a2 0.00015183540433544808\n",
      "b2 -0.337259650042696\n",
      "c2 1151.6308392747912\n",
      "\n"
     ]
    },
    {
     "name": "stderr",
     "output_type": "stream",
     "text": [
      "\r",
      "t:  30%|███       | 76/250 [01:50<03:56,  1.36s/it, now=None]"
     ]
    },
    {
     "name": "stdout",
     "output_type": "stream",
     "text": [
      "left_curverad 3672.7465217312974\n",
      "left_curverad 3562.5198597063845\n",
      "a2 0.0001438547256801277\n",
      "b2 -0.3356208758977205\n",
      "c2 1153.2394304001466\n",
      "\n",
      "left_curverad 3755.9414061527987\n",
      "left_curverad 3543.8373895480304\n",
      "a2 0.00014446750071495673\n",
      "b2 -0.33382401195882805\n",
      "c2 1153.2697270053816\n",
      "\n"
     ]
    },
    {
     "name": "stderr",
     "output_type": "stream",
     "text": [
      "t:  31%|███       | 78/250 [01:54<05:14,  1.83s/it, now=None]"
     ]
    },
    {
     "name": "stdout",
     "output_type": "stream",
     "text": [
      "left_curverad 3883.721760817618\n",
      "left_curverad 3582.3070417700847\n",
      "a2 0.00014317854464465405\n",
      "b2 -0.33680845636924567\n",
      "c2 1156.298153916036\n",
      "\n"
     ]
    },
    {
     "name": "stderr",
     "output_type": "stream",
     "text": [
      "\r",
      "t:  32%|███▏      | 79/250 [01:55<04:22,  1.53s/it, now=None]"
     ]
    },
    {
     "name": "stdout",
     "output_type": "stream",
     "text": [
      "left_curverad 4029.712501397607\n",
      "left_curverad 3603.126656180147\n",
      "a2 0.00014260271116466858\n",
      "b2 -0.3404770008807584\n",
      "c2 1159.6144736160018\n",
      "\n"
     ]
    },
    {
     "name": "stderr",
     "output_type": "stream",
     "text": [
      "\r",
      "t:  32%|███▏      | 80/250 [01:56<03:45,  1.33s/it, now=None]"
     ]
    },
    {
     "name": "stdout",
     "output_type": "stream",
     "text": [
      "left_curverad 4259.273185793411\n",
      "left_curverad 4062.396207171546\n",
      "a2 0.00012692006114466695\n",
      "b2 -0.32636080355601726\n",
      "c2 1158.9928653203806\n",
      "\n"
     ]
    },
    {
     "name": "stderr",
     "output_type": "stream",
     "text": [
      "\r",
      "t:  32%|███▏      | 81/250 [01:57<03:24,  1.21s/it, now=None]"
     ]
    },
    {
     "name": "stdout",
     "output_type": "stream",
     "text": [
      "left_curverad 4521.556313518032\n",
      "left_curverad 4470.254948968172\n",
      "a2 0.00011583888815014175\n",
      "b2 -0.3203078888275466\n",
      "c2 1158.4682339515791\n",
      "\n"
     ]
    },
    {
     "name": "stderr",
     "output_type": "stream",
     "text": [
      "\r",
      "t:  33%|███▎      | 82/250 [02:00<04:58,  1.78s/it, now=None]"
     ]
    },
    {
     "name": "stdout",
     "output_type": "stream",
     "text": [
      "left_curverad 4626.675144906402\n",
      "left_curverad 4343.786598846114\n",
      "a2 0.00011887251860695912\n",
      "b2 -0.3182204684590824\n",
      "c2 1156.8729478256\n",
      "\n"
     ]
    },
    {
     "name": "stderr",
     "output_type": "stream",
     "text": [
      "\r",
      "t:  33%|███▎      | 83/250 [02:01<04:16,  1.54s/it, now=None]"
     ]
    },
    {
     "name": "stdout",
     "output_type": "stream",
     "text": [
      "left_curverad 4581.471124262353\n",
      "left_curverad 4200.982652054631\n",
      "a2 0.00012270136694739374\n",
      "b2 -0.3196816889711303\n",
      "c2 1156.7577269204494\n",
      "\n"
     ]
    },
    {
     "name": "stderr",
     "output_type": "stream",
     "text": [
      "\r",
      "t:  34%|███▎      | 84/250 [02:02<03:43,  1.35s/it, now=None]"
     ]
    },
    {
     "name": "stdout",
     "output_type": "stream",
     "text": [
      "left_curverad 4522.0751046151245\n",
      "left_curverad 4096.432976621762\n",
      "a2 0.00012574531524100314\n",
      "b2 -0.3223947530578948\n",
      "c2 1157.848755797533\n",
      "\n"
     ]
    },
    {
     "name": "stderr",
     "output_type": "stream",
     "text": [
      "\r",
      "t:  34%|███▍      | 85/250 [02:03<03:21,  1.22s/it, now=None]"
     ]
    },
    {
     "name": "stdout",
     "output_type": "stream",
     "text": [
      "left_curverad 4455.895764907011\n",
      "left_curverad 4122.248934543616\n",
      "a2 0.0001250776511357699\n",
      "b2 -0.32371893681775304\n",
      "c2 1159.4631822175306\n",
      "\n",
      "left_curverad 4449.95419998256\n",
      "left_curverad 4156.217478640116\n",
      "a2 0.0001242847271497993\n",
      "b2 -0.3268849743647467\n",
      "c2 1161.6594502593427\n",
      "\n"
     ]
    },
    {
     "name": "stderr",
     "output_type": "stream",
     "text": [
      "t:  35%|███▍      | 87/250 [02:07<04:16,  1.57s/it, now=None]"
     ]
    },
    {
     "name": "stdout",
     "output_type": "stream",
     "text": [
      "left_curverad 4626.535028546465\n",
      "left_curverad 4657.184545994663\n",
      "a2 0.00011140665585352967\n",
      "b2 -0.3182110537931982\n",
      "c2 1161.928819416997\n",
      "\n"
     ]
    },
    {
     "name": "stderr",
     "output_type": "stream",
     "text": [
      "\r",
      "t:  35%|███▌      | 88/250 [02:08<03:40,  1.36s/it, now=None]"
     ]
    },
    {
     "name": "stdout",
     "output_type": "stream",
     "text": [
      "left_curverad 4689.368795053183\n",
      "left_curverad 4688.543371439171\n",
      "a2 0.00011052590741919404\n",
      "b2 -0.3142715103083946\n",
      "c2 1161.2484184075122\n",
      "\n"
     ]
    },
    {
     "name": "stderr",
     "output_type": "stream",
     "text": [
      "\r",
      "t:  36%|███▌      | 89/250 [02:09<03:14,  1.21s/it, now=None]"
     ]
    },
    {
     "name": "stdout",
     "output_type": "stream",
     "text": [
      "left_curverad 4648.838446816064\n",
      "left_curverad 4520.468060257182\n",
      "a2 0.00011453811479807574\n",
      "b2 -0.31816506964548485\n",
      "c2 1162.9756820364523\n",
      "\n"
     ]
    },
    {
     "name": "stderr",
     "output_type": "stream",
     "text": [
      "\r",
      "t:  36%|███▌      | 90/250 [02:12<05:02,  1.89s/it, now=None]"
     ]
    },
    {
     "name": "stdout",
     "output_type": "stream",
     "text": [
      "left_curverad 4749.0870555478605\n",
      "left_curverad 4662.945269735589\n",
      "a2 0.00011125406691293934\n",
      "b2 -0.31770075413431653\n",
      "c2 1164.6385089369437\n",
      "\n"
     ]
    },
    {
     "name": "stderr",
     "output_type": "stream",
     "text": [
      "\r",
      "t:  36%|███▋      | 91/250 [02:13<04:10,  1.58s/it, now=None]"
     ]
    },
    {
     "name": "stdout",
     "output_type": "stream",
     "text": [
      "left_curverad 4974.510922863614\n",
      "left_curverad 4957.240167511276\n",
      "a2 0.00010430305075153293\n",
      "b2 -0.30036399676670456\n",
      "c2 1159.3257428280126\n",
      "\n"
     ]
    },
    {
     "name": "stderr",
     "output_type": "stream",
     "text": [
      "\r",
      "t:  37%|███▋      | 92/250 [02:14<03:36,  1.37s/it, now=None]"
     ]
    },
    {
     "name": "stdout",
     "output_type": "stream",
     "text": [
      "left_curverad 5087.21367908315\n",
      "left_curverad 6432.440377428432\n",
      "a2 8.125868266936087e-05\n",
      "b2 -0.2901449854599386\n",
      "c2 1160.7892559661286\n",
      "\n"
     ]
    },
    {
     "name": "stderr",
     "output_type": "stream",
     "text": [
      "\r",
      "t:  37%|███▋      | 93/250 [02:15<03:10,  1.22s/it, now=None]"
     ]
    },
    {
     "name": "stdout",
     "output_type": "stream",
     "text": [
      "left_curverad 5231.828649038884\n",
      "left_curverad 6579.853414327374\n",
      "a2 7.954409584331033e-05\n",
      "b2 -0.2903004527722243\n",
      "c2 1161.1488014509955\n",
      "\n"
     ]
    },
    {
     "name": "stderr",
     "output_type": "stream",
     "text": [
      "\r",
      "t:  38%|███▊      | 94/250 [02:18<04:36,  1.77s/it, now=None]"
     ]
    },
    {
     "name": "stdout",
     "output_type": "stream",
     "text": [
      "left_curverad 5038.131366795229\n",
      "left_curverad 5295.273528720805\n",
      "a2 9.781652091329133e-05\n",
      "b2 -0.29497297137563216\n",
      "c2 1159.3577937593498\n",
      "\n"
     ]
    },
    {
     "name": "stderr",
     "output_type": "stream",
     "text": [
      "\r",
      "t:  38%|███▊      | 95/250 [02:19<03:54,  1.51s/it, now=None]"
     ]
    },
    {
     "name": "stdout",
     "output_type": "stream",
     "text": [
      "left_curverad 4917.5221877860495\n",
      "left_curverad 4796.8038028587525\n",
      "a2 0.0001077107818983246\n",
      "b2 -0.3035543181665802\n",
      "c2 1160.2815919252348\n",
      "\n"
     ]
    },
    {
     "name": "stderr",
     "output_type": "stream",
     "text": [
      "\r",
      "t:  38%|███▊      | 96/250 [02:20<03:25,  1.33s/it, now=None]"
     ]
    },
    {
     "name": "stdout",
     "output_type": "stream",
     "text": [
      "left_curverad 4933.002454384474\n",
      "left_curverad 4568.378326845657\n",
      "a2 0.00011297760047943732\n",
      "b2 -0.3086989260421925\n",
      "c2 1162.1878712130263\n",
      "\n"
     ]
    },
    {
     "name": "stderr",
     "output_type": "stream",
     "text": [
      "\r",
      "t:  39%|███▉      | 97/250 [02:20<03:05,  1.21s/it, now=None]"
     ]
    },
    {
     "name": "stdout",
     "output_type": "stream",
     "text": [
      "left_curverad 4997.586918257445\n",
      "left_curverad 4546.636196900742\n",
      "a2 0.00011356954767836888\n",
      "b2 -0.310606273531654\n",
      "c2 1163.895284330859\n",
      "\n"
     ]
    },
    {
     "name": "stderr",
     "output_type": "stream",
     "text": [
      "\r",
      "t:  39%|███▉      | 98/250 [02:24<04:28,  1.77s/it, now=None]"
     ]
    },
    {
     "name": "stdout",
     "output_type": "stream",
     "text": [
      "left_curverad 5050.75942454065\n",
      "left_curverad 4219.733986149848\n",
      "a2 0.00012198645307245308\n",
      "b2 -0.31531549328131087\n",
      "c2 1164.7859622586675\n",
      "\n"
     ]
    },
    {
     "name": "stderr",
     "output_type": "stream",
     "text": [
      "\r",
      "t:  40%|███▉      | 99/250 [02:24<03:45,  1.49s/it, now=None]"
     ]
    },
    {
     "name": "stdout",
     "output_type": "stream",
     "text": [
      "left_curverad 5392.196574994656\n",
      "left_curverad 4802.905990912198\n",
      "a2 0.00010763721185471784\n",
      "b2 -0.30479040112822675\n",
      "c2 1163.384681144285\n",
      "\n"
     ]
    },
    {
     "name": "stderr",
     "output_type": "stream",
     "text": [
      "\r",
      "t:  40%|████      | 100/250 [02:25<03:16,  1.31s/it, now=None]"
     ]
    },
    {
     "name": "stdout",
     "output_type": "stream",
     "text": [
      "left_curverad 5629.67006073029\n",
      "left_curverad 5062.021784555345\n",
      "a2 0.00010222228923567102\n",
      "b2 -0.29909860243983655\n",
      "c2 1162.6891322893352\n",
      "\n"
     ]
    },
    {
     "name": "stderr",
     "output_type": "stream",
     "text": [
      "\r",
      "t:  40%|████      | 101/250 [02:26<02:56,  1.19s/it, now=None]"
     ]
    },
    {
     "name": "stdout",
     "output_type": "stream",
     "text": [
      "left_curverad 5749.78643474451\n",
      "left_curverad 4917.881335893252\n",
      "a2 0.00010494674410606714\n",
      "b2 -0.2971109108792924\n",
      "c2 1162.2939123959902\n",
      "\n"
     ]
    },
    {
     "name": "stderr",
     "output_type": "stream",
     "text": [
      "\r",
      "t:  41%|████      | 102/250 [02:30<04:41,  1.90s/it, now=None]"
     ]
    },
    {
     "name": "stdout",
     "output_type": "stream",
     "text": [
      "left_curverad 6279.6058352554855\n",
      "left_curverad 5335.613405755418\n",
      "a2 9.699633769388345e-05\n",
      "b2 -0.29194508426950116\n",
      "c2 1161.7340518926335\n",
      "\n"
     ]
    },
    {
     "name": "stderr",
     "output_type": "stream",
     "text": [
      "\r",
      "t:  41%|████      | 103/250 [02:31<03:51,  1.58s/it, now=None]"
     ]
    },
    {
     "name": "stdout",
     "output_type": "stream",
     "text": [
      "left_curverad 7400.551392552227\n",
      "left_curverad 5855.528168771349\n",
      "a2 8.838500858063794e-05\n",
      "b2 -0.2795877007807992\n",
      "c2 1159.9719966258886\n",
      "\n"
     ]
    },
    {
     "name": "stderr",
     "output_type": "stream",
     "text": [
      "\r",
      "t:  42%|████▏     | 104/250 [02:31<03:19,  1.37s/it, now=None]"
     ]
    },
    {
     "name": "stdout",
     "output_type": "stream",
     "text": [
      "left_curverad 8499.711077901698\n",
      "left_curverad 9015.445131838702\n",
      "a2 5.801886571754664e-05\n",
      "b2 -0.2581388711860983\n",
      "c2 1156.9905103386454\n",
      "\n",
      "left_curverad 8563.818301061123\n",
      "left_curverad 9000.621865892335\n",
      "a2 5.7950818619221664e-05\n",
      "b2 -0.2524127076377909\n",
      "c2 1153.532988028528\n",
      "\n"
     ]
    },
    {
     "name": "stderr",
     "output_type": "stream",
     "text": [
      "t:  42%|████▏     | 106/250 [02:35<04:04,  1.70s/it, now=None]"
     ]
    },
    {
     "name": "stdout",
     "output_type": "stream",
     "text": [
      "left_curverad 7539.568961146777\n",
      "left_curverad 7220.013732901322\n",
      "a2 7.186172877023075e-05\n",
      "b2 -0.2613509189122446\n",
      "c2 1152.685941614479\n",
      "\n"
     ]
    },
    {
     "name": "stderr",
     "output_type": "stream",
     "text": [
      "\r",
      "t:  43%|████▎     | 107/250 [02:36<03:31,  1.48s/it, now=None]"
     ]
    },
    {
     "name": "stdout",
     "output_type": "stream",
     "text": [
      "left_curverad 5993.617754159843\n",
      "left_curverad 6045.572039199624\n",
      "a2 8.530795904468376e-05\n",
      "b2 -0.26714434715895397\n",
      "c2 1151.615984746176\n",
      "\n"
     ]
    },
    {
     "name": "stderr",
     "output_type": "stream",
     "text": [
      "\r",
      "t:  43%|████▎     | 108/250 [02:37<03:08,  1.33s/it, now=None]"
     ]
    },
    {
     "name": "stdout",
     "output_type": "stream",
     "text": [
      "left_curverad 6072.419900564063\n",
      "left_curverad 6553.115591940801\n",
      "a2 7.871635477725108e-05\n",
      "b2 -0.25813051839142725\n",
      "c2 1151.5871956212136\n",
      "\n",
      "left_curverad 6634.6866169192\n",
      "left_curverad 6471.113328664259\n",
      "a2 7.958686942358177e-05\n",
      "b2 -0.25559114283609735\n",
      "c2 1149.037689856863\n",
      "\n"
     ]
    },
    {
     "name": "stderr",
     "output_type": "stream",
     "text": [
      "t:  44%|████▍     | 110/250 [02:41<03:51,  1.66s/it, now=None]"
     ]
    },
    {
     "name": "stdout",
     "output_type": "stream",
     "text": [
      "left_curverad 7035.295833293213\n",
      "left_curverad 7113.972578148673\n",
      "a2 7.242752657409282e-05\n",
      "b2 -0.24637584035743526\n",
      "c2 1145.901265554707\n",
      "\n"
     ]
    },
    {
     "name": "stderr",
     "output_type": "stream",
     "text": [
      "\r",
      "t:  44%|████▍     | 111/250 [02:42<03:20,  1.44s/it, now=None]"
     ]
    },
    {
     "name": "stdout",
     "output_type": "stream",
     "text": [
      "left_curverad 8773.34929180632\n",
      "left_curverad 22536.7569087297\n",
      "a2 2.313745082741747e-05\n",
      "b2 -0.20176571432934512\n",
      "c2 1138.179228894039\n",
      "\n"
     ]
    },
    {
     "name": "stderr",
     "output_type": "stream",
     "text": [
      "\r",
      "t:  45%|████▍     | 112/250 [02:43<03:01,  1.32s/it, now=None]"
     ]
    },
    {
     "name": "stdout",
     "output_type": "stream",
     "text": [
      "left_curverad 9657.861562754144\n",
      "left_curverad 13499.143869212652\n",
      "a2 3.831107437175796e-05\n",
      "b2 -0.2059552477858704\n",
      "c2 1134.345338914335\n",
      "\n"
     ]
    },
    {
     "name": "stderr",
     "output_type": "stream",
     "text": [
      "\r",
      "t:  45%|████▌     | 113/250 [02:47<04:35,  2.01s/it, now=None]"
     ]
    },
    {
     "name": "stdout",
     "output_type": "stream",
     "text": [
      "left_curverad 9559.74666971181\n",
      "left_curverad 9353.204943911796\n",
      "a2 5.503093434351967e-05\n",
      "b2 -0.21886924391322304\n",
      "c2 1139.4628917663726\n",
      "\n"
     ]
    },
    {
     "name": "stderr",
     "output_type": "stream",
     "text": [
      "\r",
      "t:  46%|████▌     | 114/250 [02:48<03:49,  1.69s/it, now=None]"
     ]
    },
    {
     "name": "stdout",
     "output_type": "stream",
     "text": [
      "left_curverad 7829.008011823045\n",
      "left_curverad 6127.143435392713\n",
      "a2 8.343725032276441e-05\n",
      "b2 -0.2421321957764743\n",
      "c2 1142.0913509609054\n",
      "\n"
     ]
    },
    {
     "name": "stderr",
     "output_type": "stream",
     "text": [
      "\r",
      "t:  46%|████▌     | 115/250 [02:49<03:19,  1.48s/it, now=None]"
     ]
    },
    {
     "name": "stdout",
     "output_type": "stream",
     "text": [
      "left_curverad 7086.601404604803\n",
      "left_curverad 4325.683084247003\n",
      "a2 0.00011728078304664856\n",
      "b2 -0.26731928973951447\n",
      "c2 1144.048071489871\n",
      "\n"
     ]
    },
    {
     "name": "stderr",
     "output_type": "stream",
     "text": [
      "\r",
      "t:  46%|████▋     | 116/250 [02:52<04:24,  1.97s/it, now=None]"
     ]
    },
    {
     "name": "stdout",
     "output_type": "stream",
     "text": [
      "left_curverad 6082.436840593842\n",
      "left_curverad 3223.9568269905258\n",
      "a2 0.00015609147480563138\n",
      "b2 -0.290071566921446\n",
      "c2 1145.8618947370155\n",
      "\n"
     ]
    },
    {
     "name": "stderr",
     "output_type": "stream",
     "text": [
      "\r",
      "t:  47%|████▋     | 117/250 [02:53<03:40,  1.66s/it, now=None]"
     ]
    },
    {
     "name": "stdout",
     "output_type": "stream",
     "text": [
      "left_curverad 5332.79332350134\n",
      "left_curverad 2745.879822083128\n",
      "a2 0.00018260795523318562\n",
      "b2 -0.3060847421594383\n",
      "c2 1148.1364656060591\n",
      "\n"
     ]
    },
    {
     "name": "stderr",
     "output_type": "stream",
     "text": [
      "\r",
      "t:  47%|████▋     | 118/250 [02:54<03:12,  1.46s/it, now=None]"
     ]
    },
    {
     "name": "stdout",
     "output_type": "stream",
     "text": [
      "left_curverad 4470.708476418192\n",
      "left_curverad 2542.7790155381863\n",
      "a2 0.00019700648764241612\n",
      "b2 -0.31876674361956453\n",
      "c2 1151.5271851499742\n",
      "\n"
     ]
    },
    {
     "name": "stderr",
     "output_type": "stream",
     "text": [
      "\r",
      "t:  48%|████▊     | 119/250 [02:55<02:57,  1.35s/it, now=None]"
     ]
    },
    {
     "name": "stdout",
     "output_type": "stream",
     "text": [
      "left_curverad 4574.80348744399\n",
      "left_curverad 3998.9313688560355\n",
      "a2 0.00012639983557747434\n",
      "b2 -0.2670418222533038\n",
      "c2 1142.5162987896047\n",
      "\n"
     ]
    },
    {
     "name": "stderr",
     "output_type": "stream",
     "text": [
      "\r",
      "t:  48%|████▊     | 120/250 [02:58<04:09,  1.92s/it, now=None]"
     ]
    },
    {
     "name": "stdout",
     "output_type": "stream",
     "text": [
      "left_curverad 4505.942619967036\n",
      "left_curverad 4642.6112663780505\n",
      "a2 0.00010922470872313776\n",
      "b2 -0.254164544050502\n",
      "c2 1138.4992171993645\n",
      "\n"
     ]
    },
    {
     "name": "stderr",
     "output_type": "stream",
     "text": [
      "\r",
      "t:  48%|████▊     | 121/250 [02:59<03:36,  1.68s/it, now=None]"
     ]
    },
    {
     "name": "stdout",
     "output_type": "stream",
     "text": [
      "left_curverad 4585.192941463187\n",
      "left_curverad 4070.471289810391\n",
      "a2 0.000124214984861201\n",
      "b2 -0.26505476675514567\n",
      "c2 1137.0476502021208\n",
      "\n"
     ]
    },
    {
     "name": "stderr",
     "output_type": "stream",
     "text": [
      "\r",
      "t:  49%|████▉     | 122/250 [03:01<03:15,  1.53s/it, now=None]"
     ]
    },
    {
     "name": "stdout",
     "output_type": "stream",
     "text": [
      "left_curverad 4265.691614759093\n",
      "left_curverad 3823.189914347779\n",
      "a2 0.00013192313460919303\n",
      "b2 -0.2659582470974141\n",
      "c2 1134.1108709881146\n",
      "\n"
     ]
    },
    {
     "name": "stderr",
     "output_type": "stream",
     "text": [
      "\r",
      "t:  49%|████▉     | 123/250 [03:04<04:20,  2.05s/it, now=None]"
     ]
    },
    {
     "name": "stdout",
     "output_type": "stream",
     "text": [
      "left_curverad 4208.776816470515\n",
      "left_curverad 4005.0913956190866\n",
      "a2 0.0001261554413626042\n",
      "b2 -0.2651163939006589\n",
      "c2 1133.292974089136\n",
      "\n"
     ]
    },
    {
     "name": "stderr",
     "output_type": "stream",
     "text": [
      "\r",
      "t:  50%|████▉     | 124/250 [03:05<03:41,  1.76s/it, now=None]"
     ]
    },
    {
     "name": "stdout",
     "output_type": "stream",
     "text": [
      "left_curverad 3714.5881541063604\n",
      "left_curverad 3898.5226889539085\n",
      "a2 0.00012946598320883476\n",
      "b2 -0.2654913445490609\n",
      "c2 1131.720963788737\n",
      "\n"
     ]
    },
    {
     "name": "stderr",
     "output_type": "stream",
     "text": [
      "\r",
      "t:  50%|█████     | 125/250 [03:06<03:13,  1.55s/it, now=None]"
     ]
    },
    {
     "name": "stdout",
     "output_type": "stream",
     "text": [
      "left_curverad 3561.420640981601\n",
      "left_curverad 3879.2426530768685\n",
      "a2 0.00013014490977695094\n",
      "b2 -0.26761231703295224\n",
      "c2 1132.4290473555457\n",
      "\n"
     ]
    },
    {
     "name": "stderr",
     "output_type": "stream",
     "text": [
      "\r",
      "t:  50%|█████     | 126/250 [03:10<04:28,  2.16s/it, now=None]"
     ]
    },
    {
     "name": "stdout",
     "output_type": "stream",
     "text": [
      "left_curverad 3797.0353064247884\n",
      "left_curverad 3947.7184829571156\n",
      "a2 0.0001278878808080003\n",
      "b2 -0.2643804647326794\n",
      "c2 1130.4660468518766\n",
      "\n"
     ]
    },
    {
     "name": "stderr",
     "output_type": "stream",
     "text": [
      "\r",
      "t:  51%|█████     | 127/250 [03:11<03:40,  1.79s/it, now=None]"
     ]
    },
    {
     "name": "stdout",
     "output_type": "stream",
     "text": [
      "left_curverad 4023.815788377977\n",
      "left_curverad 4351.8562051618055\n",
      "a2 0.00011605183164191467\n",
      "b2 -0.24879672651122017\n",
      "c2 1127.7361543492261\n",
      "\n"
     ]
    },
    {
     "name": "stderr",
     "output_type": "stream",
     "text": [
      "\r",
      "t:  51%|█████     | 128/250 [03:12<03:07,  1.53s/it, now=None]"
     ]
    },
    {
     "name": "stdout",
     "output_type": "stream",
     "text": [
      "left_curverad 4453.705709410142\n",
      "left_curverad 5389.111928161363\n",
      "a2 9.422404793096226e-05\n",
      "b2 -0.23723818997013482\n",
      "c2 1129.0517126420932\n",
      "\n"
     ]
    },
    {
     "name": "stderr",
     "output_type": "stream",
     "text": [
      "\r",
      "t:  52%|█████▏    | 129/250 [03:13<02:45,  1.36s/it, now=None]"
     ]
    },
    {
     "name": "stdout",
     "output_type": "stream",
     "text": [
      "left_curverad 4738.8500935978855\n",
      "left_curverad 5947.857449528177\n",
      "a2 8.578475025640539e-05\n",
      "b2 -0.2399824150172173\n",
      "c2 1131.5820679064293\n",
      "\n"
     ]
    },
    {
     "name": "stderr",
     "output_type": "stream",
     "text": [
      "\r",
      "t:  52%|█████▏    | 130/250 [03:16<03:46,  1.89s/it, now=None]"
     ]
    },
    {
     "name": "stdout",
     "output_type": "stream",
     "text": [
      "left_curverad 4590.966168873493\n",
      "left_curverad 6063.416382777229\n",
      "a2 8.406877787871584e-05\n",
      "b2 -0.23468971668658975\n",
      "c2 1131.9010419322778\n",
      "\n"
     ]
    },
    {
     "name": "stderr",
     "output_type": "stream",
     "text": [
      "\r",
      "t:  52%|█████▏    | 131/250 [03:17<03:09,  1.59s/it, now=None]"
     ]
    },
    {
     "name": "stdout",
     "output_type": "stream",
     "text": [
      "left_curverad 4566.867778895677\n",
      "left_curverad 5452.977846810568\n",
      "a2 9.30467833332996e-05\n",
      "b2 -0.23289047016373846\n",
      "c2 1131.6542239821356\n",
      "\n"
     ]
    },
    {
     "name": "stderr",
     "output_type": "stream",
     "text": [
      "\r",
      "t:  53%|█████▎    | 132/250 [03:17<02:44,  1.40s/it, now=None]"
     ]
    },
    {
     "name": "stdout",
     "output_type": "stream",
     "text": [
      "left_curverad 4904.547169843436\n",
      "left_curverad 5294.597015341056\n",
      "a2 9.598739432344122e-05\n",
      "b2 -0.24254297344349218\n",
      "c2 1129.4425027974592\n",
      "\n",
      "left_curverad 5390.363856354737\n",
      "left_curverad 4318.711931160335\n",
      "a2 0.00011692020102077774\n",
      "b2 -0.24926120939272806\n",
      "c2 1125.8796806515495\n",
      "\n"
     ]
    },
    {
     "name": "stderr",
     "output_type": "stream",
     "text": [
      "t:  54%|█████▎    | 134/250 [03:22<03:21,  1.73s/it, now=None]"
     ]
    },
    {
     "name": "stdout",
     "output_type": "stream",
     "text": [
      "left_curverad 5337.010812392375\n",
      "left_curverad 3820.4791351108315\n",
      "a2 0.00013177271260931032\n",
      "b2 -0.25712522820028344\n",
      "c2 1124.9639857175305\n",
      "\n"
     ]
    },
    {
     "name": "stderr",
     "output_type": "stream",
     "text": [
      "\r",
      "t:  54%|█████▍    | 135/250 [03:23<02:54,  1.51s/it, now=None]"
     ]
    },
    {
     "name": "stdout",
     "output_type": "stream",
     "text": [
      "left_curverad 4889.591972730543\n",
      "left_curverad 3508.401908916416\n",
      "a2 0.00014331110292314082\n",
      "b2 -0.2670770304870242\n",
      "c2 1125.0411575200487\n",
      "\n"
     ]
    },
    {
     "name": "stderr",
     "output_type": "stream",
     "text": [
      "\r",
      "t:  54%|█████▍    | 136/250 [03:24<02:31,  1.33s/it, now=None]"
     ]
    },
    {
     "name": "stdout",
     "output_type": "stream",
     "text": [
      "left_curverad 4587.7633958408705\n",
      "left_curverad 3427.5103975170086\n",
      "a2 0.00014672320138880995\n",
      "b2 -0.2730901507129516\n",
      "c2 1125.8621428885008\n",
      "\n",
      "left_curverad 4535.348841984551\n",
      "left_curverad 3349.148092936527\n",
      "a2 0.00015018403984040223\n",
      "b2 -0.2790584554097233\n",
      "c2 1126.3743038454297\n",
      "\n"
     ]
    },
    {
     "name": "stderr",
     "output_type": "stream",
     "text": [
      "t:  55%|█████▌    | 138/250 [03:28<03:28,  1.86s/it, now=None]"
     ]
    },
    {
     "name": "stdout",
     "output_type": "stream",
     "text": [
      "left_curverad 4608.731004263955\n",
      "left_curverad 3343.3840470243113\n",
      "a2 0.00015055273876104556\n",
      "b2 -0.2833467418768745\n",
      "c2 1127.3991899666412\n",
      "\n"
     ]
    },
    {
     "name": "stderr",
     "output_type": "stream",
     "text": [
      "\r",
      "t:  56%|█████▌    | 139/250 [03:29<02:55,  1.58s/it, now=None]"
     ]
    },
    {
     "name": "stdout",
     "output_type": "stream",
     "text": [
      "left_curverad 4463.665048634057\n",
      "left_curverad 3323.4347342830406\n",
      "a2 0.00015154865122870745\n",
      "b2 -0.28776100860678794\n",
      "c2 1129.9299961320341\n",
      "\n"
     ]
    },
    {
     "name": "stderr",
     "output_type": "stream",
     "text": [
      "\r",
      "t:  56%|█████▌    | 140/250 [03:30<02:31,  1.38s/it, now=None]"
     ]
    },
    {
     "name": "stdout",
     "output_type": "stream",
     "text": [
      "left_curverad 4338.444754368426\n",
      "left_curverad 3136.328821310877\n",
      "a2 0.0001604663916085153\n",
      "b2 -0.29679917060194255\n",
      "c2 1131.659036730619\n",
      "\n"
     ]
    },
    {
     "name": "stderr",
     "output_type": "stream",
     "text": [
      "\r",
      "t:  56%|█████▋    | 141/250 [03:33<03:24,  1.88s/it, now=None]"
     ]
    },
    {
     "name": "stdout",
     "output_type": "stream",
     "text": [
      "left_curverad 4503.341467142666\n",
      "left_curverad 3160.8618912089905\n",
      "a2 0.00015925067050724662\n",
      "b2 -0.29599104644748564\n",
      "c2 1131.1325502841476\n",
      "\n"
     ]
    },
    {
     "name": "stderr",
     "output_type": "stream",
     "text": [
      "\r",
      "t:  57%|█████▋    | 142/250 [03:34<02:49,  1.57s/it, now=None]"
     ]
    },
    {
     "name": "stdout",
     "output_type": "stream",
     "text": [
      "left_curverad 4567.629220372267\n",
      "left_curverad 3167.9665757314065\n",
      "a2 0.0001589096506351871\n",
      "b2 -0.2960060154208319\n",
      "c2 1130.7232129008953\n",
      "\n"
     ]
    },
    {
     "name": "stderr",
     "output_type": "stream",
     "text": [
      "\r",
      "t:  57%|█████▋    | 143/250 [03:35<02:25,  1.36s/it, now=None]"
     ]
    },
    {
     "name": "stdout",
     "output_type": "stream",
     "text": [
      "left_curverad 5048.611459596203\n",
      "left_curverad 4230.444995043621\n",
      "a2 0.00011975204326288483\n",
      "b2 -0.26594049786190865\n",
      "c2 1124.9314967355363\n",
      "\n"
     ]
    },
    {
     "name": "stderr",
     "output_type": "stream",
     "text": [
      "\r",
      "t:  58%|█████▊    | 144/250 [03:36<02:09,  1.22s/it, now=None]"
     ]
    },
    {
     "name": "stdout",
     "output_type": "stream",
     "text": [
      "left_curverad 5380.36247021726\n",
      "left_curverad 4400.177947134434\n",
      "a2 0.00011529405827937739\n",
      "b2 -0.26442790227445756\n",
      "c2 1123.6185018104825\n",
      "\n"
     ]
    },
    {
     "name": "stderr",
     "output_type": "stream",
     "text": [
      "\r",
      "t:  58%|█████▊    | 145/250 [03:37<01:58,  1.13s/it, now=None]"
     ]
    },
    {
     "name": "stdout",
     "output_type": "stream",
     "text": [
      "left_curverad 5273.556493412379\n",
      "left_curverad 4073.9999366799816\n",
      "a2 0.00012418140081873658\n",
      "b2 -0.2672927693752179\n",
      "c2 1122.3338807889338\n",
      "\n"
     ]
    },
    {
     "name": "stderr",
     "output_type": "stream",
     "text": [
      "\r",
      "t:  58%|█████▊    | 146/250 [03:38<01:51,  1.07s/it, now=None]"
     ]
    },
    {
     "name": "stdout",
     "output_type": "stream",
     "text": [
      "left_curverad 5071.063958471837\n",
      "left_curverad 4081.566008926951\n",
      "a2 0.00012395440909856328\n",
      "b2 -0.2670642313101288\n",
      "c2 1121.9655681304398\n",
      "\n"
     ]
    },
    {
     "name": "stderr",
     "output_type": "stream",
     "text": [
      "\r",
      "t:  59%|█████▉    | 147/250 [03:41<02:54,  1.69s/it, now=None]"
     ]
    },
    {
     "name": "stdout",
     "output_type": "stream",
     "text": [
      "left_curverad 5041.466591985865\n",
      "left_curverad 4207.564753059419\n",
      "a2 0.00012032025187013975\n",
      "b2 -0.2642512196731453\n",
      "c2 1120.7273552099282\n",
      "\n"
     ]
    },
    {
     "name": "stderr",
     "output_type": "stream",
     "text": [
      "\r",
      "t:  59%|█████▉    | 148/250 [03:42<02:35,  1.52s/it, now=None]"
     ]
    },
    {
     "name": "stdout",
     "output_type": "stream",
     "text": [
      "left_curverad 5074.967589584836\n",
      "left_curverad 4299.924541011085\n",
      "a2 0.00011780739338732236\n",
      "b2 -0.26284954757673856\n",
      "c2 1119.9883142256658\n",
      "\n"
     ]
    },
    {
     "name": "stderr",
     "output_type": "stream",
     "text": [
      "\r",
      "t:  60%|█████▉    | 149/250 [03:43<02:18,  1.37s/it, now=None]"
     ]
    },
    {
     "name": "stdout",
     "output_type": "stream",
     "text": [
      "left_curverad 5167.537242924311\n",
      "left_curverad 4410.327412778188\n",
      "a2 0.00011502709027129881\n",
      "b2 -0.26399527004011536\n",
      "c2 1121.4503871723155\n",
      "\n"
     ]
    },
    {
     "name": "stderr",
     "output_type": "stream",
     "text": [
      "\r",
      "t:  60%|██████    | 150/250 [03:47<03:23,  2.04s/it, now=None]"
     ]
    },
    {
     "name": "stdout",
     "output_type": "stream",
     "text": [
      "left_curverad 4677.941858461993\n",
      "left_curverad 4480.782631749334\n",
      "a2 0.00011323235611158976\n",
      "b2 -0.2618337754377244\n",
      "c2 1121.6261118661314\n",
      "\n"
     ]
    },
    {
     "name": "stderr",
     "output_type": "stream",
     "text": [
      "\r",
      "t:  60%|██████    | 151/250 [03:48<02:48,  1.71s/it, now=None]"
     ]
    },
    {
     "name": "stdout",
     "output_type": "stream",
     "text": [
      "left_curverad 4607.781731522337\n",
      "left_curverad 4665.337283740063\n",
      "a2 0.00010893024130658606\n",
      "b2 -0.2610389059926318\n",
      "c2 1122.3218682968104\n",
      "\n"
     ]
    },
    {
     "name": "stderr",
     "output_type": "stream",
     "text": [
      "\r",
      "t:  61%|██████    | 152/250 [03:49<02:24,  1.47s/it, now=None]"
     ]
    },
    {
     "name": "stdout",
     "output_type": "stream",
     "text": [
      "left_curverad 4807.8825280777255\n",
      "left_curverad 4778.9985068690185\n",
      "a2 0.00010630945637529201\n",
      "b2 -0.2563542111481747\n",
      "c2 1119.1429718040822\n",
      "\n"
     ]
    },
    {
     "name": "stderr",
     "output_type": "stream",
     "text": [
      "\r",
      "t:  61%|██████    | 153/250 [03:50<02:10,  1.35s/it, now=None]"
     ]
    },
    {
     "name": "stdout",
     "output_type": "stream",
     "text": [
      "left_curverad 4925.290977023501\n",
      "left_curverad 5043.540620517825\n",
      "a2 0.00010077906167930671\n",
      "b2 -0.24986844991929724\n",
      "c2 1114.378256440335\n",
      "\n"
     ]
    },
    {
     "name": "stderr",
     "output_type": "stream",
     "text": [
      "\r",
      "t:  62%|██████▏   | 154/250 [03:53<03:09,  1.97s/it, now=None]"
     ]
    },
    {
     "name": "stdout",
     "output_type": "stream",
     "text": [
      "left_curverad 4816.998186188236\n",
      "left_curverad 4492.9959464795575\n",
      "a2 0.00011256254631721819\n",
      "b2 -0.24928824755837276\n",
      "c2 1110.2780511101332\n",
      "\n"
     ]
    },
    {
     "name": "stderr",
     "output_type": "stream",
     "text": [
      "\r",
      "t:  62%|██████▏   | 155/250 [03:54<02:42,  1.71s/it, now=None]"
     ]
    },
    {
     "name": "stdout",
     "output_type": "stream",
     "text": [
      "left_curverad 4632.649851602436\n",
      "left_curverad 4018.3178623638614\n",
      "a2 0.00012551739408515997\n",
      "b2 -0.2567606429847501\n",
      "c2 1108.2626119724764\n",
      "\n"
     ]
    },
    {
     "name": "stderr",
     "output_type": "stream",
     "text": [
      "\r",
      "t:  62%|██████▏   | 156/250 [03:56<02:31,  1.61s/it, now=None]"
     ]
    },
    {
     "name": "stdout",
     "output_type": "stream",
     "text": [
      "left_curverad 4261.386764962901\n",
      "left_curverad 3711.0107028501607\n",
      "a2 0.0001357078247322775\n",
      "b2 -0.26451501274276834\n",
      "c2 1107.3913652597262\n",
      "\n"
     ]
    },
    {
     "name": "stderr",
     "output_type": "stream",
     "text": [
      "\r",
      "t:  63%|██████▎   | 157/250 [03:57<02:17,  1.48s/it, now=None]"
     ]
    },
    {
     "name": "stdout",
     "output_type": "stream",
     "text": [
      "left_curverad 5094.098026879862\n",
      "left_curverad 4996.555091313489\n",
      "a2 0.00010131354489294574\n",
      "b2 -0.2366532553408182\n",
      "c2 1100.7446082487363\n",
      "\n"
     ]
    },
    {
     "name": "stderr",
     "output_type": "stream",
     "text": [
      "\r",
      "t:  63%|██████▎   | 158/250 [03:58<02:02,  1.33s/it, now=None]"
     ]
    },
    {
     "name": "stdout",
     "output_type": "stream",
     "text": [
      "left_curverad 6822.7824038102735\n",
      "left_curverad 6222.006816833342\n",
      "a2 8.177433789298701e-05\n",
      "b2 -0.2257572442778299\n",
      "c2 1097.268122417601\n",
      "\n"
     ]
    },
    {
     "name": "stderr",
     "output_type": "stream",
     "text": [
      "\r",
      "t:  64%|██████▎   | 159/250 [03:59<01:50,  1.21s/it, now=None]"
     ]
    },
    {
     "name": "stdout",
     "output_type": "stream",
     "text": [
      "left_curverad 6734.612080107919\n",
      "left_curverad 6500.645176689406\n",
      "a2 7.84518094000318e-05\n",
      "b2 -0.22802029276626154\n",
      "c2 1098.6814870993894\n",
      "\n",
      "left_curverad 5917.745599652235\n",
      "left_curverad 6419.54277686934\n",
      "a2 7.938423553023751e-05\n",
      "b2 -0.22717351835249908\n",
      "c2 1094.7882618059634\n",
      "\n"
     ]
    },
    {
     "name": "stderr",
     "output_type": "stream",
     "text": [
      "t:  64%|██████▍   | 161/250 [04:03<02:23,  1.61s/it, now=None]"
     ]
    },
    {
     "name": "stdout",
     "output_type": "stream",
     "text": [
      "left_curverad 4383.874080971271\n",
      "left_curverad 5852.538128864159\n",
      "a2 8.693298359377212e-05\n",
      "b2 -0.2330411789572988\n",
      "c2 1092.9357017450948\n",
      "\n"
     ]
    },
    {
     "name": "stderr",
     "output_type": "stream",
     "text": [
      "\r",
      "t:  65%|██████▍   | 162/250 [04:04<02:04,  1.41s/it, now=None]"
     ]
    },
    {
     "name": "stdout",
     "output_type": "stream",
     "text": [
      "left_curverad 5258.54996528304\n",
      "left_curverad 5237.63548924161\n",
      "a2 9.692146488766404e-05\n",
      "b2 -0.24016977350147903\n",
      "c2 1093.6275945687796\n",
      "\n"
     ]
    },
    {
     "name": "stderr",
     "output_type": "stream",
     "text": [
      "\r",
      "t:  65%|██████▌   | 163/250 [04:05<01:53,  1.30s/it, now=None]"
     ]
    },
    {
     "name": "stdout",
     "output_type": "stream",
     "text": [
      "left_curverad 5575.672910794669\n",
      "left_curverad 4744.13798888927\n",
      "a2 0.00010692181387187693\n",
      "b2 -0.25196708648400745\n",
      "c2 1094.9719854874588\n",
      "\n"
     ]
    },
    {
     "name": "stderr",
     "output_type": "stream",
     "text": [
      "\r",
      "t:  66%|██████▌   | 164/250 [04:08<02:46,  1.93s/it, now=None]"
     ]
    },
    {
     "name": "stdout",
     "output_type": "stream",
     "text": [
      "left_curverad 5448.0018396750365\n",
      "left_curverad 4195.715458576605\n",
      "a2 0.00012081652050411923\n",
      "b2 -0.26962239504169583\n",
      "c2 1098.8056006760808\n",
      "\n"
     ]
    },
    {
     "name": "stderr",
     "output_type": "stream",
     "text": [
      "\r",
      "t:  66%|██████▌   | 165/250 [04:09<02:15,  1.59s/it, now=None]"
     ]
    },
    {
     "name": "stdout",
     "output_type": "stream",
     "text": [
      "left_curverad 4742.971706372949\n",
      "left_curverad 2927.662029711901\n",
      "a2 0.00017146111244348627\n",
      "b2 -0.2979275242463824\n",
      "c2 1098.857240086913\n",
      "\n"
     ]
    },
    {
     "name": "stderr",
     "output_type": "stream",
     "text": [
      "\r",
      "t:  66%|██████▋   | 166/250 [04:10<01:54,  1.36s/it, now=None]"
     ]
    },
    {
     "name": "stdout",
     "output_type": "stream",
     "text": [
      "left_curverad 4608.766002591586\n",
      "left_curverad 2606.591015981785\n",
      "a2 0.00019231791684605208\n",
      "b2 -0.318083821792967\n",
      "c2 1102.183340056764\n",
      "\n"
     ]
    },
    {
     "name": "stderr",
     "output_type": "stream",
     "text": [
      "\r",
      "t:  67%|██████▋   | 167/250 [04:11<01:41,  1.23s/it, now=None]"
     ]
    },
    {
     "name": "stdout",
     "output_type": "stream",
     "text": [
      "left_curverad 4891.306943181844\n",
      "left_curverad 2777.711295637768\n",
      "a2 0.00018095430426310645\n",
      "b2 -0.31950252772480403\n",
      "c2 1107.7327756400293\n",
      "\n"
     ]
    },
    {
     "name": "stderr",
     "output_type": "stream",
     "text": [
      "\r",
      "t:  67%|██████▋   | 168/250 [04:14<02:24,  1.76s/it, now=None]"
     ]
    },
    {
     "name": "stdout",
     "output_type": "stream",
     "text": [
      "left_curverad 4610.596340337522\n",
      "left_curverad 2893.4723784310627\n",
      "a2 0.00017418356635297272\n",
      "b2 -0.3234146268387846\n",
      "c2 1112.3674804945053\n",
      "\n"
     ]
    },
    {
     "name": "stderr",
     "output_type": "stream",
     "text": [
      "\r",
      "t:  68%|██████▊   | 169/250 [04:14<02:00,  1.49s/it, now=None]"
     ]
    },
    {
     "name": "stdout",
     "output_type": "stream",
     "text": [
      "left_curverad 3777.5234980994082\n",
      "left_curverad 2696.2945361040015\n",
      "a2 0.0001867138050580726\n",
      "b2 -0.33613556677585466\n",
      "c2 1115.1380737778911\n",
      "\n"
     ]
    },
    {
     "name": "stderr",
     "output_type": "stream",
     "text": [
      "\r",
      "t:  68%|██████▊   | 170/250 [04:15<01:42,  1.29s/it, now=None]"
     ]
    },
    {
     "name": "stdout",
     "output_type": "stream",
     "text": [
      "left_curverad 3434.929646110357\n",
      "left_curverad 2579.9571693213948\n",
      "a2 0.00019508495954848577\n",
      "b2 -0.3469369591944221\n",
      "c2 1119.17835974942\n",
      "\n"
     ]
    },
    {
     "name": "stderr",
     "output_type": "stream",
     "text": [
      "\r",
      "t:  68%|██████▊   | 171/250 [04:16<01:30,  1.15s/it, now=None]"
     ]
    },
    {
     "name": "stdout",
     "output_type": "stream",
     "text": [
      "left_curverad 3514.24902920951\n",
      "left_curverad 2667.000690808173\n",
      "a2 0.0001891843478828318\n",
      "b2 -0.34991791677864803\n",
      "c2 1124.0411171085468\n",
      "\n"
     ]
    },
    {
     "name": "stderr",
     "output_type": "stream",
     "text": [
      "\r",
      "t:  69%|██████▉   | 172/250 [04:20<02:30,  1.92s/it, now=None]"
     ]
    },
    {
     "name": "stdout",
     "output_type": "stream",
     "text": [
      "left_curverad 3305.221201237362\n",
      "left_curverad 2926.46471404456\n",
      "a2 0.0001731274900021777\n",
      "b2 -0.3430270182881347\n",
      "c2 1125.2681934751743\n",
      "\n"
     ]
    },
    {
     "name": "stderr",
     "output_type": "stream",
     "text": [
      "\r",
      "t:  69%|██████▉   | 173/250 [04:21<02:10,  1.69s/it, now=None]"
     ]
    },
    {
     "name": "stdout",
     "output_type": "stream",
     "text": [
      "left_curverad 3142.065724057478\n",
      "left_curverad 3051.7813264502843\n",
      "a2 0.00016633311720293443\n",
      "b2 -0.3398058735982854\n",
      "c2 1124.3554862364601\n",
      "\n"
     ]
    },
    {
     "name": "stderr",
     "output_type": "stream",
     "text": [
      "\r",
      "t:  70%|██████▉   | 174/250 [04:22<01:50,  1.46s/it, now=None]"
     ]
    },
    {
     "name": "stdout",
     "output_type": "stream",
     "text": [
      "left_curverad 3003.9674280752365\n",
      "left_curverad 3121.4338591338687\n",
      "a2 0.00016288461061834587\n",
      "b2 -0.34012113891935203\n",
      "c2 1126.4012056449085\n",
      "\n"
     ]
    },
    {
     "name": "stderr",
     "output_type": "stream",
     "text": [
      "\r",
      "t:  70%|███████   | 175/250 [04:26<02:49,  2.26s/it, now=None]"
     ]
    },
    {
     "name": "stdout",
     "output_type": "stream",
     "text": [
      "left_curverad 2966.322562895535\n",
      "left_curverad 3290.4646134980694\n",
      "a2 0.00015442409300080794\n",
      "b2 -0.3260179578046551\n",
      "c2 1127.9944793147492\n",
      "\n"
     ]
    },
    {
     "name": "stderr",
     "output_type": "stream",
     "text": [
      "\r",
      "t:  70%|███████   | 176/250 [04:27<02:23,  1.94s/it, now=None]"
     ]
    },
    {
     "name": "stdout",
     "output_type": "stream",
     "text": [
      "left_curverad 2945.714445022294\n",
      "left_curverad 3663.508808339584\n",
      "a2 0.00014010650999570442\n",
      "b2 -0.33425527986452275\n",
      "c2 1134.0788767914614\n",
      "\n"
     ]
    },
    {
     "name": "stderr",
     "output_type": "stream",
     "text": [
      "\r",
      "t:  71%|███████   | 177/250 [04:28<01:58,  1.63s/it, now=None]"
     ]
    },
    {
     "name": "stdout",
     "output_type": "stream",
     "text": [
      "left_curverad 3051.7327481803377\n",
      "left_curverad 3722.307710916081\n",
      "a2 0.00013766278608265078\n",
      "b2 -0.32639773288754287\n",
      "c2 1132.927299949309\n",
      "\n"
     ]
    },
    {
     "name": "stderr",
     "output_type": "stream",
     "text": [
      "\r",
      "t:  71%|███████   | 178/250 [04:32<02:40,  2.22s/it, now=None]"
     ]
    },
    {
     "name": "stdout",
     "output_type": "stream",
     "text": [
      "left_curverad 3224.9224027050764\n",
      "left_curverad 3877.797820984661\n",
      "a2 0.0001324256122521207\n",
      "b2 -0.3243909288021468\n",
      "c2 1131.6713191820304\n",
      "\n"
     ]
    },
    {
     "name": "stderr",
     "output_type": "stream",
     "text": [
      "\r",
      "t:  72%|███████▏  | 179/250 [04:33<02:10,  1.84s/it, now=None]"
     ]
    },
    {
     "name": "stdout",
     "output_type": "stream",
     "text": [
      "left_curverad 3283.1594551692056\n",
      "left_curverad 4001.104782018124\n",
      "a2 0.00012855762598773602\n",
      "b2 -0.322969888578332\n",
      "c2 1132.2490098030726\n",
      "\n"
     ]
    },
    {
     "name": "stderr",
     "output_type": "stream",
     "text": [
      "\r",
      "t:  72%|███████▏  | 180/250 [04:34<01:52,  1.61s/it, now=None]"
     ]
    },
    {
     "name": "stdout",
     "output_type": "stream",
     "text": [
      "left_curverad 3362.4047943223877\n",
      "left_curverad 3513.9032122977324\n",
      "a2 0.00014514407233310323\n",
      "b2 -0.32412390722738355\n",
      "c2 1131.1915402420966\n",
      "\n"
     ]
    },
    {
     "name": "stderr",
     "output_type": "stream",
     "text": [
      "\r",
      "t:  72%|███████▏  | 181/250 [04:37<02:25,  2.10s/it, now=None]"
     ]
    },
    {
     "name": "stdout",
     "output_type": "stream",
     "text": [
      "left_curverad 3833.2065399852227\n",
      "left_curverad 3583.9938517419373\n",
      "a2 0.0001428227057307589\n",
      "b2 -0.3309666190648838\n",
      "c2 1133.6578906900152\n",
      "\n"
     ]
    },
    {
     "name": "stderr",
     "output_type": "stream",
     "text": [
      "\r",
      "t:  73%|███████▎  | 182/250 [04:38<02:05,  1.85s/it, now=None]"
     ]
    },
    {
     "name": "stdout",
     "output_type": "stream",
     "text": [
      "left_curverad 4289.992512389215\n",
      "left_curverad 3840.5628319417956\n",
      "a2 0.00013380366400815284\n",
      "b2 -0.3281443503271011\n",
      "c2 1132.4926890127954\n",
      "\n"
     ]
    },
    {
     "name": "stderr",
     "output_type": "stream",
     "text": [
      "\r",
      "t:  73%|███████▎  | 183/250 [04:39<01:47,  1.61s/it, now=None]"
     ]
    },
    {
     "name": "stdout",
     "output_type": "stream",
     "text": [
      "left_curverad 4548.390378422995\n",
      "left_curverad 4011.91581352678\n",
      "a2 0.00012792648257209355\n",
      "b2 -0.3164855491136617\n",
      "c2 1127.972189414961\n",
      "\n"
     ]
    },
    {
     "name": "stderr",
     "output_type": "stream",
     "text": [
      "\r",
      "t:  74%|███████▎  | 184/250 [04:40<01:35,  1.45s/it, now=None]"
     ]
    },
    {
     "name": "stdout",
     "output_type": "stream",
     "text": [
      "left_curverad 4918.113040048941\n",
      "left_curverad 4509.444609894274\n",
      "a2 0.00011439933383645255\n",
      "b2 -0.30962500973829166\n",
      "c2 1126.4787999362989\n",
      "\n"
     ]
    },
    {
     "name": "stderr",
     "output_type": "stream",
     "text": [
      "\r",
      "t:  74%|███████▍  | 185/250 [04:42<01:28,  1.36s/it, now=None]"
     ]
    },
    {
     "name": "stdout",
     "output_type": "stream",
     "text": [
      "left_curverad 5119.18986296614\n",
      "left_curverad 4889.597941177676\n",
      "a2 0.00010587706313399645\n",
      "b2 -0.30541123246382984\n",
      "c2 1125.8500126536894\n",
      "\n"
     ]
    },
    {
     "name": "stderr",
     "output_type": "stream",
     "text": [
      "\r",
      "t:  74%|███████▍  | 186/250 [04:45<02:08,  2.00s/it, now=None]"
     ]
    },
    {
     "name": "stdout",
     "output_type": "stream",
     "text": [
      "left_curverad 5020.329858659211\n",
      "left_curverad 4693.457064467685\n",
      "a2 0.0001099361352122853\n",
      "b2 -0.3036747542980238\n",
      "c2 1121.8575095231174\n",
      "\n"
     ]
    },
    {
     "name": "stderr",
     "output_type": "stream",
     "text": [
      "\r",
      "t:  75%|███████▍  | 187/250 [04:46<01:46,  1.69s/it, now=None]"
     ]
    },
    {
     "name": "stdout",
     "output_type": "stream",
     "text": [
      "left_curverad 4906.950896097176\n",
      "left_curverad 4514.422342772208\n",
      "a2 0.00011425432132378755\n",
      "b2 -0.30902861386401337\n",
      "c2 1120.07492804389\n",
      "\n"
     ]
    },
    {
     "name": "stderr",
     "output_type": "stream",
     "text": [
      "\r",
      "t:  75%|███████▌  | 188/250 [04:47<01:37,  1.58s/it, now=None]"
     ]
    },
    {
     "name": "stdout",
     "output_type": "stream",
     "text": [
      "left_curverad 4719.986576903446\n",
      "left_curverad 4200.259124479401\n",
      "a2 0.00012233180431308257\n",
      "b2 -0.3113744948500171\n",
      "c2 1118.5046973139836\n",
      "\n"
     ]
    },
    {
     "name": "stderr",
     "output_type": "stream",
     "text": [
      "\r",
      "t:  76%|███████▌  | 189/250 [04:48<01:24,  1.39s/it, now=None]"
     ]
    },
    {
     "name": "stdout",
     "output_type": "stream",
     "text": [
      "left_curverad 4671.227366105219\n",
      "left_curverad 4133.515427755065\n",
      "a2 0.00012411623656561417\n",
      "b2 -0.3100358596639472\n",
      "c2 1121.8962232185147\n",
      "\n"
     ]
    },
    {
     "name": "stderr",
     "output_type": "stream",
     "text": [
      "\r",
      "t:  76%|███████▌  | 190/250 [04:52<01:59,  2.00s/it, now=None]"
     ]
    },
    {
     "name": "stdout",
     "output_type": "stream",
     "text": [
      "left_curverad 4664.841031219476\n",
      "left_curverad 4198.9217485776535\n",
      "a2 0.00012237186579095447\n",
      "b2 -0.311454590759577\n",
      "c2 1124.983057985327\n",
      "\n"
     ]
    },
    {
     "name": "stderr",
     "output_type": "stream",
     "text": [
      "\r",
      "t:  76%|███████▋  | 191/250 [04:53<01:41,  1.72s/it, now=None]"
     ]
    },
    {
     "name": "stdout",
     "output_type": "stream",
     "text": [
      "left_curverad 4654.4958315230215\n",
      "left_curverad 4235.964402299666\n",
      "a2 0.00012146129734747221\n",
      "b2 -0.3134008252929136\n",
      "c2 1127.6113796798466\n",
      "\n"
     ]
    },
    {
     "name": "stderr",
     "output_type": "stream",
     "text": [
      "\r",
      "t:  77%|███████▋  | 192/250 [04:54<01:28,  1.52s/it, now=None]"
     ]
    },
    {
     "name": "stdout",
     "output_type": "stream",
     "text": [
      "left_curverad 4633.138646128222\n",
      "left_curverad 4066.286484341263\n",
      "a2 0.0001264184086298739\n",
      "b2 -0.3183592740327547\n",
      "c2 1131.660326258684\n",
      "\n"
     ]
    },
    {
     "name": "stderr",
     "output_type": "stream",
     "text": [
      "\r",
      "t:  77%|███████▋  | 193/250 [04:55<01:22,  1.44s/it, now=None]"
     ]
    },
    {
     "name": "stdout",
     "output_type": "stream",
     "text": [
      "left_curverad 4643.665574534404\n",
      "left_curverad 3904.7038763379337\n",
      "a2 0.00013151419582324038\n",
      "b2 -0.3231012218438043\n",
      "c2 1135.7276471088473\n",
      "\n"
     ]
    },
    {
     "name": "stderr",
     "output_type": "stream",
     "text": [
      "\r",
      "t:  78%|███████▊  | 194/250 [04:59<02:03,  2.20s/it, now=None]"
     ]
    },
    {
     "name": "stdout",
     "output_type": "stream",
     "text": [
      "left_curverad 4728.709978063756\n",
      "left_curverad 4015.664519939652\n",
      "a2 0.000128089484628546\n",
      "b2 -0.3222578031354264\n",
      "c2 1138.3462971028728\n",
      "\n"
     ]
    },
    {
     "name": "stderr",
     "output_type": "stream",
     "text": [
      "\r",
      "t:  78%|███████▊  | 195/250 [05:00<01:41,  1.84s/it, now=None]"
     ]
    },
    {
     "name": "stdout",
     "output_type": "stream",
     "text": [
      "left_curverad 4831.378496592521\n",
      "left_curverad 4120.554341828253\n",
      "a2 0.00012500274723502088\n",
      "b2 -0.32120266088438487\n",
      "c2 1140.4358689481996\n",
      "\n"
     ]
    },
    {
     "name": "stderr",
     "output_type": "stream",
     "text": [
      "\r",
      "t:  78%|███████▊  | 196/250 [05:01<01:28,  1.63s/it, now=None]"
     ]
    },
    {
     "name": "stdout",
     "output_type": "stream",
     "text": [
      "left_curverad 4838.217824874367\n",
      "left_curverad 3932.188755720684\n",
      "a2 0.00013076613035934326\n",
      "b2 -0.3253042446359437\n",
      "c2 1142.3461502515306\n",
      "\n",
      "left_curverad 4916.729032268662\n",
      "left_curverad 3818.9639793040556\n",
      "a2 0.00013455122475637977\n",
      "b2 -0.3290484139365675\n",
      "c2 1144.8624003166512\n",
      "\n"
     ]
    },
    {
     "name": "stderr",
     "output_type": "stream",
     "text": [
      "t:  79%|███████▉  | 198/250 [05:06<01:38,  1.89s/it, now=None]"
     ]
    },
    {
     "name": "stdout",
     "output_type": "stream",
     "text": [
      "left_curverad 4998.001411775282\n",
      "left_curverad 3659.1478517953597\n",
      "a2 0.00014035604978681533\n",
      "b2 -0.33610915055450435\n",
      "c2 1149.3037726694101\n",
      "\n"
     ]
    },
    {
     "name": "stderr",
     "output_type": "stream",
     "text": [
      "\r",
      "t:  80%|███████▉  | 199/250 [05:07<01:19,  1.56s/it, now=None]"
     ]
    },
    {
     "name": "stdout",
     "output_type": "stream",
     "text": [
      "left_curverad 5596.6796115938805\n",
      "left_curverad 4630.648896657652\n",
      "a2 0.00011215349895734844\n",
      "b2 -0.321363583688494\n",
      "c2 1151.5555247714337\n",
      "\n"
     ]
    },
    {
     "name": "stderr",
     "output_type": "stream",
     "text": [
      "\r",
      "t:  80%|████████  | 200/250 [05:08<01:07,  1.35s/it, now=None]"
     ]
    },
    {
     "name": "stdout",
     "output_type": "stream",
     "text": [
      "left_curverad 6191.714300216978\n",
      "left_curverad 5161.4069289717145\n",
      "a2 0.00010088396946112739\n",
      "b2 -0.31065259658810945\n",
      "c2 1150.364281338124\n",
      "\n"
     ]
    },
    {
     "name": "stderr",
     "output_type": "stream",
     "text": [
      "\r",
      "t:  80%|████████  | 201/250 [05:12<01:43,  2.11s/it, now=None]"
     ]
    },
    {
     "name": "stdout",
     "output_type": "stream",
     "text": [
      "left_curverad 6344.250305824085\n",
      "left_curverad 5242.64699448366\n",
      "a2 9.930125564609632e-05\n",
      "b2 -0.3079718246123365\n",
      "c2 1149.7371275442238\n",
      "\n"
     ]
    },
    {
     "name": "stderr",
     "output_type": "stream",
     "text": [
      "\r",
      "t:  81%|████████  | 202/250 [05:12<01:23,  1.75s/it, now=None]"
     ]
    },
    {
     "name": "stdout",
     "output_type": "stream",
     "text": [
      "left_curverad 6241.93323948582\n",
      "left_curverad 5164.932782786986\n",
      "a2 0.00010053202028116349\n",
      "b2 -0.30423046507854107\n",
      "c2 1150.0272167106193\n",
      "\n"
     ]
    },
    {
     "name": "stderr",
     "output_type": "stream",
     "text": [
      "\r",
      "t:  81%|████████  | 203/250 [05:13<01:10,  1.49s/it, now=None]"
     ]
    },
    {
     "name": "stdout",
     "output_type": "stream",
     "text": [
      "left_curverad 6073.3714558691\n",
      "left_curverad 4952.189097782101\n",
      "a2 0.00010457274613929026\n",
      "b2 -0.30425562184314137\n",
      "c2 1150.472839948038\n",
      "\n"
     ]
    },
    {
     "name": "stderr",
     "output_type": "stream",
     "text": [
      "\r",
      "t:  82%|████████▏ | 204/250 [05:14<01:00,  1.32s/it, now=None]"
     ]
    },
    {
     "name": "stdout",
     "output_type": "stream",
     "text": [
      "left_curverad 6090.276078193802\n",
      "left_curverad 5387.587028495645\n",
      "a2 9.667266847342924e-05\n",
      "b2 -0.30510911407914176\n",
      "c2 1152.2357988164695\n",
      "\n"
     ]
    },
    {
     "name": "stderr",
     "output_type": "stream",
     "text": [
      "\r",
      "t:  82%|████████▏ | 205/250 [05:17<01:23,  1.86s/it, now=None]"
     ]
    },
    {
     "name": "stdout",
     "output_type": "stream",
     "text": [
      "left_curverad 6022.732081865775\n",
      "left_curverad 5269.332177262073\n",
      "a2 9.873558468420457e-05\n",
      "b2 -0.3058355219205768\n",
      "c2 1152.8901407617911\n",
      "\n"
     ]
    },
    {
     "name": "stderr",
     "output_type": "stream",
     "text": [
      "\r",
      "t:  82%|████████▏ | 206/250 [05:18<01:08,  1.57s/it, now=None]"
     ]
    },
    {
     "name": "stdout",
     "output_type": "stream",
     "text": [
      "left_curverad 6115.165846515412\n",
      "left_curverad 5868.749096677127\n",
      "a2 8.907652643478437e-05\n",
      "b2 -0.3016754550168345\n",
      "c2 1155.1288986276973\n",
      "\n"
     ]
    },
    {
     "name": "stderr",
     "output_type": "stream",
     "text": [
      "\r",
      "t:  83%|████████▎ | 207/250 [05:19<00:58,  1.36s/it, now=None]"
     ]
    },
    {
     "name": "stdout",
     "output_type": "stream",
     "text": [
      "left_curverad 5890.2376394518615\n",
      "left_curverad 5642.033463865361\n",
      "a2 9.231657197965723e-05\n",
      "b2 -0.29892728094618876\n",
      "c2 1155.410004961171\n",
      "\n"
     ]
    },
    {
     "name": "stderr",
     "output_type": "stream",
     "text": [
      "\r",
      "t:  83%|████████▎ | 208/250 [05:20<00:50,  1.21s/it, now=None]"
     ]
    },
    {
     "name": "stdout",
     "output_type": "stream",
     "text": [
      "left_curverad 5870.5883666743775\n",
      "left_curverad 5493.648234644222\n",
      "a2 9.487966826320707e-05\n",
      "b2 -0.30411910376818374\n",
      "c2 1158.9638199087972\n",
      "\n"
     ]
    },
    {
     "name": "stderr",
     "output_type": "stream",
     "text": [
      "\r",
      "t:  84%|████████▎ | 209/250 [05:23<01:16,  1.87s/it, now=None]"
     ]
    },
    {
     "name": "stdout",
     "output_type": "stream",
     "text": [
      "left_curverad 5792.212905071105\n",
      "left_curverad 5146.321588943922\n",
      "a2 0.0001010915902137872\n",
      "b2 -0.309140081111972\n",
      "c2 1161.1354913296157\n",
      "\n"
     ]
    },
    {
     "name": "stderr",
     "output_type": "stream",
     "text": [
      "\r",
      "t:  84%|████████▍ | 210/250 [05:24<01:02,  1.55s/it, now=None]"
     ]
    },
    {
     "name": "stdout",
     "output_type": "stream",
     "text": [
      "left_curverad 5423.468787865169\n",
      "left_curverad 4722.432797009934\n",
      "a2 0.00010982151888640437\n",
      "b2 -0.3150262371884388\n",
      "c2 1163.3068696903347\n",
      "\n"
     ]
    },
    {
     "name": "stderr",
     "output_type": "stream",
     "text": [
      "\r",
      "t:  84%|████████▍ | 211/250 [05:25<00:51,  1.32s/it, now=None]"
     ]
    },
    {
     "name": "stdout",
     "output_type": "stream",
     "text": [
      "left_curverad 5717.338619500582\n",
      "left_curverad 5760.890445144334\n",
      "a2 9.077210967543645e-05\n",
      "b2 -0.3047195554481618\n",
      "c2 1164.7700007670537\n",
      "\n"
     ]
    },
    {
     "name": "stderr",
     "output_type": "stream",
     "text": [
      "\r",
      "t:  85%|████████▍ | 212/250 [05:29<01:15,  1.98s/it, now=None]"
     ]
    },
    {
     "name": "stdout",
     "output_type": "stream",
     "text": [
      "left_curverad 5700.898817521878\n",
      "left_curverad 5665.399363613548\n",
      "a2 9.19346102313466e-05\n",
      "b2 -0.2983506865636626\n",
      "c2 1163.0248986211602\n",
      "\n"
     ]
    },
    {
     "name": "stderr",
     "output_type": "stream",
     "text": [
      "\r",
      "t:  85%|████████▌ | 213/250 [05:30<01:07,  1.82s/it, now=None]"
     ]
    },
    {
     "name": "stdout",
     "output_type": "stream",
     "text": [
      "left_curverad 5561.0563876562\n",
      "left_curverad 5430.395013215692\n",
      "a2 9.586206429909225e-05\n",
      "b2 -0.3028965829003185\n",
      "c2 1165.5388976549175\n",
      "\n"
     ]
    },
    {
     "name": "stderr",
     "output_type": "stream",
     "text": [
      "\r",
      "t:  86%|████████▌ | 214/250 [05:31<00:56,  1.57s/it, now=None]"
     ]
    },
    {
     "name": "stdout",
     "output_type": "stream",
     "text": [
      "left_curverad 5388.823146301793\n",
      "left_curverad 5169.477990389787\n",
      "a2 0.00010066780164344006\n",
      "b2 -0.3091327307834083\n",
      "c2 1167.0127075591993\n",
      "\n"
     ]
    },
    {
     "name": "stderr",
     "output_type": "stream",
     "text": [
      "\r",
      "t:  86%|████████▌ | 215/250 [05:35<01:16,  2.18s/it, now=None]"
     ]
    },
    {
     "name": "stdout",
     "output_type": "stream",
     "text": [
      "left_curverad 5342.406464741966\n",
      "left_curverad 4716.673935989477\n",
      "a2 0.00010985013586460285\n",
      "b2 -0.31296758563870664\n",
      "c2 1166.6060303471934\n",
      "\n"
     ]
    },
    {
     "name": "stderr",
     "output_type": "stream",
     "text": [
      "\r",
      "t:  86%|████████▋ | 216/250 [05:35<01:00,  1.78s/it, now=None]"
     ]
    },
    {
     "name": "stdout",
     "output_type": "stream",
     "text": [
      "left_curverad 5257.997840557839\n",
      "left_curverad 4636.99212375713\n",
      "a2 0.0001115806450508367\n",
      "b2 -0.31232659214580444\n",
      "c2 1165.341346123989\n",
      "\n"
     ]
    },
    {
     "name": "stderr",
     "output_type": "stream",
     "text": [
      "\r",
      "t:  87%|████████▋ | 217/250 [05:36<00:49,  1.50s/it, now=None]"
     ]
    },
    {
     "name": "stdout",
     "output_type": "stream",
     "text": [
      "left_curverad 5208.30950182336\n",
      "left_curverad 4560.303445774114\n",
      "a2 0.00011336598001099602\n",
      "b2 -0.31308048385640586\n",
      "c2 1165.1297752899732\n",
      "\n"
     ]
    },
    {
     "name": "stderr",
     "output_type": "stream",
     "text": [
      "\r",
      "t:  87%|████████▋ | 218/250 [05:37<00:41,  1.30s/it, now=None]"
     ]
    },
    {
     "name": "stdout",
     "output_type": "stream",
     "text": [
      "left_curverad 4945.465555760336\n",
      "left_curverad 4481.9850388343375\n",
      "a2 0.00011526154704947491\n",
      "b2 -0.3141150143762433\n",
      "c2 1165.747871054965\n",
      "\n"
     ]
    },
    {
     "name": "stderr",
     "output_type": "stream",
     "text": [
      "\r",
      "t:  88%|████████▊ | 219/250 [05:41<01:00,  1.97s/it, now=None]"
     ]
    },
    {
     "name": "stdout",
     "output_type": "stream",
     "text": [
      "left_curverad 4829.206867664375\n",
      "left_curverad 4382.759641652467\n",
      "a2 0.00011776933765325098\n",
      "b2 -0.3157259607846499\n",
      "c2 1166.356088929053\n",
      "\n"
     ]
    },
    {
     "name": "stderr",
     "output_type": "stream",
     "text": [
      "\r",
      "t:  88%|████████▊ | 220/250 [05:41<00:48,  1.63s/it, now=None]"
     ]
    },
    {
     "name": "stdout",
     "output_type": "stream",
     "text": [
      "left_curverad 4769.407556764454\n",
      "left_curverad 4188.005399272916\n",
      "a2 0.00012302520296106128\n",
      "b2 -0.3190553459465767\n",
      "c2 1167.2381317526597\n",
      "\n"
     ]
    },
    {
     "name": "stderr",
     "output_type": "stream",
     "text": [
      "\r",
      "t:  88%|████████▊ | 221/250 [05:42<00:40,  1.39s/it, now=None]"
     ]
    },
    {
     "name": "stdout",
     "output_type": "stream",
     "text": [
      "left_curverad 4747.065454606549\n",
      "left_curverad 4028.304205476836\n",
      "a2 0.0001276729709124368\n",
      "b2 -0.3213771491048336\n",
      "c2 1167.2323742677534\n",
      "\n"
     ]
    },
    {
     "name": "stderr",
     "output_type": "stream",
     "text": [
      "\r",
      "t:  89%|████████▉ | 222/250 [05:43<00:34,  1.22s/it, now=None]"
     ]
    },
    {
     "name": "stdout",
     "output_type": "stream",
     "text": [
      "left_curverad 5064.375582044274\n",
      "left_curverad 4827.996863436342\n",
      "a2 0.00010693980894376924\n",
      "b2 -0.30082911611322405\n",
      "c2 1162.4415144741827\n",
      "\n"
     ]
    },
    {
     "name": "stderr",
     "output_type": "stream",
     "text": [
      "\r",
      "t:  89%|████████▉ | 223/250 [05:47<00:52,  1.93s/it, now=None]"
     ]
    },
    {
     "name": "stdout",
     "output_type": "stream",
     "text": [
      "left_curverad 5121.137662536315\n",
      "left_curverad 4710.854756783452\n",
      "a2 0.00010951526510249898\n",
      "b2 -0.3027518871859891\n",
      "c2 1161.122038636892\n",
      "\n"
     ]
    },
    {
     "name": "stderr",
     "output_type": "stream",
     "text": [
      "\r",
      "t:  90%|████████▉ | 224/250 [05:48<00:43,  1.68s/it, now=None]"
     ]
    },
    {
     "name": "stdout",
     "output_type": "stream",
     "text": [
      "left_curverad 5146.855470642266\n",
      "left_curverad 4819.708825232605\n",
      "a2 0.00010706465166951902\n",
      "b2 -0.2997263223106976\n",
      "c2 1161.667055720439\n",
      "\n"
     ]
    },
    {
     "name": "stderr",
     "output_type": "stream",
     "text": [
      "\r",
      "t:  90%|█████████ | 225/250 [05:49<00:38,  1.53s/it, now=None]"
     ]
    },
    {
     "name": "stdout",
     "output_type": "stream",
     "text": [
      "left_curverad 5423.1272532568\n",
      "left_curverad 5001.061490544928\n",
      "a2 0.00010330761851498954\n",
      "b2 -0.29713500431787576\n",
      "c2 1160.8593374754407\n",
      "\n",
      "left_curverad 5787.9881400406875\n",
      "left_curverad 5090.972114087229\n",
      "a2 0.00010148542892830896\n",
      "b2 -0.2945667736684221\n",
      "c2 1159.929445793687\n",
      "\n"
     ]
    },
    {
     "name": "stderr",
     "output_type": "stream",
     "text": [
      "t:  91%|█████████ | 227/250 [05:53<00:39,  1.70s/it, now=None]"
     ]
    },
    {
     "name": "stdout",
     "output_type": "stream",
     "text": [
      "left_curverad 6437.233109376778\n",
      "left_curverad 5329.8099920819095\n",
      "a2 9.70095552834923e-05\n",
      "b2 -0.2898199305013166\n",
      "c2 1159.108406187333\n",
      "\n"
     ]
    },
    {
     "name": "stderr",
     "output_type": "stream",
     "text": [
      "\r",
      "t:  91%|█████████ | 228/250 [05:54<00:33,  1.51s/it, now=None]"
     ]
    },
    {
     "name": "stdout",
     "output_type": "stream",
     "text": [
      "left_curverad 6881.681066121714\n",
      "left_curverad 5336.984075052439\n",
      "a2 9.684008638535811e-05\n",
      "b2 -0.28865896260420704\n",
      "c2 1158.8971389452345\n",
      "\n"
     ]
    },
    {
     "name": "stderr",
     "output_type": "stream",
     "text": [
      "\r",
      "t:  92%|█████████▏| 229/250 [05:55<00:29,  1.39s/it, now=None]"
     ]
    },
    {
     "name": "stdout",
     "output_type": "stream",
     "text": [
      "left_curverad 7100.801267774545\n",
      "left_curverad 5145.754735138641\n",
      "a2 0.000100428016539264\n",
      "b2 -0.2935708034610874\n",
      "c2 1162.9373598102954\n",
      "\n"
     ]
    },
    {
     "name": "stderr",
     "output_type": "stream",
     "text": [
      "\r",
      "t:  92%|█████████▏| 230/250 [05:59<00:39,  1.96s/it, now=None]"
     ]
    },
    {
     "name": "stdout",
     "output_type": "stream",
     "text": [
      "left_curverad 8037.22432060293\n",
      "left_curverad 6153.13211565024\n",
      "a2 8.451979405534967e-05\n",
      "b2 -0.28455129538652885\n",
      "c2 1164.3405399424007\n",
      "\n"
     ]
    },
    {
     "name": "stderr",
     "output_type": "stream",
     "text": [
      "\r",
      "t:  92%|█████████▏| 231/250 [05:59<00:30,  1.63s/it, now=None]"
     ]
    },
    {
     "name": "stdout",
     "output_type": "stream",
     "text": [
      "left_curverad 8791.386646928977\n",
      "left_curverad 6673.093433463047\n",
      "a2 7.799774113377073e-05\n",
      "b2 -0.27687791299570996\n",
      "c2 1163.5102961260186\n",
      "\n"
     ]
    },
    {
     "name": "stderr",
     "output_type": "stream",
     "text": [
      "\r",
      "t:  93%|█████████▎| 232/250 [06:00<00:25,  1.40s/it, now=None]"
     ]
    },
    {
     "name": "stdout",
     "output_type": "stream",
     "text": [
      "left_curverad 8279.139708509038\n",
      "left_curverad 6384.984877518311\n",
      "a2 8.114793359175718e-05\n",
      "b2 -0.27169830749454826\n",
      "c2 1160.8682531228828\n",
      "\n"
     ]
    },
    {
     "name": "stderr",
     "output_type": "stream",
     "text": [
      "\r",
      "t:  93%|█████████▎| 233/250 [06:01<00:21,  1.25s/it, now=None]"
     ]
    },
    {
     "name": "stdout",
     "output_type": "stream",
     "text": [
      "left_curverad 8005.129956041427\n",
      "left_curverad 6689.030134356696\n",
      "a2 7.751268805535587e-05\n",
      "b2 -0.26797796638886395\n",
      "c2 1160.6210441017513\n",
      "\n"
     ]
    },
    {
     "name": "stderr",
     "output_type": "stream",
     "text": [
      "\r",
      "t:  94%|█████████▎| 234/250 [06:02<00:18,  1.13s/it, now=None]"
     ]
    },
    {
     "name": "stdout",
     "output_type": "stream",
     "text": [
      "left_curverad 7391.885611671878\n",
      "left_curverad 7495.5847544323005\n",
      "a2 6.906862975799606e-05\n",
      "b2 -0.25253877146587755\n",
      "c2 1156.6927966135638\n",
      "\n"
     ]
    },
    {
     "name": "stderr",
     "output_type": "stream",
     "text": [
      "\r",
      "t:  94%|█████████▍| 235/250 [06:03<00:15,  1.04s/it, now=None]"
     ]
    },
    {
     "name": "stdout",
     "output_type": "stream",
     "text": [
      "left_curverad 7232.063198959196\n",
      "left_curverad 8015.147633038691\n",
      "a2 6.487732261712568e-05\n",
      "b2 -0.2560624847592664\n",
      "c2 1159.4449968892802\n",
      "\n"
     ]
    },
    {
     "name": "stderr",
     "output_type": "stream",
     "text": [
      "\r",
      "t:  94%|█████████▍| 236/250 [06:04<00:13,  1.01it/s, now=None]"
     ]
    },
    {
     "name": "stdout",
     "output_type": "stream",
     "text": [
      "left_curverad 6713.426790468762\n",
      "left_curverad 6992.876297341804\n",
      "a2 7.39406965998362e-05\n",
      "b2 -0.2567155213893561\n",
      "c2 1157.8396632955264\n",
      "\n"
     ]
    },
    {
     "name": "stderr",
     "output_type": "stream",
     "text": [
      "\r",
      "t:  95%|█████████▍| 237/250 [06:07<00:22,  1.74s/it, now=None]"
     ]
    },
    {
     "name": "stdout",
     "output_type": "stream",
     "text": [
      "left_curverad 6217.987570621713\n",
      "left_curverad 6369.951754500726\n",
      "a2 8.094084013599065e-05\n",
      "b2 -0.26019529698707816\n",
      "c2 1155.9704109330396\n",
      "\n"
     ]
    },
    {
     "name": "stderr",
     "output_type": "stream",
     "text": [
      "\r",
      "t:  95%|█████████▌| 238/250 [06:08<00:18,  1.53s/it, now=None]"
     ]
    },
    {
     "name": "stdout",
     "output_type": "stream",
     "text": [
      "left_curverad 5660.723862603192\n",
      "left_curverad 5095.057953581397\n",
      "a2 0.00010044018473727625\n",
      "b2 -0.26934909902714405\n",
      "c2 1155.291846655379\n",
      "\n"
     ]
    },
    {
     "name": "stderr",
     "output_type": "stream",
     "text": [
      "\r",
      "t:  96%|█████████▌| 239/250 [06:09<00:14,  1.35s/it, now=None]"
     ]
    },
    {
     "name": "stdout",
     "output_type": "stream",
     "text": [
      "left_curverad 5278.003898966478\n",
      "left_curverad 4459.8892408680695\n",
      "a2 0.00011428499230561876\n",
      "b2 -0.2778749084393446\n",
      "c2 1154.9193822694538\n",
      "\n"
     ]
    },
    {
     "name": "stderr",
     "output_type": "stream",
     "text": [
      "\r",
      "t:  96%|█████████▌| 240/250 [06:13<00:19,  1.98s/it, now=None]"
     ]
    },
    {
     "name": "stdout",
     "output_type": "stream",
     "text": [
      "left_curverad 5257.342032434392\n",
      "left_curverad 4054.6757442592825\n",
      "a2 0.00012539879701101882\n",
      "b2 -0.2863286816544679\n",
      "c2 1155.223219329479\n",
      "\n"
     ]
    },
    {
     "name": "stderr",
     "output_type": "stream",
     "text": [
      "\r",
      "t:  96%|█████████▋| 241/250 [06:14<00:15,  1.69s/it, now=None]"
     ]
    },
    {
     "name": "stdout",
     "output_type": "stream",
     "text": [
      "left_curverad 5121.848419524872\n",
      "left_curverad 3913.6264122120433\n",
      "a2 0.00012980672455856305\n",
      "b2 -0.2899013603557343\n",
      "c2 1155.3516359309237\n",
      "\n"
     ]
    },
    {
     "name": "stderr",
     "output_type": "stream",
     "text": [
      "\r",
      "t:  97%|█████████▋| 242/250 [06:15<00:11,  1.46s/it, now=None]"
     ]
    },
    {
     "name": "stdout",
     "output_type": "stream",
     "text": [
      "left_curverad 4995.53480780119\n",
      "left_curverad 3750.9248163029924\n",
      "a2 0.00013529034507005504\n",
      "b2 -0.29418328538183747\n",
      "c2 1154.3712713667167\n",
      "\n"
     ]
    },
    {
     "name": "stderr",
     "output_type": "stream",
     "text": [
      "\r",
      "t:  97%|█████████▋| 243/250 [06:16<00:09,  1.31s/it, now=None]"
     ]
    },
    {
     "name": "stdout",
     "output_type": "stream",
     "text": [
      "left_curverad 4916.524960156595\n",
      "left_curverad 3496.0756437901246\n",
      "a2 0.0001448428291749326\n",
      "b2 -0.30042872398213394\n",
      "c2 1153.5276638529738\n",
      "\n"
     ]
    },
    {
     "name": "stderr",
     "output_type": "stream",
     "text": [
      "\r",
      "t:  98%|█████████▊| 244/250 [06:19<00:11,  1.91s/it, now=None]"
     ]
    },
    {
     "name": "stdout",
     "output_type": "stream",
     "text": [
      "left_curverad 5470.427283825157\n",
      "left_curverad 4608.952453837258\n",
      "a2 0.00011087298056423772\n",
      "b2 -0.2803666869225259\n",
      "c2 1153.2588474756762\n",
      "\n"
     ]
    },
    {
     "name": "stderr",
     "output_type": "stream",
     "text": [
      "\r",
      "t:  98%|█████████▊| 245/250 [06:20<00:07,  1.58s/it, now=None]"
     ]
    },
    {
     "name": "stdout",
     "output_type": "stream",
     "text": [
      "left_curverad 5873.232210952971\n",
      "left_curverad 4744.930986623221\n",
      "a2 0.00010771174546693254\n",
      "b2 -0.27623879032489057\n",
      "c2 1150.0461234997279\n",
      "\n"
     ]
    },
    {
     "name": "stderr",
     "output_type": "stream",
     "text": [
      "\r",
      "t:  98%|█████████▊| 246/250 [06:21<00:05,  1.44s/it, now=None]"
     ]
    },
    {
     "name": "stdout",
     "output_type": "stream",
     "text": [
      "left_curverad 5969.898517421685\n",
      "left_curverad 4541.862795574553\n",
      "a2 0.00011232940760017967\n",
      "b2 -0.2778653528032698\n",
      "c2 1150.7585592112432\n",
      "\n"
     ]
    },
    {
     "name": "stderr",
     "output_type": "stream",
     "text": [
      "\r",
      "t:  99%|█████████▉| 247/250 [06:22<00:03,  1.29s/it, now=None]"
     ]
    },
    {
     "name": "stdout",
     "output_type": "stream",
     "text": [
      "left_curverad 5962.687443849347\n",
      "left_curverad 4528.12723864114\n",
      "a2 0.00011272127159941339\n",
      "b2 -0.27973912623826663\n",
      "c2 1151.6784961463782\n",
      "\n"
     ]
    },
    {
     "name": "stderr",
     "output_type": "stream",
     "text": [
      "\r",
      "t:  99%|█████████▉| 248/250 [06:25<00:03,  1.89s/it, now=None]"
     ]
    },
    {
     "name": "stdout",
     "output_type": "stream",
     "text": [
      "left_curverad 5993.077756837905\n",
      "left_curverad 4506.944336156796\n",
      "a2 0.00011325976296879254\n",
      "b2 -0.28073380807338627\n",
      "c2 1152.5266593936433\n",
      "\n"
     ]
    },
    {
     "name": "stderr",
     "output_type": "stream",
     "text": [
      "\r",
      "t: 100%|█████████▉| 249/250 [06:26<00:01,  1.68s/it, now=None]"
     ]
    },
    {
     "name": "stdout",
     "output_type": "stream",
     "text": [
      "left_curverad 5999.362857737565\n",
      "left_curverad 4291.4127419540855\n",
      "a2 0.00011876986242638171\n",
      "b2 -0.28427801095654953\n",
      "c2 1153.6828282916651\n",
      "\n"
     ]
    },
    {
     "name": "stderr",
     "output_type": "stream",
     "text": [
      "\r",
      "t: 100%|██████████| 250/250 [06:27<00:00,  1.56s/it, now=None]"
     ]
    },
    {
     "name": "stdout",
     "output_type": "stream",
     "text": [
      "left_curverad 5877.916473683395\n",
      "left_curverad 4001.127758799194\n",
      "a2 0.0001271566095614169\n",
      "b2 -0.2908289884327672\n",
      "c2 1155.4920409808913\n",
      "\n"
     ]
    },
    {
     "name": "stderr",
     "output_type": "stream",
     "text": [
      "\r",
      "                                                              "
     ]
    },
    {
     "name": "stdout",
     "output_type": "stream",
     "text": [
      "left_curverad 5831.039960240255\n",
      "left_curverad 3906.1247208468412\n",
      "a2 0.00013023090891876312\n",
      "b2 -0.2948089949449416\n",
      "c2 1157.2098520297104\n",
      "\n"
     ]
    },
    {
     "name": "stderr",
     "output_type": "stream",
     "text": [
      "\r"
     ]
    },
    {
     "name": "stdout",
     "output_type": "stream",
     "text": [
      "Moviepy - Done !\n",
      "Moviepy - video ready output_files/video_clips/project_video_with_history_initial_condition_removed.mp4\n",
      "Wall time: 6min 33s\n"
     ]
    }
   ],
   "source": [
    "# Define a class to receive the characteristics of each line detection\n",
    "class Line():\n",
    "    def __init__(self):\n",
    "        #Let's count the number of consecutive frames\n",
    "        self.count = 0\n",
    "        # was the line detected in the last iteration?\n",
    "        self.detected = False  \n",
    "        #polynomial coefficients for the most recent fit\n",
    "        self.curve_fit = []  \n",
    "        # Traking variance for the right lane\n",
    "        self.variance = []\n",
    "        #difference in fit coefficients between last and new fits. Just store the difference in coefficients for the last frame\n",
    "        self.coeff_diff = [[0,0,0],[0,0,0]]       \n",
    "        #Lane width measured at the start of reset\n",
    "        self.lane_width = 0\n",
    "        #Let's track the midpoint of the previous frame\n",
    "        self.lane_bottom_centre = 0\n",
    "        #radius of curvature of the line in some units\n",
    "        self.rad_curv = []\n",
    "        \n",
    "        \n",
    "        # x values of the curve that we fit intially\n",
    "        #self.current_xfitted = []\n",
    "        # x values for detected line pixels\n",
    "        #self.allx = []  \n",
    "        # y values for detected line pixels\n",
    "        #self.ally = []\n",
    "        \n",
    "        # x values of the last n fits of the line\n",
    "        self.recent_xfitted = [] \n",
    "        #average x values of the fitted line over the last n iterations\n",
    "        self.bestx = None     \n",
    "        #polynomial coefficients averaged over the last n iterations\n",
    "        self.best_fit = None  \n",
    "        #radius of curvature of the line in some units\n",
    "        self.radius_of_curvature = None \n",
    "        #distance in meters of vehicle center from the line\n",
    "        self.line_base_pos = None \n",
    "        \n",
    "lane=Line()\n",
    "\n",
    "project_output = 'output_files/video_clips/project_video_with_history_initial_condition_removed.mp4'\n",
    "\n",
    "clip1 = VideoFileClip(\"project_video.mp4\").subclip(35,45)\n",
    "#clip1 = VideoFileClip(\"project_video.mp4\").subclip(15,25)\n",
    "\n",
    "project_clip = clip1.fl_image(process_image) #NOTE: this function expects color images! \n",
    "%time project_clip.write_videofile(project_output, audio=False)"
   ]
  },
  {
   "cell_type": "code",
   "execution_count": 3,
   "metadata": {},
   "outputs": [
    {
     "data": {
      "text/html": [
       "\n",
       "<video width=\"960\" height=\"540\" controls>\n",
       "  <source src=\"output_files/video_clips/project_video_with_history_initial_condition_removed.mp4\">\n",
       "</video>\n"
      ],
      "text/plain": [
       "<IPython.core.display.HTML object>"
      ]
     },
     "execution_count": 3,
     "metadata": {},
     "output_type": "execute_result"
    }
   ],
   "source": [
    "HTML(\"\"\"\n",
    "<video width=\"960\" height=\"540\" controls>\n",
    "  <source src=\"{0}\">\n",
    "</video>\n",
    "\"\"\".format(project_output))"
   ]
  },
  {
   "cell_type": "markdown",
   "metadata": {},
   "source": [
    "."
   ]
  },
  {
   "cell_type": "code",
   "execution_count": null,
   "metadata": {
    "scrolled": true
   },
   "outputs": [],
   "source": []
  },
  {
   "cell_type": "code",
   "execution_count": null,
   "metadata": {},
   "outputs": [],
   "source": []
  }
 ],
 "metadata": {
  "kernelspec": {
   "display_name": "Python 3",
   "language": "python",
   "name": "python3"
  },
  "language_info": {
   "codemirror_mode": {
    "name": "ipython",
    "version": 3
   },
   "file_extension": ".py",
   "mimetype": "text/x-python",
   "name": "python",
   "nbconvert_exporter": "python",
   "pygments_lexer": "ipython3",
   "version": "3.8.3"
  }
 },
 "nbformat": 4,
 "nbformat_minor": 4
}
